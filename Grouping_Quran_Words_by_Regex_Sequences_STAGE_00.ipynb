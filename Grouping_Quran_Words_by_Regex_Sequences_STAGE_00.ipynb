{
 "cells": [
  {
   "cell_type": "markdown",
   "metadata": {},
   "source": [
    "# THIS FIRST PART OF THIS NOTEBOOK IS MY WORK; IT'S GOOD BUT INCOMPLETE;\n",
    "# Algorithm Interviews Questions deal with this kind of problems a lot;\n",
    "# It's called Sliding Window Problem"
   ]
  },
  {
   "cell_type": "code",
   "execution_count": 1,
   "metadata": {},
   "outputs": [],
   "source": [
    "import regex as re"
   ]
  },
  {
   "cell_type": "code",
   "execution_count": 2,
   "metadata": {},
   "outputs": [],
   "source": [
    "import pandas as pd"
   ]
  },
  {
   "cell_type": "code",
   "execution_count": 3,
   "metadata": {},
   "outputs": [],
   "source": [
    "import os"
   ]
  },
  {
   "cell_type": "code",
   "execution_count": 4,
   "metadata": {},
   "outputs": [],
   "source": [
    "from itertools import chain"
   ]
  },
  {
   "cell_type": "code",
   "execution_count": 5,
   "metadata": {},
   "outputs": [],
   "source": [
    "from collections import Counter"
   ]
  },
  {
   "cell_type": "code",
   "execution_count": null,
   "metadata": {},
   "outputs": [],
   "source": []
  },
  {
   "cell_type": "code",
   "execution_count": 6,
   "metadata": {},
   "outputs": [],
   "source": [
    "with open('Quran_Aya_Per_Line.txt', encoding='utf-8') as f:\n",
    "    chars = [i.strip() for i in set(f.read()) if i]\n",
    "    chars = set(i for i in chars if i)"
   ]
  },
  {
   "cell_type": "code",
   "execution_count": 7,
   "metadata": {},
   "outputs": [],
   "source": [
    "from itertools import permutations"
   ]
  },
  {
   "cell_type": "code",
   "execution_count": null,
   "metadata": {},
   "outputs": [],
   "source": []
  },
  {
   "cell_type": "code",
   "execution_count": 8,
   "metadata": {},
   "outputs": [],
   "source": [
    "test_01 = list(range(1,5))"
   ]
  },
  {
   "cell_type": "code",
   "execution_count": 9,
   "metadata": {},
   "outputs": [
    {
     "data": {
      "text/plain": [
       "4"
      ]
     },
     "execution_count": 9,
     "metadata": {},
     "output_type": "execute_result"
    }
   ],
   "source": [
    "len(test_01)"
   ]
  },
  {
   "cell_type": "code",
   "execution_count": 10,
   "metadata": {},
   "outputs": [],
   "source": [
    "test_02 = set(permutations(test_01, 3))"
   ]
  },
  {
   "cell_type": "code",
   "execution_count": 11,
   "metadata": {},
   "outputs": [
    {
     "data": {
      "text/plain": [
       "24"
      ]
     },
     "execution_count": 11,
     "metadata": {},
     "output_type": "execute_result"
    }
   ],
   "source": [
    "len(test_02)"
   ]
  },
  {
   "cell_type": "code",
   "execution_count": 12,
   "metadata": {},
   "outputs": [],
   "source": [
    "test_02.update([(1,4,2), (1,3,3)])"
   ]
  },
  {
   "cell_type": "code",
   "execution_count": 13,
   "metadata": {},
   "outputs": [
    {
     "data": {
      "text/plain": [
       "25"
      ]
     },
     "execution_count": 13,
     "metadata": {},
     "output_type": "execute_result"
    }
   ],
   "source": [
    "len(test_02)"
   ]
  },
  {
   "cell_type": "code",
   "execution_count": null,
   "metadata": {},
   "outputs": [],
   "source": []
  },
  {
   "cell_type": "code",
   "execution_count": 14,
   "metadata": {},
   "outputs": [],
   "source": [
    "possible_tri_ar_chars = set(permutations(chars, 3))"
   ]
  },
  {
   "cell_type": "code",
   "execution_count": 15,
   "metadata": {},
   "outputs": [
    {
     "data": {
      "text/plain": [
       "42840"
      ]
     },
     "execution_count": 15,
     "metadata": {},
     "output_type": "execute_result"
    }
   ],
   "source": [
    "len(possible_tri_ar_chars)"
   ]
  },
  {
   "cell_type": "code",
   "execution_count": 16,
   "metadata": {},
   "outputs": [],
   "source": [
    "set_possible_tri_ar_chars = set(\"\".join(i) for  i in possible_tri_ar_chars)"
   ]
  },
  {
   "cell_type": "code",
   "execution_count": 17,
   "metadata": {},
   "outputs": [],
   "source": [
    "with open('Quran_Aya_Per_Line.txt', encoding='utf-8') as f:\n",
    "    lines = [line.strip() for line in f.readlines()]\n",
    "    words = set(chain(*[[word for word in line.split()] for line in lines]))"
   ]
  },
  {
   "cell_type": "code",
   "execution_count": null,
   "metadata": {},
   "outputs": [],
   "source": []
  },
  {
   "cell_type": "code",
   "execution_count": null,
   "metadata": {},
   "outputs": [],
   "source": []
  },
  {
   "cell_type": "code",
   "execution_count": 31,
   "metadata": {},
   "outputs": [],
   "source": [
    "df_words = pd.DataFrame(data={'WORDS': list(words)})"
   ]
  },
  {
   "cell_type": "code",
   "execution_count": null,
   "metadata": {},
   "outputs": [],
   "source": []
  },
  {
   "cell_type": "code",
   "execution_count": 32,
   "metadata": {},
   "outputs": [],
   "source": [
    "def ncsub(seq, s=0):\n",
    "    if seq:\n",
    "        x = seq[:1]\n",
    "        xs = seq[1:]\n",
    "        p2 = s % 2\n",
    "        p1 = not p2\n",
    "        return [x + ys for ys in ncsub(xs, s + p1)] + ncsub(xs, s + p2)\n",
    "    else:\n",
    "        return [[]] if s >= 3 else []"
   ]
  },
  {
   "cell_type": "code",
   "execution_count": null,
   "metadata": {},
   "outputs": [],
   "source": []
  },
  {
   "cell_type": "code",
   "execution_count": 33,
   "metadata": {},
   "outputs": [],
   "source": [
    "df_words['SL_WIN'] = df_words['WORDS'].apply(lambda x: [''.join(i) for i in ncsub(list(x))])\n",
    "df_words['SL_WIN_ALG_TRI'] = df_words.SL_WIN.apply(lambda x: [i for i in x if len(i)==3])\n",
    "df_words['SL_WIN_ALG_TETRA'] = df_words.SL_WIN.apply(lambda x: [i for i in x if len(i)==4])"
   ]
  },
  {
   "cell_type": "code",
   "execution_count": 34,
   "metadata": {},
   "outputs": [],
   "source": [
    "df_words = df_words.explode(['SL_WIN_ALG_TRI']).explode([\"SL_WIN_ALG_TETRA\"]).reset_index(drop=True)"
   ]
  },
  {
   "cell_type": "code",
   "execution_count": 26,
   "metadata": {},
   "outputs": [],
   "source": [
    "df_words_grps = df_words.groupby(\"SL_WIN_ALG_TRI \tSL_WIN_ALG_TETRA\".split(), as_index=False).agg({\n",
    "'WORDS' : lambda x: x.tolist()\n",
    "})"
   ]
  },
  {
   "cell_type": "code",
   "execution_count": 29,
   "metadata": {},
   "outputs": [],
   "source": []
  },
  {
   "cell_type": "code",
   "execution_count": 36,
   "metadata": {},
   "outputs": [],
   "source": []
  },
  {
   "cell_type": "code",
   "execution_count": 41,
   "metadata": {},
   "outputs": [],
   "source": [
    "df_words_grps.WORDS = df_words_grps['WORDS'].apply(lambda x: list(set(x)))"
   ]
  },
  {
   "cell_type": "code",
   "execution_count": 42,
   "metadata": {},
   "outputs": [],
   "source": [
    "df_words_grps['COUNT_OF_WORDS_PER_GRAM_COMB'] = df_words_grps['WORDS'].apply(lambda x: len(x))"
   ]
  },
  {
   "cell_type": "code",
   "execution_count": 43,
   "metadata": {},
   "outputs": [],
   "source": [
    "df_words_grps = df_words_grps.sort_values(['COUNT_OF_WORDS_PER_GRAM_COMB'], ascending=False).reset_index(drop=True)"
   ]
  },
  {
   "cell_type": "code",
   "execution_count": 55,
   "metadata": {
    "tags": []
   },
   "outputs": [
    {
     "name": "stdout",
     "output_type": "stream",
     "text": [
      "والأحزاب الأنعام الأنبياء الأحبار الأسماء الأنباء الأقاويل الألواح الأغنياء الأمثال والأرحام بالأسحار والأنعام الأرحام الأخيار الأوليان الأزواج الأقدام الأذقان الأبصار بالأزلام الأوثان والأعناق الأيمان الأصوات بالأبصار وبالأسحار الأحمال الأعداء والأنصار والأحبار البأساء كالأعلام الأعراف الأغلال الأجداث الأنامل بالبأساء الأسباب بالألقاب والأبصار الأشهاد والأولاد الأخلاء الأنهار والأنصاب والأعناب الأرائك الأماني الألباب الأعراب الأحياء الأبواب كالأنعام الأصنام الأدبار والأغلال الأبرار الأصفاد بالأحقاف الأيام الأكمام الأحاديث الأنفال الأموات والأزلام الأمانة الأمانات الأيامى الأعناق الأموال الأشرار الأطفال والأقدام والأسباط الأحلام الأوتاد الأحزاب الأسواق "
     ]
    }
   ],
   "source": [
    "for i in set(chain(*df_words_grps.iloc[214:216]['WORDS'])):\n",
    "    print(i, end=' ')"
   ]
  },
  {
   "cell_type": "code",
   "execution_count": 54,
   "metadata": {},
   "outputs": [
    {
     "data": {
      "text/plain": [
       "0          [الأخسرين, غافلين, صالحين, والصابرين, والعاكفي...\n",
       "1          [الأخسرين, غافلين, صالحين, والصابرين, والعاكفي...\n",
       "2          [الأخسرين, غافلين, صالحين, والصابرين, والعاكفي...\n",
       "3          [الأخسرين, صالحين, والصابرين, والعاكفين, المسر...\n",
       "4          [المزن, المسرفين, والغارمين, المهتدين, المستكب...\n",
       "                                 ...                        \n",
       "4509943                                           [وذرياتهم]\n",
       "4509944                                            [وأنبتها]\n",
       "4509945                                           [وأمهاتكم]\n",
       "4509946                                          [والذاكرين]\n",
       "4509947                                             [يحييها]\n",
       "Name: WORDS, Length: 4509948, dtype: object"
      ]
     },
     "execution_count": 54,
     "metadata": {},
     "output_type": "execute_result"
    }
   ],
   "source": [
    "df_words_grps['WORDS']"
   ]
  },
  {
   "cell_type": "code",
   "execution_count": 58,
   "metadata": {},
   "outputs": [],
   "source": [
    "#df_words_grps.to_pickle('QURAN_REGEX_CHAR_SEQ_PATTERNS.pkl', protocol=4)"
   ]
  },
  {
   "cell_type": "code",
   "execution_count": null,
   "metadata": {},
   "outputs": [],
   "source": []
  }
 ],
 "metadata": {
  "environment": {
   "kernel": "python3",
   "name": "common-cpu.m93",
   "type": "gcloud",
   "uri": "gcr.io/deeplearning-platform-release/base-cpu:m93"
  },
  "kernelspec": {
   "display_name": "Python 3",
   "language": "python",
   "name": "python3"
  },
  "language_info": {
   "codemirror_mode": {
    "name": "ipython",
    "version": 3
   },
   "file_extension": ".py",
   "mimetype": "text/x-python",
   "name": "python",
   "nbconvert_exporter": "python",
   "pygments_lexer": "ipython3",
   "version": "3.8.7"
  }
 },
 "nbformat": 4,
 "nbformat_minor": 5
}
