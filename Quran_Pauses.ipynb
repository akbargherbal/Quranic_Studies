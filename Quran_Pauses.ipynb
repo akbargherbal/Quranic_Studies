{
 "cells": [
  {
   "cell_type": "code",
   "execution_count": 1,
   "metadata": {},
   "outputs": [],
   "source": [
    "import pandas as pd"
   ]
  },
  {
   "cell_type": "code",
   "execution_count": 2,
   "metadata": {},
   "outputs": [],
   "source": [
    "import regex as re"
   ]
  },
  {
   "cell_type": "code",
   "execution_count": 3,
   "metadata": {},
   "outputs": [],
   "source": [
    "from itertools import chain\n",
    "from collections import Counter"
   ]
  },
  {
   "cell_type": "code",
   "execution_count": 4,
   "metadata": {},
   "outputs": [],
   "source": [
    "path = r\"quran-simple-clean.txt\""
   ]
  },
  {
   "cell_type": "code",
   "execution_count": 5,
   "metadata": {},
   "outputs": [],
   "source": [
    "with open(path, encoding='utf-8') as f:\n",
    "    quran = [line.strip() for line in f.readlines()]\n",
    "    quran = [line for line in quran if line]"
   ]
  },
  {
   "cell_type": "code",
   "execution_count": 6,
   "metadata": {},
   "outputs": [],
   "source": [
    "df = pd.DataFrame(data={'Q': quran})"
   ]
  },
  {
   "cell_type": "code",
   "execution_count": 7,
   "metadata": {},
   "outputs": [],
   "source": [
    "df['Q'] = df.Q.apply(lambda x: x.split('|'))"
   ]
  },
  {
   "cell_type": "code",
   "execution_count": 8,
   "metadata": {},
   "outputs": [
    {
     "data": {
      "text/html": [
       "<div>\n",
       "<style scoped>\n",
       "    .dataframe tbody tr th:only-of-type {\n",
       "        vertical-align: middle;\n",
       "    }\n",
       "\n",
       "    .dataframe tbody tr th {\n",
       "        vertical-align: top;\n",
       "    }\n",
       "\n",
       "    .dataframe thead th {\n",
       "        text-align: right;\n",
       "    }\n",
       "</style>\n",
       "<table border=\"1\" class=\"dataframe\">\n",
       "  <thead>\n",
       "    <tr style=\"text-align: right;\">\n",
       "      <th></th>\n",
       "      <th>Q</th>\n",
       "    </tr>\n",
       "  </thead>\n",
       "  <tbody>\n",
       "    <tr>\n",
       "      <th>0</th>\n",
       "      <td>[1, 1, بسم الله الرحمن الرحيم]</td>\n",
       "    </tr>\n",
       "    <tr>\n",
       "      <th>1</th>\n",
       "      <td>[1, 2, الحمد لله رب العالمين]</td>\n",
       "    </tr>\n",
       "    <tr>\n",
       "      <th>2</th>\n",
       "      <td>[1, 3, الرحمن الرحيم]</td>\n",
       "    </tr>\n",
       "    <tr>\n",
       "      <th>3</th>\n",
       "      <td>[1, 4, مالك يوم الدين]</td>\n",
       "    </tr>\n",
       "    <tr>\n",
       "      <th>4</th>\n",
       "      <td>[1, 5, إياك نعبد وإياك نستعين]</td>\n",
       "    </tr>\n",
       "    <tr>\n",
       "      <th>...</th>\n",
       "      <td>...</td>\n",
       "    </tr>\n",
       "    <tr>\n",
       "      <th>6231</th>\n",
       "      <td>[114, 2, ملك الناس]</td>\n",
       "    </tr>\n",
       "    <tr>\n",
       "      <th>6232</th>\n",
       "      <td>[114, 3, إله الناس]</td>\n",
       "    </tr>\n",
       "    <tr>\n",
       "      <th>6233</th>\n",
       "      <td>[114, 4, من شر الوسواس الخناس]</td>\n",
       "    </tr>\n",
       "    <tr>\n",
       "      <th>6234</th>\n",
       "      <td>[114, 5, الذي يوسوس في صدور الناس]</td>\n",
       "    </tr>\n",
       "    <tr>\n",
       "      <th>6235</th>\n",
       "      <td>[114, 6, من الجنة والناس]</td>\n",
       "    </tr>\n",
       "  </tbody>\n",
       "</table>\n",
       "<p>6236 rows × 1 columns</p>\n",
       "</div>"
      ],
      "text/plain": [
       "                                       Q\n",
       "0         [1, 1, بسم الله الرحمن الرحيم]\n",
       "1          [1, 2, الحمد لله رب العالمين]\n",
       "2                  [1, 3, الرحمن الرحيم]\n",
       "3                 [1, 4, مالك يوم الدين]\n",
       "4         [1, 5, إياك نعبد وإياك نستعين]\n",
       "...                                  ...\n",
       "6231                 [114, 2, ملك الناس]\n",
       "6232                 [114, 3, إله الناس]\n",
       "6233      [114, 4, من شر الوسواس الخناس]\n",
       "6234  [114, 5, الذي يوسوس في صدور الناس]\n",
       "6235           [114, 6, من الجنة والناس]\n",
       "\n",
       "[6236 rows x 1 columns]"
      ]
     },
     "execution_count": 8,
     "metadata": {},
     "output_type": "execute_result"
    }
   ],
   "source": [
    "df"
   ]
  },
  {
   "cell_type": "code",
   "execution_count": 9,
   "metadata": {},
   "outputs": [],
   "source": [
    "df['SURA_NO'] = df.Q.apply(lambda x: x[0])"
   ]
  },
  {
   "cell_type": "code",
   "execution_count": 10,
   "metadata": {},
   "outputs": [],
   "source": [
    "df['AYA_NO'] = df.Q.apply(lambda x: x[1])"
   ]
  },
  {
   "cell_type": "code",
   "execution_count": 11,
   "metadata": {},
   "outputs": [],
   "source": [
    "df['AYA'] = df.Q.apply(lambda x: x[2])"
   ]
  },
  {
   "cell_type": "code",
   "execution_count": 12,
   "metadata": {},
   "outputs": [],
   "source": [
    "set_chars = set(chain(*df['AYA']))"
   ]
  },
  {
   "cell_type": "code",
   "execution_count": 13,
   "metadata": {},
   "outputs": [],
   "source": [
    "set_chars = sorted(list(set_chars))"
   ]
  },
  {
   "cell_type": "code",
   "execution_count": 14,
   "metadata": {},
   "outputs": [
    {
     "name": "stdout",
     "output_type": "stream",
     "text": [
      "ۖ\n",
      "ۗ\n",
      "ۘ\n",
      "ۙ\n",
      "ۚ\n",
      "ۛ\n",
      "ۜ\n"
     ]
    }
   ],
   "source": [
    "for i in set_chars[-7:]:\n",
    "    print(i)"
   ]
  },
  {
   "cell_type": "code",
   "execution_count": 15,
   "metadata": {},
   "outputs": [],
   "source": [
    "df = df.drop(columns=['Q'])"
   ]
  },
  {
   "cell_type": "code",
   "execution_count": 16,
   "metadata": {},
   "outputs": [],
   "source": [
    "df['LEN_AYA'] = df['AYA'].apply(lambda x: len(x.split()))"
   ]
  },
  {
   "cell_type": "code",
   "execution_count": 17,
   "metadata": {},
   "outputs": [],
   "source": [
    "dict_sura_name = pd.read_excel('../DATASETS/quran_sura_names_numbers.xlsx')"
   ]
  },
  {
   "cell_type": "code",
   "execution_count": 18,
   "metadata": {},
   "outputs": [],
   "source": [
    "dict_sura_name = dict(zip(dict_sura_name.SURA_NO, dict_sura_name.AR_NAME))"
   ]
  },
  {
   "cell_type": "code",
   "execution_count": 19,
   "metadata": {},
   "outputs": [],
   "source": [
    "df['SURA_NAME'] = df.SURA_NO.apply(lambda x:  dict_sura_name[int(x)])"
   ]
  },
  {
   "cell_type": "code",
   "execution_count": 20,
   "metadata": {},
   "outputs": [],
   "source": [
    "with open('../DATASETS/Quran_Aya_Per_Line.txt', encoding='utf-8') as f:\n",
    "    ar_clean_char = set(f.read())\n",
    "    ar_clean_char = [i.strip() for i in ar_clean_char]\n",
    "    ar_clean_char = [i for i in ar_clean_char if i]\n",
    "    ar_clean_char = sorted(ar_clean_char)"
   ]
  },
  {
   "cell_type": "code",
   "execution_count": 21,
   "metadata": {},
   "outputs": [],
   "source": [
    "pat_ar_clean_char = ''.join(ar_clean_char)"
   ]
  },
  {
   "cell_type": "code",
   "execution_count": 22,
   "metadata": {},
   "outputs": [],
   "source": [
    "df.SURA_NAME = df.SURA_NAME.apply(lambda x: re.sub(f\"[^{pat_ar_clean_char}]\", '', x).strip())"
   ]
  },
  {
   "cell_type": "code",
   "execution_count": 23,
   "metadata": {},
   "outputs": [],
   "source": [
    "df['SURA_NAME'] = df['SURA_NAME'].apply(lambda x: x[3:] if x[:3]== 'سور' else x)"
   ]
  },
  {
   "cell_type": "code",
   "execution_count": 24,
   "metadata": {},
   "outputs": [
    {
     "data": {
      "text/html": [
       "<div>\n",
       "<style scoped>\n",
       "    .dataframe tbody tr th:only-of-type {\n",
       "        vertical-align: middle;\n",
       "    }\n",
       "\n",
       "    .dataframe tbody tr th {\n",
       "        vertical-align: top;\n",
       "    }\n",
       "\n",
       "    .dataframe thead th {\n",
       "        text-align: right;\n",
       "    }\n",
       "</style>\n",
       "<table border=\"1\" class=\"dataframe\">\n",
       "  <thead>\n",
       "    <tr style=\"text-align: right;\">\n",
       "      <th></th>\n",
       "      <th>SURA_NO</th>\n",
       "      <th>AYA_NO</th>\n",
       "      <th>AYA</th>\n",
       "      <th>LEN_AYA</th>\n",
       "      <th>SURA_NAME</th>\n",
       "    </tr>\n",
       "  </thead>\n",
       "  <tbody>\n",
       "    <tr>\n",
       "      <th>0</th>\n",
       "      <td>1</td>\n",
       "      <td>1</td>\n",
       "      <td>بسم الله الرحمن الرحيم</td>\n",
       "      <td>4</td>\n",
       "      <td>الفاتحة</td>\n",
       "    </tr>\n",
       "    <tr>\n",
       "      <th>1</th>\n",
       "      <td>1</td>\n",
       "      <td>2</td>\n",
       "      <td>الحمد لله رب العالمين</td>\n",
       "      <td>4</td>\n",
       "      <td>الفاتحة</td>\n",
       "    </tr>\n",
       "    <tr>\n",
       "      <th>2</th>\n",
       "      <td>1</td>\n",
       "      <td>3</td>\n",
       "      <td>الرحمن الرحيم</td>\n",
       "      <td>2</td>\n",
       "      <td>الفاتحة</td>\n",
       "    </tr>\n",
       "    <tr>\n",
       "      <th>3</th>\n",
       "      <td>1</td>\n",
       "      <td>4</td>\n",
       "      <td>مالك يوم الدين</td>\n",
       "      <td>3</td>\n",
       "      <td>الفاتحة</td>\n",
       "    </tr>\n",
       "    <tr>\n",
       "      <th>4</th>\n",
       "      <td>1</td>\n",
       "      <td>5</td>\n",
       "      <td>إياك نعبد وإياك نستعين</td>\n",
       "      <td>4</td>\n",
       "      <td>الفاتحة</td>\n",
       "    </tr>\n",
       "    <tr>\n",
       "      <th>...</th>\n",
       "      <td>...</td>\n",
       "      <td>...</td>\n",
       "      <td>...</td>\n",
       "      <td>...</td>\n",
       "      <td>...</td>\n",
       "    </tr>\n",
       "    <tr>\n",
       "      <th>6231</th>\n",
       "      <td>114</td>\n",
       "      <td>2</td>\n",
       "      <td>ملك الناس</td>\n",
       "      <td>2</td>\n",
       "      <td>الناس</td>\n",
       "    </tr>\n",
       "    <tr>\n",
       "      <th>6232</th>\n",
       "      <td>114</td>\n",
       "      <td>3</td>\n",
       "      <td>إله الناس</td>\n",
       "      <td>2</td>\n",
       "      <td>الناس</td>\n",
       "    </tr>\n",
       "    <tr>\n",
       "      <th>6233</th>\n",
       "      <td>114</td>\n",
       "      <td>4</td>\n",
       "      <td>من شر الوسواس الخناس</td>\n",
       "      <td>4</td>\n",
       "      <td>الناس</td>\n",
       "    </tr>\n",
       "    <tr>\n",
       "      <th>6234</th>\n",
       "      <td>114</td>\n",
       "      <td>5</td>\n",
       "      <td>الذي يوسوس في صدور الناس</td>\n",
       "      <td>5</td>\n",
       "      <td>الناس</td>\n",
       "    </tr>\n",
       "    <tr>\n",
       "      <th>6235</th>\n",
       "      <td>114</td>\n",
       "      <td>6</td>\n",
       "      <td>من الجنة والناس</td>\n",
       "      <td>3</td>\n",
       "      <td>الناس</td>\n",
       "    </tr>\n",
       "  </tbody>\n",
       "</table>\n",
       "<p>6236 rows × 5 columns</p>\n",
       "</div>"
      ],
      "text/plain": [
       "     SURA_NO AYA_NO                       AYA  LEN_AYA SURA_NAME\n",
       "0          1      1    بسم الله الرحمن الرحيم        4   الفاتحة\n",
       "1          1      2     الحمد لله رب العالمين        4   الفاتحة\n",
       "2          1      3             الرحمن الرحيم        2   الفاتحة\n",
       "3          1      4            مالك يوم الدين        3   الفاتحة\n",
       "4          1      5    إياك نعبد وإياك نستعين        4   الفاتحة\n",
       "...      ...    ...                       ...      ...       ...\n",
       "6231     114      2                 ملك الناس        2     الناس\n",
       "6232     114      3                 إله الناس        2     الناس\n",
       "6233     114      4      من شر الوسواس الخناس        4     الناس\n",
       "6234     114      5  الذي يوسوس في صدور الناس        5     الناس\n",
       "6235     114      6           من الجنة والناس        3     الناس\n",
       "\n",
       "[6236 rows x 5 columns]"
      ]
     },
     "execution_count": 24,
     "metadata": {},
     "output_type": "execute_result"
    }
   ],
   "source": [
    "df"
   ]
  },
  {
   "cell_type": "code",
   "execution_count": null,
   "metadata": {},
   "outputs": [],
   "source": []
  },
  {
   "cell_type": "code",
   "execution_count": 25,
   "metadata": {},
   "outputs": [],
   "source": [
    "#df.to_pickle('QURAN_AYA_WITH_PAUSES.pkl', protocol=4)"
   ]
  },
  {
   "cell_type": "code",
   "execution_count": 26,
   "metadata": {},
   "outputs": [
    {
     "data": {
      "text/html": [
       "<div>\n",
       "<style scoped>\n",
       "    .dataframe tbody tr th:only-of-type {\n",
       "        vertical-align: middle;\n",
       "    }\n",
       "\n",
       "    .dataframe tbody tr th {\n",
       "        vertical-align: top;\n",
       "    }\n",
       "\n",
       "    .dataframe thead th {\n",
       "        text-align: right;\n",
       "    }\n",
       "</style>\n",
       "<table border=\"1\" class=\"dataframe\">\n",
       "  <thead>\n",
       "    <tr style=\"text-align: right;\">\n",
       "      <th></th>\n",
       "      <th>SURA_NO</th>\n",
       "      <th>AYA_NO</th>\n",
       "      <th>AYA</th>\n",
       "      <th>LEN_AYA</th>\n",
       "      <th>SURA_NAME</th>\n",
       "    </tr>\n",
       "  </thead>\n",
       "  <tbody>\n",
       "    <tr>\n",
       "      <th>0</th>\n",
       "      <td>1</td>\n",
       "      <td>1</td>\n",
       "      <td>بسم الله الرحمن الرحيم</td>\n",
       "      <td>4</td>\n",
       "      <td>الفاتحة</td>\n",
       "    </tr>\n",
       "    <tr>\n",
       "      <th>1</th>\n",
       "      <td>1</td>\n",
       "      <td>2</td>\n",
       "      <td>الحمد لله رب العالمين</td>\n",
       "      <td>4</td>\n",
       "      <td>الفاتحة</td>\n",
       "    </tr>\n",
       "    <tr>\n",
       "      <th>2</th>\n",
       "      <td>1</td>\n",
       "      <td>3</td>\n",
       "      <td>الرحمن الرحيم</td>\n",
       "      <td>2</td>\n",
       "      <td>الفاتحة</td>\n",
       "    </tr>\n",
       "    <tr>\n",
       "      <th>3</th>\n",
       "      <td>1</td>\n",
       "      <td>4</td>\n",
       "      <td>مالك يوم الدين</td>\n",
       "      <td>3</td>\n",
       "      <td>الفاتحة</td>\n",
       "    </tr>\n",
       "    <tr>\n",
       "      <th>4</th>\n",
       "      <td>1</td>\n",
       "      <td>5</td>\n",
       "      <td>إياك نعبد وإياك نستعين</td>\n",
       "      <td>4</td>\n",
       "      <td>الفاتحة</td>\n",
       "    </tr>\n",
       "    <tr>\n",
       "      <th>...</th>\n",
       "      <td>...</td>\n",
       "      <td>...</td>\n",
       "      <td>...</td>\n",
       "      <td>...</td>\n",
       "      <td>...</td>\n",
       "    </tr>\n",
       "    <tr>\n",
       "      <th>6231</th>\n",
       "      <td>114</td>\n",
       "      <td>2</td>\n",
       "      <td>ملك الناس</td>\n",
       "      <td>2</td>\n",
       "      <td>الناس</td>\n",
       "    </tr>\n",
       "    <tr>\n",
       "      <th>6232</th>\n",
       "      <td>114</td>\n",
       "      <td>3</td>\n",
       "      <td>إله الناس</td>\n",
       "      <td>2</td>\n",
       "      <td>الناس</td>\n",
       "    </tr>\n",
       "    <tr>\n",
       "      <th>6233</th>\n",
       "      <td>114</td>\n",
       "      <td>4</td>\n",
       "      <td>من شر الوسواس الخناس</td>\n",
       "      <td>4</td>\n",
       "      <td>الناس</td>\n",
       "    </tr>\n",
       "    <tr>\n",
       "      <th>6234</th>\n",
       "      <td>114</td>\n",
       "      <td>5</td>\n",
       "      <td>الذي يوسوس في صدور الناس</td>\n",
       "      <td>5</td>\n",
       "      <td>الناس</td>\n",
       "    </tr>\n",
       "    <tr>\n",
       "      <th>6235</th>\n",
       "      <td>114</td>\n",
       "      <td>6</td>\n",
       "      <td>من الجنة والناس</td>\n",
       "      <td>3</td>\n",
       "      <td>الناس</td>\n",
       "    </tr>\n",
       "  </tbody>\n",
       "</table>\n",
       "<p>6236 rows × 5 columns</p>\n",
       "</div>"
      ],
      "text/plain": [
       "     SURA_NO AYA_NO                       AYA  LEN_AYA SURA_NAME\n",
       "0          1      1    بسم الله الرحمن الرحيم        4   الفاتحة\n",
       "1          1      2     الحمد لله رب العالمين        4   الفاتحة\n",
       "2          1      3             الرحمن الرحيم        2   الفاتحة\n",
       "3          1      4            مالك يوم الدين        3   الفاتحة\n",
       "4          1      5    إياك نعبد وإياك نستعين        4   الفاتحة\n",
       "...      ...    ...                       ...      ...       ...\n",
       "6231     114      2                 ملك الناس        2     الناس\n",
       "6232     114      3                 إله الناس        2     الناس\n",
       "6233     114      4      من شر الوسواس الخناس        4     الناس\n",
       "6234     114      5  الذي يوسوس في صدور الناس        5     الناس\n",
       "6235     114      6           من الجنة والناس        3     الناس\n",
       "\n",
       "[6236 rows x 5 columns]"
      ]
     },
     "execution_count": 26,
     "metadata": {},
     "output_type": "execute_result"
    }
   ],
   "source": [
    "df"
   ]
  },
  {
   "cell_type": "code",
   "execution_count": 27,
   "metadata": {},
   "outputs": [],
   "source": [
    "pauses = \"\"\"\n",
    "ۗ\n",
    "ۘ\n",
    "ۚ\n",
    "\n",
    "\"\"\".strip().split('\\n')"
   ]
  },
  {
   "cell_type": "code",
   "execution_count": 28,
   "metadata": {},
   "outputs": [],
   "source": [
    "pauses = [pause.strip() for pause in pauses]"
   ]
  },
  {
   "cell_type": "code",
   "execution_count": 29,
   "metadata": {},
   "outputs": [
    {
     "data": {
      "text/plain": [
       "['ۗ', 'ۘ', 'ۚ']"
      ]
     },
     "execution_count": 29,
     "metadata": {},
     "output_type": "execute_result"
    }
   ],
   "source": [
    "pauses"
   ]
  },
  {
   "cell_type": "code",
   "execution_count": null,
   "metadata": {},
   "outputs": [],
   "source": []
  },
  {
   "cell_type": "code",
   "execution_count": 30,
   "metadata": {},
   "outputs": [],
   "source": [
    "def tokenize_if_long(aya , threshold=25):\n",
    "    pauses = ['ۗ', 'ۘ', 'ۚ']\n",
    "    special_regex = f\"\"\"[{''.join(pauses)}]+\"\"\".strip()\n",
    "        \n",
    "    aya_len = len(aya.split())\n",
    "    \n",
    "    if aya_len < threshold:\n",
    "        return [aya.strip()]\n",
    "    else:\n",
    "        aya_tokenized = re.split(special_regex, aya)\n",
    "        return [i.strip() for i in aya_tokenized]"
   ]
  },
  {
   "cell_type": "code",
   "execution_count": 31,
   "metadata": {},
   "outputs": [],
   "source": [
    "df.AYA_NO = df.AYA_NO.astype(int)\n",
    "df.SURA_NO = df.SURA_NO.astype(int)"
   ]
  },
  {
   "cell_type": "code",
   "execution_count": 32,
   "metadata": {},
   "outputs": [],
   "source": [
    "def remove_basmallah(dframe):\n",
    "    aya_no = dframe.AYA_NO\n",
    "    aya_text = dframe.AYA\n",
    "    if (aya_no == 1) and (aya_text.startswith('بسم الله الرحمن الرحيم'.strip())):\n",
    "        return aya_text[22:].strip()\n",
    "    else:\n",
    "        return aya_text"
   ]
  },
  {
   "cell_type": "code",
   "execution_count": 33,
   "metadata": {},
   "outputs": [],
   "source": []
  },
  {
   "cell_type": "code",
   "execution_count": 34,
   "metadata": {},
   "outputs": [],
   "source": [
    "df.AYA = df.apply(lambda x: remove_basmallah(x), axis=1)"
   ]
  },
  {
   "cell_type": "code",
   "execution_count": 36,
   "metadata": {},
   "outputs": [],
   "source": [
    "df.LEN_AYA = df.AYA.apply(lambda x: len(x.split()))"
   ]
  },
  {
   "cell_type": "code",
   "execution_count": 39,
   "metadata": {},
   "outputs": [],
   "source": [
    "df = df[df.LEN_AYA > 0].reset_index(drop=True)"
   ]
  },
  {
   "cell_type": "code",
   "execution_count": 40,
   "metadata": {},
   "outputs": [],
   "source": [
    "df['AYA_TOKENIZED'] = df['AYA'].apply(lambda x: tokenize_if_long(x))"
   ]
  },
  {
   "cell_type": "code",
   "execution_count": 41,
   "metadata": {},
   "outputs": [],
   "source": [
    "df.sample(30)\n",
    "test = df.AYA_TOKENIZED.iloc[1737]"
   ]
  },
  {
   "cell_type": "code",
   "execution_count": 42,
   "metadata": {},
   "outputs": [
    {
     "data": {
      "text/plain": [
       "['ولقد استهزئ برسل من قبلك فأمليت للذين كفروا ثم أخذتهم ۖ فكيف كان عقاب']"
      ]
     },
     "execution_count": 42,
     "metadata": {},
     "output_type": "execute_result"
    }
   ],
   "source": [
    "test"
   ]
  },
  {
   "cell_type": "code",
   "execution_count": 43,
   "metadata": {},
   "outputs": [
    {
     "data": {
      "text/plain": [
       "[(1, 'ولقد استهزئ برسل من قبلك فأمليت للذين كفروا ثم أخذتهم ۖ فكيف كان عقاب')]"
      ]
     },
     "execution_count": 43,
     "metadata": {},
     "output_type": "execute_result"
    }
   ],
   "source": [
    "[((idx + 1), aya) for (idx, aya) in  enumerate(test)]"
   ]
  },
  {
   "cell_type": "code",
   "execution_count": null,
   "metadata": {},
   "outputs": [],
   "source": []
  },
  {
   "cell_type": "code",
   "execution_count": null,
   "metadata": {},
   "outputs": [],
   "source": []
  },
  {
   "cell_type": "code",
   "execution_count": 44,
   "metadata": {},
   "outputs": [],
   "source": [
    "df['AYA_TOKENIZED_SERIAL'] = df.AYA_TOKENIZED.apply(lambda x: [(str(idx + 1), aya) for (idx, aya) in  enumerate(x)])"
   ]
  },
  {
   "cell_type": "code",
   "execution_count": 45,
   "metadata": {},
   "outputs": [
    {
     "data": {
      "text/html": [
       "<div>\n",
       "<style scoped>\n",
       "    .dataframe tbody tr th:only-of-type {\n",
       "        vertical-align: middle;\n",
       "    }\n",
       "\n",
       "    .dataframe tbody tr th {\n",
       "        vertical-align: top;\n",
       "    }\n",
       "\n",
       "    .dataframe thead th {\n",
       "        text-align: right;\n",
       "    }\n",
       "</style>\n",
       "<table border=\"1\" class=\"dataframe\">\n",
       "  <thead>\n",
       "    <tr style=\"text-align: right;\">\n",
       "      <th></th>\n",
       "      <th>SURA_NO</th>\n",
       "      <th>AYA_NO</th>\n",
       "      <th>AYA</th>\n",
       "      <th>LEN_AYA</th>\n",
       "      <th>SURA_NAME</th>\n",
       "      <th>AYA_TOKENIZED</th>\n",
       "      <th>AYA_TOKENIZED_SERIAL</th>\n",
       "    </tr>\n",
       "  </thead>\n",
       "  <tbody>\n",
       "    <tr>\n",
       "      <th>0</th>\n",
       "      <td>1</td>\n",
       "      <td>2</td>\n",
       "      <td>الحمد لله رب العالمين</td>\n",
       "      <td>4</td>\n",
       "      <td>الفاتحة</td>\n",
       "      <td>[الحمد لله رب العالمين]</td>\n",
       "      <td>[(1, الحمد لله رب العالمين)]</td>\n",
       "    </tr>\n",
       "    <tr>\n",
       "      <th>1</th>\n",
       "      <td>1</td>\n",
       "      <td>3</td>\n",
       "      <td>الرحمن الرحيم</td>\n",
       "      <td>2</td>\n",
       "      <td>الفاتحة</td>\n",
       "      <td>[الرحمن الرحيم]</td>\n",
       "      <td>[(1, الرحمن الرحيم)]</td>\n",
       "    </tr>\n",
       "    <tr>\n",
       "      <th>2</th>\n",
       "      <td>1</td>\n",
       "      <td>4</td>\n",
       "      <td>مالك يوم الدين</td>\n",
       "      <td>3</td>\n",
       "      <td>الفاتحة</td>\n",
       "      <td>[مالك يوم الدين]</td>\n",
       "      <td>[(1, مالك يوم الدين)]</td>\n",
       "    </tr>\n",
       "    <tr>\n",
       "      <th>3</th>\n",
       "      <td>1</td>\n",
       "      <td>5</td>\n",
       "      <td>إياك نعبد وإياك نستعين</td>\n",
       "      <td>4</td>\n",
       "      <td>الفاتحة</td>\n",
       "      <td>[إياك نعبد وإياك نستعين]</td>\n",
       "      <td>[(1, إياك نعبد وإياك نستعين)]</td>\n",
       "    </tr>\n",
       "    <tr>\n",
       "      <th>4</th>\n",
       "      <td>1</td>\n",
       "      <td>6</td>\n",
       "      <td>اهدنا الصراط المستقيم</td>\n",
       "      <td>3</td>\n",
       "      <td>الفاتحة</td>\n",
       "      <td>[اهدنا الصراط المستقيم]</td>\n",
       "      <td>[(1, اهدنا الصراط المستقيم)]</td>\n",
       "    </tr>\n",
       "    <tr>\n",
       "      <th>...</th>\n",
       "      <td>...</td>\n",
       "      <td>...</td>\n",
       "      <td>...</td>\n",
       "      <td>...</td>\n",
       "      <td>...</td>\n",
       "      <td>...</td>\n",
       "      <td>...</td>\n",
       "    </tr>\n",
       "    <tr>\n",
       "      <th>6230</th>\n",
       "      <td>114</td>\n",
       "      <td>2</td>\n",
       "      <td>ملك الناس</td>\n",
       "      <td>2</td>\n",
       "      <td>الناس</td>\n",
       "      <td>[ملك الناس]</td>\n",
       "      <td>[(1, ملك الناس)]</td>\n",
       "    </tr>\n",
       "    <tr>\n",
       "      <th>6231</th>\n",
       "      <td>114</td>\n",
       "      <td>3</td>\n",
       "      <td>إله الناس</td>\n",
       "      <td>2</td>\n",
       "      <td>الناس</td>\n",
       "      <td>[إله الناس]</td>\n",
       "      <td>[(1, إله الناس)]</td>\n",
       "    </tr>\n",
       "    <tr>\n",
       "      <th>6232</th>\n",
       "      <td>114</td>\n",
       "      <td>4</td>\n",
       "      <td>من شر الوسواس الخناس</td>\n",
       "      <td>4</td>\n",
       "      <td>الناس</td>\n",
       "      <td>[من شر الوسواس الخناس]</td>\n",
       "      <td>[(1, من شر الوسواس الخناس)]</td>\n",
       "    </tr>\n",
       "    <tr>\n",
       "      <th>6233</th>\n",
       "      <td>114</td>\n",
       "      <td>5</td>\n",
       "      <td>الذي يوسوس في صدور الناس</td>\n",
       "      <td>5</td>\n",
       "      <td>الناس</td>\n",
       "      <td>[الذي يوسوس في صدور الناس]</td>\n",
       "      <td>[(1, الذي يوسوس في صدور الناس)]</td>\n",
       "    </tr>\n",
       "    <tr>\n",
       "      <th>6234</th>\n",
       "      <td>114</td>\n",
       "      <td>6</td>\n",
       "      <td>من الجنة والناس</td>\n",
       "      <td>3</td>\n",
       "      <td>الناس</td>\n",
       "      <td>[من الجنة والناس]</td>\n",
       "      <td>[(1, من الجنة والناس)]</td>\n",
       "    </tr>\n",
       "  </tbody>\n",
       "</table>\n",
       "<p>6235 rows × 7 columns</p>\n",
       "</div>"
      ],
      "text/plain": [
       "      SURA_NO  AYA_NO                       AYA  LEN_AYA SURA_NAME  \\\n",
       "0           1       2     الحمد لله رب العالمين        4   الفاتحة   \n",
       "1           1       3             الرحمن الرحيم        2   الفاتحة   \n",
       "2           1       4            مالك يوم الدين        3   الفاتحة   \n",
       "3           1       5    إياك نعبد وإياك نستعين        4   الفاتحة   \n",
       "4           1       6     اهدنا الصراط المستقيم        3   الفاتحة   \n",
       "...       ...     ...                       ...      ...       ...   \n",
       "6230      114       2                 ملك الناس        2     الناس   \n",
       "6231      114       3                 إله الناس        2     الناس   \n",
       "6232      114       4      من شر الوسواس الخناس        4     الناس   \n",
       "6233      114       5  الذي يوسوس في صدور الناس        5     الناس   \n",
       "6234      114       6           من الجنة والناس        3     الناس   \n",
       "\n",
       "                   AYA_TOKENIZED             AYA_TOKENIZED_SERIAL  \n",
       "0        [الحمد لله رب العالمين]     [(1, الحمد لله رب العالمين)]  \n",
       "1                [الرحمن الرحيم]             [(1, الرحمن الرحيم)]  \n",
       "2               [مالك يوم الدين]            [(1, مالك يوم الدين)]  \n",
       "3       [إياك نعبد وإياك نستعين]    [(1, إياك نعبد وإياك نستعين)]  \n",
       "4        [اهدنا الصراط المستقيم]     [(1, اهدنا الصراط المستقيم)]  \n",
       "...                          ...                              ...  \n",
       "6230                 [ملك الناس]                 [(1, ملك الناس)]  \n",
       "6231                 [إله الناس]                 [(1, إله الناس)]  \n",
       "6232      [من شر الوسواس الخناس]      [(1, من شر الوسواس الخناس)]  \n",
       "6233  [الذي يوسوس في صدور الناس]  [(1, الذي يوسوس في صدور الناس)]  \n",
       "6234           [من الجنة والناس]           [(1, من الجنة والناس)]  \n",
       "\n",
       "[6235 rows x 7 columns]"
      ]
     },
     "execution_count": 45,
     "metadata": {},
     "output_type": "execute_result"
    }
   ],
   "source": [
    "df"
   ]
  },
  {
   "cell_type": "code",
   "execution_count": 46,
   "metadata": {},
   "outputs": [],
   "source": [
    "df = df.explode('AYA_TOKENIZED_SERIAL').reset_index(drop=True)"
   ]
  },
  {
   "cell_type": "code",
   "execution_count": 47,
   "metadata": {},
   "outputs": [
    {
     "data": {
      "text/html": [
       "<div>\n",
       "<style scoped>\n",
       "    .dataframe tbody tr th:only-of-type {\n",
       "        vertical-align: middle;\n",
       "    }\n",
       "\n",
       "    .dataframe tbody tr th {\n",
       "        vertical-align: top;\n",
       "    }\n",
       "\n",
       "    .dataframe thead th {\n",
       "        text-align: right;\n",
       "    }\n",
       "</style>\n",
       "<table border=\"1\" class=\"dataframe\">\n",
       "  <thead>\n",
       "    <tr style=\"text-align: right;\">\n",
       "      <th></th>\n",
       "      <th>SURA_NO</th>\n",
       "      <th>AYA_NO</th>\n",
       "      <th>AYA</th>\n",
       "      <th>LEN_AYA</th>\n",
       "      <th>SURA_NAME</th>\n",
       "      <th>AYA_TOKENIZED</th>\n",
       "      <th>AYA_TOKENIZED_SERIAL</th>\n",
       "    </tr>\n",
       "  </thead>\n",
       "  <tbody>\n",
       "    <tr>\n",
       "      <th>0</th>\n",
       "      <td>1</td>\n",
       "      <td>2</td>\n",
       "      <td>الحمد لله رب العالمين</td>\n",
       "      <td>4</td>\n",
       "      <td>الفاتحة</td>\n",
       "      <td>[الحمد لله رب العالمين]</td>\n",
       "      <td>(1, الحمد لله رب العالمين)</td>\n",
       "    </tr>\n",
       "    <tr>\n",
       "      <th>1</th>\n",
       "      <td>1</td>\n",
       "      <td>3</td>\n",
       "      <td>الرحمن الرحيم</td>\n",
       "      <td>2</td>\n",
       "      <td>الفاتحة</td>\n",
       "      <td>[الرحمن الرحيم]</td>\n",
       "      <td>(1, الرحمن الرحيم)</td>\n",
       "    </tr>\n",
       "    <tr>\n",
       "      <th>2</th>\n",
       "      <td>1</td>\n",
       "      <td>4</td>\n",
       "      <td>مالك يوم الدين</td>\n",
       "      <td>3</td>\n",
       "      <td>الفاتحة</td>\n",
       "      <td>[مالك يوم الدين]</td>\n",
       "      <td>(1, مالك يوم الدين)</td>\n",
       "    </tr>\n",
       "    <tr>\n",
       "      <th>3</th>\n",
       "      <td>1</td>\n",
       "      <td>5</td>\n",
       "      <td>إياك نعبد وإياك نستعين</td>\n",
       "      <td>4</td>\n",
       "      <td>الفاتحة</td>\n",
       "      <td>[إياك نعبد وإياك نستعين]</td>\n",
       "      <td>(1, إياك نعبد وإياك نستعين)</td>\n",
       "    </tr>\n",
       "    <tr>\n",
       "      <th>4</th>\n",
       "      <td>1</td>\n",
       "      <td>6</td>\n",
       "      <td>اهدنا الصراط المستقيم</td>\n",
       "      <td>3</td>\n",
       "      <td>الفاتحة</td>\n",
       "      <td>[اهدنا الصراط المستقيم]</td>\n",
       "      <td>(1, اهدنا الصراط المستقيم)</td>\n",
       "    </tr>\n",
       "    <tr>\n",
       "      <th>...</th>\n",
       "      <td>...</td>\n",
       "      <td>...</td>\n",
       "      <td>...</td>\n",
       "      <td>...</td>\n",
       "      <td>...</td>\n",
       "      <td>...</td>\n",
       "      <td>...</td>\n",
       "    </tr>\n",
       "    <tr>\n",
       "      <th>7436</th>\n",
       "      <td>114</td>\n",
       "      <td>2</td>\n",
       "      <td>ملك الناس</td>\n",
       "      <td>2</td>\n",
       "      <td>الناس</td>\n",
       "      <td>[ملك الناس]</td>\n",
       "      <td>(1, ملك الناس)</td>\n",
       "    </tr>\n",
       "    <tr>\n",
       "      <th>7437</th>\n",
       "      <td>114</td>\n",
       "      <td>3</td>\n",
       "      <td>إله الناس</td>\n",
       "      <td>2</td>\n",
       "      <td>الناس</td>\n",
       "      <td>[إله الناس]</td>\n",
       "      <td>(1, إله الناس)</td>\n",
       "    </tr>\n",
       "    <tr>\n",
       "      <th>7438</th>\n",
       "      <td>114</td>\n",
       "      <td>4</td>\n",
       "      <td>من شر الوسواس الخناس</td>\n",
       "      <td>4</td>\n",
       "      <td>الناس</td>\n",
       "      <td>[من شر الوسواس الخناس]</td>\n",
       "      <td>(1, من شر الوسواس الخناس)</td>\n",
       "    </tr>\n",
       "    <tr>\n",
       "      <th>7439</th>\n",
       "      <td>114</td>\n",
       "      <td>5</td>\n",
       "      <td>الذي يوسوس في صدور الناس</td>\n",
       "      <td>5</td>\n",
       "      <td>الناس</td>\n",
       "      <td>[الذي يوسوس في صدور الناس]</td>\n",
       "      <td>(1, الذي يوسوس في صدور الناس)</td>\n",
       "    </tr>\n",
       "    <tr>\n",
       "      <th>7440</th>\n",
       "      <td>114</td>\n",
       "      <td>6</td>\n",
       "      <td>من الجنة والناس</td>\n",
       "      <td>3</td>\n",
       "      <td>الناس</td>\n",
       "      <td>[من الجنة والناس]</td>\n",
       "      <td>(1, من الجنة والناس)</td>\n",
       "    </tr>\n",
       "  </tbody>\n",
       "</table>\n",
       "<p>7441 rows × 7 columns</p>\n",
       "</div>"
      ],
      "text/plain": [
       "      SURA_NO  AYA_NO                       AYA  LEN_AYA SURA_NAME  \\\n",
       "0           1       2     الحمد لله رب العالمين        4   الفاتحة   \n",
       "1           1       3             الرحمن الرحيم        2   الفاتحة   \n",
       "2           1       4            مالك يوم الدين        3   الفاتحة   \n",
       "3           1       5    إياك نعبد وإياك نستعين        4   الفاتحة   \n",
       "4           1       6     اهدنا الصراط المستقيم        3   الفاتحة   \n",
       "...       ...     ...                       ...      ...       ...   \n",
       "7436      114       2                 ملك الناس        2     الناس   \n",
       "7437      114       3                 إله الناس        2     الناس   \n",
       "7438      114       4      من شر الوسواس الخناس        4     الناس   \n",
       "7439      114       5  الذي يوسوس في صدور الناس        5     الناس   \n",
       "7440      114       6           من الجنة والناس        3     الناس   \n",
       "\n",
       "                   AYA_TOKENIZED           AYA_TOKENIZED_SERIAL  \n",
       "0        [الحمد لله رب العالمين]     (1, الحمد لله رب العالمين)  \n",
       "1                [الرحمن الرحيم]             (1, الرحمن الرحيم)  \n",
       "2               [مالك يوم الدين]            (1, مالك يوم الدين)  \n",
       "3       [إياك نعبد وإياك نستعين]    (1, إياك نعبد وإياك نستعين)  \n",
       "4        [اهدنا الصراط المستقيم]     (1, اهدنا الصراط المستقيم)  \n",
       "...                          ...                            ...  \n",
       "7436                 [ملك الناس]                 (1, ملك الناس)  \n",
       "7437                 [إله الناس]                 (1, إله الناس)  \n",
       "7438      [من شر الوسواس الخناس]      (1, من شر الوسواس الخناس)  \n",
       "7439  [الذي يوسوس في صدور الناس]  (1, الذي يوسوس في صدور الناس)  \n",
       "7440           [من الجنة والناس]           (1, من الجنة والناس)  \n",
       "\n",
       "[7441 rows x 7 columns]"
      ]
     },
     "execution_count": 47,
     "metadata": {},
     "output_type": "execute_result"
    }
   ],
   "source": [
    "df"
   ]
  },
  {
   "cell_type": "code",
   "execution_count": 48,
   "metadata": {},
   "outputs": [],
   "source": [
    "df['UNIQUE_TOKEN'] = df.apply(lambda x: f\"\"\"\n",
    "{str(x[\"SURA_NO\"]).zfill(3)}_{str(x[\"AYA_NO\"]).zfill(3)}_{str(x['AYA_TOKENIZED_SERIAL'][0]).zfill(3)}\n",
    "\"\"\".strip(), axis=1)"
   ]
  },
  {
   "cell_type": "code",
   "execution_count": 49,
   "metadata": {},
   "outputs": [
    {
     "data": {
      "text/html": [
       "<div>\n",
       "<style scoped>\n",
       "    .dataframe tbody tr th:only-of-type {\n",
       "        vertical-align: middle;\n",
       "    }\n",
       "\n",
       "    .dataframe tbody tr th {\n",
       "        vertical-align: top;\n",
       "    }\n",
       "\n",
       "    .dataframe thead th {\n",
       "        text-align: right;\n",
       "    }\n",
       "</style>\n",
       "<table border=\"1\" class=\"dataframe\">\n",
       "  <thead>\n",
       "    <tr style=\"text-align: right;\">\n",
       "      <th></th>\n",
       "      <th>SURA_NO</th>\n",
       "      <th>AYA_NO</th>\n",
       "      <th>AYA</th>\n",
       "      <th>LEN_AYA</th>\n",
       "      <th>SURA_NAME</th>\n",
       "      <th>AYA_TOKENIZED</th>\n",
       "      <th>AYA_TOKENIZED_SERIAL</th>\n",
       "      <th>UNIQUE_TOKEN</th>\n",
       "    </tr>\n",
       "  </thead>\n",
       "  <tbody>\n",
       "    <tr>\n",
       "      <th>0</th>\n",
       "      <td>1</td>\n",
       "      <td>2</td>\n",
       "      <td>الحمد لله رب العالمين</td>\n",
       "      <td>4</td>\n",
       "      <td>الفاتحة</td>\n",
       "      <td>[الحمد لله رب العالمين]</td>\n",
       "      <td>(1, الحمد لله رب العالمين)</td>\n",
       "      <td>001_002_001</td>\n",
       "    </tr>\n",
       "    <tr>\n",
       "      <th>1</th>\n",
       "      <td>1</td>\n",
       "      <td>3</td>\n",
       "      <td>الرحمن الرحيم</td>\n",
       "      <td>2</td>\n",
       "      <td>الفاتحة</td>\n",
       "      <td>[الرحمن الرحيم]</td>\n",
       "      <td>(1, الرحمن الرحيم)</td>\n",
       "      <td>001_003_001</td>\n",
       "    </tr>\n",
       "    <tr>\n",
       "      <th>2</th>\n",
       "      <td>1</td>\n",
       "      <td>4</td>\n",
       "      <td>مالك يوم الدين</td>\n",
       "      <td>3</td>\n",
       "      <td>الفاتحة</td>\n",
       "      <td>[مالك يوم الدين]</td>\n",
       "      <td>(1, مالك يوم الدين)</td>\n",
       "      <td>001_004_001</td>\n",
       "    </tr>\n",
       "    <tr>\n",
       "      <th>3</th>\n",
       "      <td>1</td>\n",
       "      <td>5</td>\n",
       "      <td>إياك نعبد وإياك نستعين</td>\n",
       "      <td>4</td>\n",
       "      <td>الفاتحة</td>\n",
       "      <td>[إياك نعبد وإياك نستعين]</td>\n",
       "      <td>(1, إياك نعبد وإياك نستعين)</td>\n",
       "      <td>001_005_001</td>\n",
       "    </tr>\n",
       "    <tr>\n",
       "      <th>4</th>\n",
       "      <td>1</td>\n",
       "      <td>6</td>\n",
       "      <td>اهدنا الصراط المستقيم</td>\n",
       "      <td>3</td>\n",
       "      <td>الفاتحة</td>\n",
       "      <td>[اهدنا الصراط المستقيم]</td>\n",
       "      <td>(1, اهدنا الصراط المستقيم)</td>\n",
       "      <td>001_006_001</td>\n",
       "    </tr>\n",
       "    <tr>\n",
       "      <th>...</th>\n",
       "      <td>...</td>\n",
       "      <td>...</td>\n",
       "      <td>...</td>\n",
       "      <td>...</td>\n",
       "      <td>...</td>\n",
       "      <td>...</td>\n",
       "      <td>...</td>\n",
       "      <td>...</td>\n",
       "    </tr>\n",
       "    <tr>\n",
       "      <th>7436</th>\n",
       "      <td>114</td>\n",
       "      <td>2</td>\n",
       "      <td>ملك الناس</td>\n",
       "      <td>2</td>\n",
       "      <td>الناس</td>\n",
       "      <td>[ملك الناس]</td>\n",
       "      <td>(1, ملك الناس)</td>\n",
       "      <td>114_002_001</td>\n",
       "    </tr>\n",
       "    <tr>\n",
       "      <th>7437</th>\n",
       "      <td>114</td>\n",
       "      <td>3</td>\n",
       "      <td>إله الناس</td>\n",
       "      <td>2</td>\n",
       "      <td>الناس</td>\n",
       "      <td>[إله الناس]</td>\n",
       "      <td>(1, إله الناس)</td>\n",
       "      <td>114_003_001</td>\n",
       "    </tr>\n",
       "    <tr>\n",
       "      <th>7438</th>\n",
       "      <td>114</td>\n",
       "      <td>4</td>\n",
       "      <td>من شر الوسواس الخناس</td>\n",
       "      <td>4</td>\n",
       "      <td>الناس</td>\n",
       "      <td>[من شر الوسواس الخناس]</td>\n",
       "      <td>(1, من شر الوسواس الخناس)</td>\n",
       "      <td>114_004_001</td>\n",
       "    </tr>\n",
       "    <tr>\n",
       "      <th>7439</th>\n",
       "      <td>114</td>\n",
       "      <td>5</td>\n",
       "      <td>الذي يوسوس في صدور الناس</td>\n",
       "      <td>5</td>\n",
       "      <td>الناس</td>\n",
       "      <td>[الذي يوسوس في صدور الناس]</td>\n",
       "      <td>(1, الذي يوسوس في صدور الناس)</td>\n",
       "      <td>114_005_001</td>\n",
       "    </tr>\n",
       "    <tr>\n",
       "      <th>7440</th>\n",
       "      <td>114</td>\n",
       "      <td>6</td>\n",
       "      <td>من الجنة والناس</td>\n",
       "      <td>3</td>\n",
       "      <td>الناس</td>\n",
       "      <td>[من الجنة والناس]</td>\n",
       "      <td>(1, من الجنة والناس)</td>\n",
       "      <td>114_006_001</td>\n",
       "    </tr>\n",
       "  </tbody>\n",
       "</table>\n",
       "<p>7441 rows × 8 columns</p>\n",
       "</div>"
      ],
      "text/plain": [
       "      SURA_NO  AYA_NO                       AYA  LEN_AYA SURA_NAME  \\\n",
       "0           1       2     الحمد لله رب العالمين        4   الفاتحة   \n",
       "1           1       3             الرحمن الرحيم        2   الفاتحة   \n",
       "2           1       4            مالك يوم الدين        3   الفاتحة   \n",
       "3           1       5    إياك نعبد وإياك نستعين        4   الفاتحة   \n",
       "4           1       6     اهدنا الصراط المستقيم        3   الفاتحة   \n",
       "...       ...     ...                       ...      ...       ...   \n",
       "7436      114       2                 ملك الناس        2     الناس   \n",
       "7437      114       3                 إله الناس        2     الناس   \n",
       "7438      114       4      من شر الوسواس الخناس        4     الناس   \n",
       "7439      114       5  الذي يوسوس في صدور الناس        5     الناس   \n",
       "7440      114       6           من الجنة والناس        3     الناس   \n",
       "\n",
       "                   AYA_TOKENIZED           AYA_TOKENIZED_SERIAL UNIQUE_TOKEN  \n",
       "0        [الحمد لله رب العالمين]     (1, الحمد لله رب العالمين)  001_002_001  \n",
       "1                [الرحمن الرحيم]             (1, الرحمن الرحيم)  001_003_001  \n",
       "2               [مالك يوم الدين]            (1, مالك يوم الدين)  001_004_001  \n",
       "3       [إياك نعبد وإياك نستعين]    (1, إياك نعبد وإياك نستعين)  001_005_001  \n",
       "4        [اهدنا الصراط المستقيم]     (1, اهدنا الصراط المستقيم)  001_006_001  \n",
       "...                          ...                            ...          ...  \n",
       "7436                 [ملك الناس]                 (1, ملك الناس)  114_002_001  \n",
       "7437                 [إله الناس]                 (1, إله الناس)  114_003_001  \n",
       "7438      [من شر الوسواس الخناس]      (1, من شر الوسواس الخناس)  114_004_001  \n",
       "7439  [الذي يوسوس في صدور الناس]  (1, الذي يوسوس في صدور الناس)  114_005_001  \n",
       "7440           [من الجنة والناس]           (1, من الجنة والناس)  114_006_001  \n",
       "\n",
       "[7441 rows x 8 columns]"
      ]
     },
     "execution_count": 49,
     "metadata": {},
     "output_type": "execute_result"
    }
   ],
   "source": [
    "df"
   ]
  },
  {
   "cell_type": "code",
   "execution_count": 50,
   "metadata": {},
   "outputs": [],
   "source": [
    "df['AYA_SENTENCE'] = df['AYA_TOKENIZED_SERIAL'].apply(lambda x: x[1].strip())"
   ]
  },
  {
   "cell_type": "code",
   "execution_count": 51,
   "metadata": {},
   "outputs": [],
   "source": [
    "df['LEN_AYA_SENTENCE'] = df['AYA_SENTENCE'].apply(lambda x: len(x.split()))"
   ]
  },
  {
   "cell_type": "code",
   "execution_count": 52,
   "metadata": {},
   "outputs": [
    {
     "data": {
      "text/plain": [
       "(9.0, 73)"
      ]
     },
     "execution_count": 52,
     "metadata": {},
     "output_type": "execute_result"
    }
   ],
   "source": [
    "df['LEN_AYA_SENTENCE'].median(), df['LEN_AYA_SENTENCE'].max(), "
   ]
  },
  {
   "cell_type": "code",
   "execution_count": 53,
   "metadata": {},
   "outputs": [
    {
     "data": {
      "text/html": [
       "<div>\n",
       "<style scoped>\n",
       "    .dataframe tbody tr th:only-of-type {\n",
       "        vertical-align: middle;\n",
       "    }\n",
       "\n",
       "    .dataframe tbody tr th {\n",
       "        vertical-align: top;\n",
       "    }\n",
       "\n",
       "    .dataframe thead th {\n",
       "        text-align: right;\n",
       "    }\n",
       "</style>\n",
       "<table border=\"1\" class=\"dataframe\">\n",
       "  <thead>\n",
       "    <tr style=\"text-align: right;\">\n",
       "      <th></th>\n",
       "      <th>SURA_NO</th>\n",
       "      <th>AYA_NO</th>\n",
       "      <th>AYA</th>\n",
       "      <th>LEN_AYA</th>\n",
       "      <th>SURA_NAME</th>\n",
       "      <th>AYA_TOKENIZED</th>\n",
       "      <th>AYA_TOKENIZED_SERIAL</th>\n",
       "      <th>UNIQUE_TOKEN</th>\n",
       "      <th>AYA_SENTENCE</th>\n",
       "      <th>LEN_AYA_SENTENCE</th>\n",
       "    </tr>\n",
       "  </thead>\n",
       "  <tbody>\n",
       "    <tr>\n",
       "      <th>445</th>\n",
       "      <td>2</td>\n",
       "      <td>259</td>\n",
       "      <td>أو كالذي مر على قرية وهي خاوية على عروشها قال ...</td>\n",
       "      <td>74</td>\n",
       "      <td>البقرة</td>\n",
       "      <td>[أو كالذي مر على قرية وهي خاوية على عروشها قال...</td>\n",
       "      <td>(1, أو كالذي مر على قرية وهي خاوية على عروشها ...</td>\n",
       "      <td>002_259_001</td>\n",
       "      <td>أو كالذي مر على قرية وهي خاوية على عروشها قال ...</td>\n",
       "      <td>62</td>\n",
       "    </tr>\n",
       "    <tr>\n",
       "      <th>1280</th>\n",
       "      <td>5</td>\n",
       "      <td>110</td>\n",
       "      <td>إذ قال الله يا عيسى ابن مريم اذكر نعمتي عليك و...</td>\n",
       "      <td>69</td>\n",
       "      <td>المائدة</td>\n",
       "      <td>[إذ قال الله يا عيسى ابن مريم اذكر نعمتي عليك ...</td>\n",
       "      <td>(1, إذ قال الله يا عيسى ابن مريم اذكر نعمتي عل...</td>\n",
       "      <td>005_110_001</td>\n",
       "      <td>إذ قال الله يا عيسى ابن مريم اذكر نعمتي عليك و...</td>\n",
       "      <td>69</td>\n",
       "    </tr>\n",
       "    <tr>\n",
       "      <th>3737</th>\n",
       "      <td>24</td>\n",
       "      <td>31</td>\n",
       "      <td>وقل للمؤمنات يغضضن من أبصارهن ويحفظن فروجهن ول...</td>\n",
       "      <td>82</td>\n",
       "      <td>النور</td>\n",
       "      <td>[وقل للمؤمنات يغضضن من أبصارهن ويحفظن فروجهن و...</td>\n",
       "      <td>(1, وقل للمؤمنات يغضضن من أبصارهن ويحفظن فروجه...</td>\n",
       "      <td>024_031_001</td>\n",
       "      <td>وقل للمؤمنات يغضضن من أبصارهن ويحفظن فروجهن ول...</td>\n",
       "      <td>73</td>\n",
       "    </tr>\n",
       "  </tbody>\n",
       "</table>\n",
       "</div>"
      ],
      "text/plain": [
       "      SURA_NO  AYA_NO                                                AYA  \\\n",
       "445         2     259  أو كالذي مر على قرية وهي خاوية على عروشها قال ...   \n",
       "1280        5     110  إذ قال الله يا عيسى ابن مريم اذكر نعمتي عليك و...   \n",
       "3737       24      31  وقل للمؤمنات يغضضن من أبصارهن ويحفظن فروجهن ول...   \n",
       "\n",
       "      LEN_AYA SURA_NAME                                      AYA_TOKENIZED  \\\n",
       "445        74    البقرة  [أو كالذي مر على قرية وهي خاوية على عروشها قال...   \n",
       "1280       69   المائدة  [إذ قال الله يا عيسى ابن مريم اذكر نعمتي عليك ...   \n",
       "3737       82     النور  [وقل للمؤمنات يغضضن من أبصارهن ويحفظن فروجهن و...   \n",
       "\n",
       "                                   AYA_TOKENIZED_SERIAL UNIQUE_TOKEN  \\\n",
       "445   (1, أو كالذي مر على قرية وهي خاوية على عروشها ...  002_259_001   \n",
       "1280  (1, إذ قال الله يا عيسى ابن مريم اذكر نعمتي عل...  005_110_001   \n",
       "3737  (1, وقل للمؤمنات يغضضن من أبصارهن ويحفظن فروجه...  024_031_001   \n",
       "\n",
       "                                           AYA_SENTENCE  LEN_AYA_SENTENCE  \n",
       "445   أو كالذي مر على قرية وهي خاوية على عروشها قال ...                62  \n",
       "1280  إذ قال الله يا عيسى ابن مريم اذكر نعمتي عليك و...                69  \n",
       "3737  وقل للمؤمنات يغضضن من أبصارهن ويحفظن فروجهن ول...                73  "
      ]
     },
     "execution_count": 53,
     "metadata": {},
     "output_type": "execute_result"
    }
   ],
   "source": [
    "df[(df.LEN_AYA_SENTENCE>60) & (df.LEN_AYA_SENTENCE<100)]"
   ]
  },
  {
   "cell_type": "code",
   "execution_count": 54,
   "metadata": {},
   "outputs": [
    {
     "data": {
      "text/plain": [
       "20"
      ]
     },
     "execution_count": 54,
     "metadata": {},
     "output_type": "execute_result"
    }
   ],
   "source": [
    "len(df['AYA'].iloc[30].split())"
   ]
  },
  {
   "cell_type": "code",
   "execution_count": 55,
   "metadata": {},
   "outputs": [
    {
     "name": "stdout",
     "output_type": "stream",
     "text": [
      "وأنكحوا الأيامى منكم والصالحين من عبادكم وإمائكم ۚ إن يكونوا فقراء يغنهم الله من فضله ۗ والله واسع عليم\n"
     ]
    }
   ],
   "source": [
    "print(df['AYA'].iloc[3739])"
   ]
  },
  {
   "cell_type": "code",
   "execution_count": null,
   "metadata": {},
   "outputs": [],
   "source": []
  },
  {
   "cell_type": "code",
   "execution_count": 58,
   "metadata": {},
   "outputs": [
    {
     "data": {
      "text/html": [
       "<div>\n",
       "<style scoped>\n",
       "    .dataframe tbody tr th:only-of-type {\n",
       "        vertical-align: middle;\n",
       "    }\n",
       "\n",
       "    .dataframe tbody tr th {\n",
       "        vertical-align: top;\n",
       "    }\n",
       "\n",
       "    .dataframe thead th {\n",
       "        text-align: right;\n",
       "    }\n",
       "</style>\n",
       "<table border=\"1\" class=\"dataframe\">\n",
       "  <thead>\n",
       "    <tr style=\"text-align: right;\">\n",
       "      <th></th>\n",
       "      <th>SURA_NO</th>\n",
       "      <th>AYA_NO</th>\n",
       "      <th>AYA</th>\n",
       "      <th>LEN_AYA</th>\n",
       "      <th>SURA_NAME</th>\n",
       "      <th>AYA_TOKENIZED</th>\n",
       "      <th>AYA_TOKENIZED_SERIAL</th>\n",
       "      <th>UNIQUE_TOKEN</th>\n",
       "      <th>AYA_SENTENCE</th>\n",
       "      <th>LEN_AYA_SENTENCE</th>\n",
       "    </tr>\n",
       "  </thead>\n",
       "  <tbody>\n",
       "    <tr>\n",
       "      <th>835</th>\n",
       "      <td>4</td>\n",
       "      <td>23</td>\n",
       "      <td>حرمت عليكم أمهاتكم وبناتكم وأخواتكم وعماتكم وخ...</td>\n",
       "      <td>55</td>\n",
       "      <td>النساء</td>\n",
       "      <td>[حرمت عليكم أمهاتكم وبناتكم وأخواتكم وعماتكم و...</td>\n",
       "      <td>(1, حرمت عليكم أمهاتكم وبناتكم وأخواتكم وعماتك...</td>\n",
       "      <td>004_023_001</td>\n",
       "      <td>حرمت عليكم أمهاتكم وبناتكم وأخواتكم وعماتكم وخ...</td>\n",
       "      <td>49</td>\n",
       "    </tr>\n",
       "    <tr>\n",
       "      <th>836</th>\n",
       "      <td>4</td>\n",
       "      <td>23</td>\n",
       "      <td>حرمت عليكم أمهاتكم وبناتكم وأخواتكم وعماتكم وخ...</td>\n",
       "      <td>55</td>\n",
       "      <td>النساء</td>\n",
       "      <td>[حرمت عليكم أمهاتكم وبناتكم وأخواتكم وعماتكم و...</td>\n",
       "      <td>(2, إن الله كان غفورا رحيما)</td>\n",
       "      <td>004_023_002</td>\n",
       "      <td>إن الله كان غفورا رحيما</td>\n",
       "      <td>5</td>\n",
       "    </tr>\n",
       "  </tbody>\n",
       "</table>\n",
       "</div>"
      ],
      "text/plain": [
       "     SURA_NO  AYA_NO                                                AYA  \\\n",
       "835        4      23  حرمت عليكم أمهاتكم وبناتكم وأخواتكم وعماتكم وخ...   \n",
       "836        4      23  حرمت عليكم أمهاتكم وبناتكم وأخواتكم وعماتكم وخ...   \n",
       "\n",
       "     LEN_AYA SURA_NAME                                      AYA_TOKENIZED  \\\n",
       "835       55    النساء  [حرمت عليكم أمهاتكم وبناتكم وأخواتكم وعماتكم و...   \n",
       "836       55    النساء  [حرمت عليكم أمهاتكم وبناتكم وأخواتكم وعماتكم و...   \n",
       "\n",
       "                                  AYA_TOKENIZED_SERIAL UNIQUE_TOKEN  \\\n",
       "835  (1, حرمت عليكم أمهاتكم وبناتكم وأخواتكم وعماتك...  004_023_001   \n",
       "836                       (2, إن الله كان غفورا رحيما)  004_023_002   \n",
       "\n",
       "                                          AYA_SENTENCE  LEN_AYA_SENTENCE  \n",
       "835  حرمت عليكم أمهاتكم وبناتكم وأخواتكم وعماتكم وخ...                49  \n",
       "836                            إن الله كان غفورا رحيما                 5  "
      ]
     },
     "execution_count": 58,
     "metadata": {},
     "output_type": "execute_result"
    }
   ],
   "source": [
    "df[df['AYA'].apply(lambda x: 'حرمت عليكم أمه' in x)]"
   ]
  },
  {
   "cell_type": "code",
   "execution_count": 59,
   "metadata": {},
   "outputs": [
    {
     "data": {
      "text/plain": [
       "74"
      ]
     },
     "execution_count": 59,
     "metadata": {},
     "output_type": "execute_result"
    }
   ],
   "source": [
    "len(\"\"\"\n",
    "وقل للمؤمنات يغضضن من أبصارهن ويحفظن فروجهن ولا يبدين زينتهن إلا ما ظهر منها ۖ وليضربن بخمرهن على جيوبهن ۖ ولا يبدين زينتهن إلا لبعولتهن أو آبائهن أو آباء بعولتهن أو أبنائهن أو أبناء بعولتهن أو إخوانهن أو بني إخوانهن أو بني أخواتهن أو نسائهن أو ما ملكت أيمانهن أو التابعين غير أولي الإربة من الرجال أو الطفل الذين لم يظهروا على عورات النساء ۖ ولا يضربن بأرجلهن ليعلم ما يخفين من زينتهن ۚ\n",
    "\"\"\".strip().split())"
   ]
  },
  {
   "cell_type": "code",
   "execution_count": 60,
   "metadata": {},
   "outputs": [],
   "source": [
    "test = df[(df.LEN_AYA_SENTENCE>=46)]"
   ]
  },
  {
   "cell_type": "code",
   "execution_count": 61,
   "metadata": {},
   "outputs": [
    {
     "data": {
      "text/plain": [
       "11"
      ]
     },
     "execution_count": 61,
     "metadata": {},
     "output_type": "execute_result"
    }
   ],
   "source": [
    "len(test)"
   ]
  },
  {
   "cell_type": "code",
   "execution_count": null,
   "metadata": {},
   "outputs": [],
   "source": [
    "test = test.sort_values(['LEN_AYA_SENTENCE'], ascending=False).reset_index(drop=True)"
   ]
  },
  {
   "cell_type": "code",
   "execution_count": null,
   "metadata": {},
   "outputs": [],
   "source": [
    "test['IDX'] = test.index"
   ]
  },
  {
   "cell_type": "code",
   "execution_count": null,
   "metadata": {},
   "outputs": [],
   "source": [
    "test_idx = list(test.IDX)"
   ]
  },
  {
   "cell_type": "code",
   "execution_count": null,
   "metadata": {},
   "outputs": [],
   "source": [
    "test_idx"
   ]
  },
  {
   "cell_type": "code",
   "execution_count": null,
   "metadata": {},
   "outputs": [],
   "source": [
    "for i in test_idx:\n",
    "    idx = test['IDX'].iloc[i]\n",
    "    sent = test['AYA_SENTENCE'].iloc[i]\n",
    "    len_sent = test['LEN_AYA_SENTENCE'].iloc[i]\n",
    "    sura_name = test['SURA_NAME'].iloc[i]\n",
    "    aya_no = test['AYA_NO'].iloc[i]\n",
    "    \n",
    "    print(\n",
    "f\"\"\"\n",
    "من سورة 👈: {sura_name} -- الآية: {aya_no} -- عدد الكلمات: {len_sent}\n",
    "{sent}\n",
    "{\"-\"*50}\n",
    "\"\"\".strip())"
   ]
  },
  {
   "cell_type": "code",
   "execution_count": null,
   "metadata": {},
   "outputs": [],
   "source": [
    "len(test_idx)"
   ]
  },
  {
   "cell_type": "code",
   "execution_count": 63,
   "metadata": {},
   "outputs": [],
   "source": [
    "#df.to_pickle('QURAN_AYA_WITH_TOKENIZED_BY_PAUSES.pkl', protocol=4)"
   ]
  },
  {
   "cell_type": "code",
   "execution_count": 64,
   "metadata": {},
   "outputs": [
    {
     "data": {
      "text/html": [
       "<div>\n",
       "<style scoped>\n",
       "    .dataframe tbody tr th:only-of-type {\n",
       "        vertical-align: middle;\n",
       "    }\n",
       "\n",
       "    .dataframe tbody tr th {\n",
       "        vertical-align: top;\n",
       "    }\n",
       "\n",
       "    .dataframe thead th {\n",
       "        text-align: right;\n",
       "    }\n",
       "</style>\n",
       "<table border=\"1\" class=\"dataframe\">\n",
       "  <thead>\n",
       "    <tr style=\"text-align: right;\">\n",
       "      <th></th>\n",
       "      <th>SURA_NO</th>\n",
       "      <th>AYA_NO</th>\n",
       "      <th>AYA</th>\n",
       "      <th>LEN_AYA</th>\n",
       "      <th>SURA_NAME</th>\n",
       "      <th>AYA_TOKENIZED</th>\n",
       "      <th>AYA_TOKENIZED_SERIAL</th>\n",
       "      <th>UNIQUE_TOKEN</th>\n",
       "      <th>AYA_SENTENCE</th>\n",
       "      <th>LEN_AYA_SENTENCE</th>\n",
       "    </tr>\n",
       "  </thead>\n",
       "  <tbody>\n",
       "    <tr>\n",
       "      <th>0</th>\n",
       "      <td>1</td>\n",
       "      <td>2</td>\n",
       "      <td>الحمد لله رب العالمين</td>\n",
       "      <td>4</td>\n",
       "      <td>الفاتحة</td>\n",
       "      <td>[الحمد لله رب العالمين]</td>\n",
       "      <td>(1, الحمد لله رب العالمين)</td>\n",
       "      <td>001_002_001</td>\n",
       "      <td>الحمد لله رب العالمين</td>\n",
       "      <td>4</td>\n",
       "    </tr>\n",
       "    <tr>\n",
       "      <th>1</th>\n",
       "      <td>1</td>\n",
       "      <td>3</td>\n",
       "      <td>الرحمن الرحيم</td>\n",
       "      <td>2</td>\n",
       "      <td>الفاتحة</td>\n",
       "      <td>[الرحمن الرحيم]</td>\n",
       "      <td>(1, الرحمن الرحيم)</td>\n",
       "      <td>001_003_001</td>\n",
       "      <td>الرحمن الرحيم</td>\n",
       "      <td>2</td>\n",
       "    </tr>\n",
       "    <tr>\n",
       "      <th>2</th>\n",
       "      <td>1</td>\n",
       "      <td>4</td>\n",
       "      <td>مالك يوم الدين</td>\n",
       "      <td>3</td>\n",
       "      <td>الفاتحة</td>\n",
       "      <td>[مالك يوم الدين]</td>\n",
       "      <td>(1, مالك يوم الدين)</td>\n",
       "      <td>001_004_001</td>\n",
       "      <td>مالك يوم الدين</td>\n",
       "      <td>3</td>\n",
       "    </tr>\n",
       "    <tr>\n",
       "      <th>3</th>\n",
       "      <td>1</td>\n",
       "      <td>5</td>\n",
       "      <td>إياك نعبد وإياك نستعين</td>\n",
       "      <td>4</td>\n",
       "      <td>الفاتحة</td>\n",
       "      <td>[إياك نعبد وإياك نستعين]</td>\n",
       "      <td>(1, إياك نعبد وإياك نستعين)</td>\n",
       "      <td>001_005_001</td>\n",
       "      <td>إياك نعبد وإياك نستعين</td>\n",
       "      <td>4</td>\n",
       "    </tr>\n",
       "    <tr>\n",
       "      <th>4</th>\n",
       "      <td>1</td>\n",
       "      <td>6</td>\n",
       "      <td>اهدنا الصراط المستقيم</td>\n",
       "      <td>3</td>\n",
       "      <td>الفاتحة</td>\n",
       "      <td>[اهدنا الصراط المستقيم]</td>\n",
       "      <td>(1, اهدنا الصراط المستقيم)</td>\n",
       "      <td>001_006_001</td>\n",
       "      <td>اهدنا الصراط المستقيم</td>\n",
       "      <td>3</td>\n",
       "    </tr>\n",
       "    <tr>\n",
       "      <th>...</th>\n",
       "      <td>...</td>\n",
       "      <td>...</td>\n",
       "      <td>...</td>\n",
       "      <td>...</td>\n",
       "      <td>...</td>\n",
       "      <td>...</td>\n",
       "      <td>...</td>\n",
       "      <td>...</td>\n",
       "      <td>...</td>\n",
       "      <td>...</td>\n",
       "    </tr>\n",
       "    <tr>\n",
       "      <th>7436</th>\n",
       "      <td>114</td>\n",
       "      <td>2</td>\n",
       "      <td>ملك الناس</td>\n",
       "      <td>2</td>\n",
       "      <td>الناس</td>\n",
       "      <td>[ملك الناس]</td>\n",
       "      <td>(1, ملك الناس)</td>\n",
       "      <td>114_002_001</td>\n",
       "      <td>ملك الناس</td>\n",
       "      <td>2</td>\n",
       "    </tr>\n",
       "    <tr>\n",
       "      <th>7437</th>\n",
       "      <td>114</td>\n",
       "      <td>3</td>\n",
       "      <td>إله الناس</td>\n",
       "      <td>2</td>\n",
       "      <td>الناس</td>\n",
       "      <td>[إله الناس]</td>\n",
       "      <td>(1, إله الناس)</td>\n",
       "      <td>114_003_001</td>\n",
       "      <td>إله الناس</td>\n",
       "      <td>2</td>\n",
       "    </tr>\n",
       "    <tr>\n",
       "      <th>7438</th>\n",
       "      <td>114</td>\n",
       "      <td>4</td>\n",
       "      <td>من شر الوسواس الخناس</td>\n",
       "      <td>4</td>\n",
       "      <td>الناس</td>\n",
       "      <td>[من شر الوسواس الخناس]</td>\n",
       "      <td>(1, من شر الوسواس الخناس)</td>\n",
       "      <td>114_004_001</td>\n",
       "      <td>من شر الوسواس الخناس</td>\n",
       "      <td>4</td>\n",
       "    </tr>\n",
       "    <tr>\n",
       "      <th>7439</th>\n",
       "      <td>114</td>\n",
       "      <td>5</td>\n",
       "      <td>الذي يوسوس في صدور الناس</td>\n",
       "      <td>5</td>\n",
       "      <td>الناس</td>\n",
       "      <td>[الذي يوسوس في صدور الناس]</td>\n",
       "      <td>(1, الذي يوسوس في صدور الناس)</td>\n",
       "      <td>114_005_001</td>\n",
       "      <td>الذي يوسوس في صدور الناس</td>\n",
       "      <td>5</td>\n",
       "    </tr>\n",
       "    <tr>\n",
       "      <th>7440</th>\n",
       "      <td>114</td>\n",
       "      <td>6</td>\n",
       "      <td>من الجنة والناس</td>\n",
       "      <td>3</td>\n",
       "      <td>الناس</td>\n",
       "      <td>[من الجنة والناس]</td>\n",
       "      <td>(1, من الجنة والناس)</td>\n",
       "      <td>114_006_001</td>\n",
       "      <td>من الجنة والناس</td>\n",
       "      <td>3</td>\n",
       "    </tr>\n",
       "  </tbody>\n",
       "</table>\n",
       "<p>7441 rows × 10 columns</p>\n",
       "</div>"
      ],
      "text/plain": [
       "      SURA_NO  AYA_NO                       AYA  LEN_AYA SURA_NAME  \\\n",
       "0           1       2     الحمد لله رب العالمين        4   الفاتحة   \n",
       "1           1       3             الرحمن الرحيم        2   الفاتحة   \n",
       "2           1       4            مالك يوم الدين        3   الفاتحة   \n",
       "3           1       5    إياك نعبد وإياك نستعين        4   الفاتحة   \n",
       "4           1       6     اهدنا الصراط المستقيم        3   الفاتحة   \n",
       "...       ...     ...                       ...      ...       ...   \n",
       "7436      114       2                 ملك الناس        2     الناس   \n",
       "7437      114       3                 إله الناس        2     الناس   \n",
       "7438      114       4      من شر الوسواس الخناس        4     الناس   \n",
       "7439      114       5  الذي يوسوس في صدور الناس        5     الناس   \n",
       "7440      114       6           من الجنة والناس        3     الناس   \n",
       "\n",
       "                   AYA_TOKENIZED           AYA_TOKENIZED_SERIAL UNIQUE_TOKEN  \\\n",
       "0        [الحمد لله رب العالمين]     (1, الحمد لله رب العالمين)  001_002_001   \n",
       "1                [الرحمن الرحيم]             (1, الرحمن الرحيم)  001_003_001   \n",
       "2               [مالك يوم الدين]            (1, مالك يوم الدين)  001_004_001   \n",
       "3       [إياك نعبد وإياك نستعين]    (1, إياك نعبد وإياك نستعين)  001_005_001   \n",
       "4        [اهدنا الصراط المستقيم]     (1, اهدنا الصراط المستقيم)  001_006_001   \n",
       "...                          ...                            ...          ...   \n",
       "7436                 [ملك الناس]                 (1, ملك الناس)  114_002_001   \n",
       "7437                 [إله الناس]                 (1, إله الناس)  114_003_001   \n",
       "7438      [من شر الوسواس الخناس]      (1, من شر الوسواس الخناس)  114_004_001   \n",
       "7439  [الذي يوسوس في صدور الناس]  (1, الذي يوسوس في صدور الناس)  114_005_001   \n",
       "7440           [من الجنة والناس]           (1, من الجنة والناس)  114_006_001   \n",
       "\n",
       "                  AYA_SENTENCE  LEN_AYA_SENTENCE  \n",
       "0        الحمد لله رب العالمين                 4  \n",
       "1                الرحمن الرحيم                 2  \n",
       "2               مالك يوم الدين                 3  \n",
       "3       إياك نعبد وإياك نستعين                 4  \n",
       "4        اهدنا الصراط المستقيم                 3  \n",
       "...                        ...               ...  \n",
       "7436                 ملك الناس                 2  \n",
       "7437                 إله الناس                 2  \n",
       "7438      من شر الوسواس الخناس                 4  \n",
       "7439  الذي يوسوس في صدور الناس                 5  \n",
       "7440           من الجنة والناس                 3  \n",
       "\n",
       "[7441 rows x 10 columns]"
      ]
     },
     "execution_count": 64,
     "metadata": {},
     "output_type": "execute_result"
    }
   ],
   "source": [
    "df"
   ]
  },
  {
   "cell_type": "code",
   "execution_count": null,
   "metadata": {},
   "outputs": [],
   "source": []
  }
 ],
 "metadata": {
  "kernelspec": {
   "display_name": "Python 3",
   "language": "python",
   "name": "python3"
  },
  "language_info": {
   "codemirror_mode": {
    "name": "ipython",
    "version": 3
   },
   "file_extension": ".py",
   "mimetype": "text/x-python",
   "name": "python",
   "nbconvert_exporter": "python",
   "pygments_lexer": "ipython3",
   "version": "3.8.7"
  }
 },
 "nbformat": 4,
 "nbformat_minor": 4
}
