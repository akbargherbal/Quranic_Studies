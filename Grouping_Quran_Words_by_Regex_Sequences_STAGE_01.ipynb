{
 "cells": [
  {
   "cell_type": "code",
   "execution_count": 1,
   "metadata": {},
   "outputs": [],
   "source": [
    "import pandas as pd\n",
    "\n",
    "from random import randint\n",
    "\n",
    "import regex as re\n",
    "\n",
    "from itertools import chain\n",
    "\n",
    "from random import choice\n",
    "\n",
    "import os"
   ]
  },
  {
   "cell_type": "code",
   "execution_count": 2,
   "metadata": {},
   "outputs": [],
   "source": [
    "df = pd.read_pickle('QURAN_REGEX_CHAR_SEQ_PATTERNS.pkl')"
   ]
  },
  {
   "cell_type": "code",
   "execution_count": 3,
   "metadata": {},
   "outputs": [],
   "source": [
    "pattern_01 = \"\"\"\n",
    "غافل\n",
    "صالح\n",
    "صابر\n",
    "\"\"\".strip().split()\n",
    "pattern_01 = [pat.strip() for pat in pattern_01]"
   ]
  },
  {
   "cell_type": "code",
   "execution_count": 71,
   "metadata": {},
   "outputs": [],
   "source": [
    "pattern_02 = \"\"\"\n",
    "معلوم\n",
    "مغضوب\n",
    "مرفوع\n",
    "\"\"\".strip().split()\n",
    "pattern_02 = [pat.strip() for pat in pattern_02]"
   ]
  },
  {
   "cell_type": "code",
   "execution_count": 72,
   "metadata": {},
   "outputs": [
    {
     "data": {
      "text/plain": [
       "['معلوم', 'مغضوب', 'مرفوع']"
      ]
     },
     "execution_count": 72,
     "metadata": {},
     "output_type": "execute_result"
    }
   ],
   "source": [
    "pattern_02"
   ]
  },
  {
   "cell_type": "code",
   "execution_count": 46,
   "metadata": {},
   "outputs": [],
   "source": [
    "def pattern_in_list(list_words, list_pat):\n",
    "    set_01 = set()\n",
    "    list_container = []\n",
    "    for word in list_words:\n",
    "        for pat in list_pat:\n",
    "            if pat in word:\n",
    "                set_01.add(pat)\n",
    "                list_container.append(word)\n",
    "    return set_01"
   ]
  },
  {
   "cell_type": "code",
   "execution_count": 47,
   "metadata": {},
   "outputs": [],
   "source": [
    "df_top = df.head(5)"
   ]
  },
  {
   "cell_type": "code",
   "execution_count": 48,
   "metadata": {},
   "outputs": [],
   "source": [
    "test = df.WORDS.iloc[0]"
   ]
  },
  {
   "cell_type": "code",
   "execution_count": 49,
   "metadata": {},
   "outputs": [
    {
     "data": {
      "text/plain": [
       "{'صابر', 'صالح', 'غافل'}"
      ]
     },
     "execution_count": 49,
     "metadata": {},
     "output_type": "execute_result"
    }
   ],
   "source": [
    "pattern_in_list(test, pattern_01)"
   ]
  },
  {
   "cell_type": "code",
   "execution_count": 50,
   "metadata": {},
   "outputs": [
    {
     "name": "stderr",
     "output_type": "stream",
     "text": [
      "<ipython-input-50-10fd75b2d9bd>:1: SettingWithCopyWarning: \n",
      "A value is trying to be set on a copy of a slice from a DataFrame.\n",
      "Try using .loc[row_indexer,col_indexer] = value instead\n",
      "\n",
      "See the caveats in the documentation: https://pandas.pydata.org/pandas-docs/stable/user_guide/indexing.html#returning-a-view-versus-a-copy\n",
      "  df_top['IDX'] = df_top.index\n"
     ]
    }
   ],
   "source": [
    "df_top['IDX'] = df_top.index"
   ]
  },
  {
   "cell_type": "code",
   "execution_count": 51,
   "metadata": {},
   "outputs": [],
   "source": [
    "set_result = set()\n",
    "for i in range(len(df_top)):\n",
    "    words = df_top.WORDS.iloc[i]\n",
    "    result = pattern_in_list(words, pattern_01)\n",
    "    set_result.update(result)"
   ]
  },
  {
   "cell_type": "code",
   "execution_count": 52,
   "metadata": {},
   "outputs": [
    {
     "data": {
      "text/plain": [
       "{'صابر', 'صالح', 'غافل'}"
      ]
     },
     "execution_count": 52,
     "metadata": {},
     "output_type": "execute_result"
    }
   ],
   "source": [
    "set_result"
   ]
  },
  {
   "cell_type": "code",
   "execution_count": 53,
   "metadata": {},
   "outputs": [],
   "source": [
    "df['SALIH'] = df['WORDS'].apply(lambda x: pattern_in_list(x, pattern_01))"
   ]
  },
  {
   "cell_type": "code",
   "execution_count": 57,
   "metadata": {},
   "outputs": [],
   "source": [
    "set_salih =  set(chain(*df[df.SALIH.apply(lambda x: len(x) == len(pattern_01))]['WORDS']))"
   ]
  },
  {
   "cell_type": "code",
   "execution_count": 60,
   "metadata": {},
   "outputs": [],
   "source": [
    "df_salih = pd.DataFrame(data = list(set_salih)).rename(columns={0: 'WORD'})"
   ]
  },
  {
   "cell_type": "code",
   "execution_count": 62,
   "metadata": {},
   "outputs": [],
   "source": [
    "#df_salih.to_excel('SALIH_MEASURE.xlsx', encoding='utf-8', index=False)"
   ]
  },
  {
   "cell_type": "code",
   "execution_count": null,
   "metadata": {},
   "outputs": [],
   "source": []
  },
  {
   "cell_type": "code",
   "execution_count": null,
   "metadata": {},
   "outputs": [],
   "source": [
    "def produce_dataset(pd_series='Series_List_Words'):\n",
    "    df_temp = pd.DataFrame(data={'WORDS': []})"
   ]
  },
  {
   "cell_type": "code",
   "execution_count": null,
   "metadata": {},
   "outputs": [],
   "source": []
  },
  {
   "cell_type": "code",
   "execution_count": 73,
   "metadata": {},
   "outputs": [],
   "source": [
    "df['MAQBOOH'] = df['WORDS'].apply(lambda x: pattern_in_list(x, pattern_02))"
   ]
  },
  {
   "cell_type": "code",
   "execution_count": 74,
   "metadata": {},
   "outputs": [
    {
     "data": {
      "text/html": [
       "<div>\n",
       "<style scoped>\n",
       "    .dataframe tbody tr th:only-of-type {\n",
       "        vertical-align: middle;\n",
       "    }\n",
       "\n",
       "    .dataframe tbody tr th {\n",
       "        vertical-align: top;\n",
       "    }\n",
       "\n",
       "    .dataframe thead th {\n",
       "        text-align: right;\n",
       "    }\n",
       "</style>\n",
       "<table border=\"1\" class=\"dataframe\">\n",
       "  <thead>\n",
       "    <tr style=\"text-align: right;\">\n",
       "      <th></th>\n",
       "      <th>SL_WIN_ALG_TRI</th>\n",
       "      <th>SL_WIN_ALG_TETRA</th>\n",
       "      <th>WORDS</th>\n",
       "      <th>COUNT_OF_WORDS_PER_GRAM_COMB</th>\n",
       "      <th>SALIH</th>\n",
       "      <th>MAQBOOH</th>\n",
       "    </tr>\n",
       "  </thead>\n",
       "  <tbody>\n",
       "    <tr>\n",
       "      <th>183</th>\n",
       "      <td>الو</td>\n",
       "      <td>المو</td>\n",
       "      <td>[المعلوم, المغضوب, المرفوع, المعمور, المبطلون,...</td>\n",
       "      <td>86</td>\n",
       "      <td>{}</td>\n",
       "      <td>{معلوم, مغضوب, مرفوع}</td>\n",
       "    </tr>\n",
       "    <tr>\n",
       "      <th>184</th>\n",
       "      <td>امو</td>\n",
       "      <td>المو</td>\n",
       "      <td>[المعلوم, المغضوب, المرفوع, المعمور, المبطلون,...</td>\n",
       "      <td>86</td>\n",
       "      <td>{}</td>\n",
       "      <td>{معلوم, مغضوب, مرفوع}</td>\n",
       "    </tr>\n",
       "    <tr>\n",
       "      <th>201</th>\n",
       "      <td>لمو</td>\n",
       "      <td>المو</td>\n",
       "      <td>[المعلوم, المغضوب, المرفوع, المعمور, المبطلون,...</td>\n",
       "      <td>83</td>\n",
       "      <td>{}</td>\n",
       "      <td>{معلوم, مغضوب, مرفوع}</td>\n",
       "    </tr>\n",
       "  </tbody>\n",
       "</table>\n",
       "</div>"
      ],
      "text/plain": [
       "    SL_WIN_ALG_TRI SL_WIN_ALG_TETRA  \\\n",
       "183            الو             المو   \n",
       "184            امو             المو   \n",
       "201            لمو             المو   \n",
       "\n",
       "                                                 WORDS  \\\n",
       "183  [المعلوم, المغضوب, المرفوع, المعمور, المبطلون,...   \n",
       "184  [المعلوم, المغضوب, المرفوع, المعمور, المبطلون,...   \n",
       "201  [المعلوم, المغضوب, المرفوع, المعمور, المبطلون,...   \n",
       "\n",
       "     COUNT_OF_WORDS_PER_GRAM_COMB SALIH                MAQBOOH  \n",
       "183                            86    {}  {معلوم, مغضوب, مرفوع}  \n",
       "184                            86    {}  {معلوم, مغضوب, مرفوع}  \n",
       "201                            83    {}  {معلوم, مغضوب, مرفوع}  "
      ]
     },
     "execution_count": 74,
     "metadata": {},
     "output_type": "execute_result"
    }
   ],
   "source": [
    "df[df.MAQBOOH.apply(lambda x: len(x) == len(pattern_02))]"
   ]
  },
  {
   "cell_type": "code",
   "execution_count": 75,
   "metadata": {},
   "outputs": [],
   "source": [
    "set_maqbooh =  set(chain(*df[df.MAQBOOH.apply(lambda x: len(x) == len(pattern_01))]['WORDS']))"
   ]
  },
  {
   "cell_type": "code",
   "execution_count": 78,
   "metadata": {},
   "outputs": [],
   "source": [
    "df_maqbooh = pd.DataFrame(data = list(set_maqbooh)).rename(columns={0: 'WORD'})"
   ]
  },
  {
   "cell_type": "code",
   "execution_count": 79,
   "metadata": {},
   "outputs": [],
   "source": [
    "#df_maqbooh.to_excel('MAQBOOH_MEASURE.xlsx', encoding='utf-8', index=False)"
   ]
  },
  {
   "cell_type": "code",
   "execution_count": 121,
   "metadata": {},
   "outputs": [],
   "source": [
    "with open('../DATASETS/Quran_Aya_Per_Line.txt', encoding='utf-8') as f:\n",
    "    lines = [line.strip() for line in f.readlines()]\n",
    "    q_words = [[word.strip() for word in line.split()] for line in lines]"
   ]
  },
  {
   "cell_type": "code",
   "execution_count": 122,
   "metadata": {},
   "outputs": [
    {
     "data": {
      "text/plain": [
       "['بسم', 'الله', 'الرحمن', 'الرحيم']"
      ]
     },
     "execution_count": 122,
     "metadata": {},
     "output_type": "execute_result"
    }
   ],
   "source": [
    "q_words[0]"
   ]
  },
  {
   "cell_type": "code",
   "execution_count": 123,
   "metadata": {},
   "outputs": [],
   "source": [
    "q_words = set(chain(*(q_words)))\n",
    "q_words_string = ' '.join(q_words)"
   ]
  },
  {
   "cell_type": "markdown",
   "metadata": {},
   "source": [
    "# VERY WIDE CATCH;\n",
    "# Consider working other solution; and filter based on that\n",
    "#  البحر الله قال خالدون"
   ]
  },
  {
   "cell_type": "code",
   "execution_count": 124,
   "metadata": {},
   "outputs": [],
   "source": [
    "reg_pat_01 = fr\"\"\"\n",
    "\\b\n",
    "\\S*\n",
    "ال\n",
    "\\S{{3}}\n",
    "\\b\n",
    "\"\"\".split()\n",
    "reg_pat_01 = [token.strip() for token in reg_pat_01]\n",
    "reg_pat_01 = ''.join(reg_pat_01)\n",
    "reg_pat_01 = re.compile(reg_pat_01)"
   ]
  },
  {
   "cell_type": "code",
   "execution_count": 125,
   "metadata": {},
   "outputs": [
    {
     "data": {
      "text/plain": [
       "'تسمع آخرين فثبطهم فسينفقونها الطفل النخلة لجوا فليعمل محلي حمإ تستفت لعنه فأخذتكم رجزا وليربط يهيج و'"
      ]
     },
     "execution_count": 125,
     "metadata": {},
     "output_type": "execute_result"
    }
   ],
   "source": [
    "q_words_string[:100]"
   ]
  },
  {
   "cell_type": "code",
   "execution_count": 127,
   "metadata": {},
   "outputs": [],
   "source": [
    "al_ta3reef = re.findall(reg_pat_01, q_words_string)"
   ]
  },
  {
   "cell_type": "code",
   "execution_count": 128,
   "metadata": {},
   "outputs": [
    {
     "data": {
      "text/plain": [
       "505"
      ]
     },
     "execution_count": 128,
     "metadata": {},
     "output_type": "execute_result"
    }
   ],
   "source": [
    "len(al_ta3reef)"
   ]
  },
  {
   "cell_type": "code",
   "execution_count": 129,
   "metadata": {
    "collapsed": true,
    "jupyter": {
     "outputs_hidden": true
    }
   },
   "outputs": [
    {
     "data": {
      "text/plain": [
       "['الطفل',\n",
       " 'سالمون',\n",
       " 'النون',\n",
       " 'المثل',\n",
       " 'بوالديه',\n",
       " 'الرزق',\n",
       " 'للوالدين',\n",
       " 'المآب',\n",
       " 'الكرة',\n",
       " 'كالحون',\n",
       " 'العرم',\n",
       " 'والظالمين',\n",
       " 'الغني',\n",
       " 'فالنار',\n",
       " 'بالخير',\n",
       " 'الجبل',\n",
       " 'الهدي',\n",
       " 'الهدى',\n",
       " 'الوزن',\n",
       " 'والذكر',\n",
       " 'بالهزل',\n",
       " 'والأذن',\n",
       " 'النجم',\n",
       " 'القتل',\n",
       " 'العبد',\n",
       " 'بالإفك',\n",
       " 'الكفل',\n",
       " 'بالعرف',\n",
       " 'والصلح',\n",
       " 'الأمر',\n",
       " 'والنوى',\n",
       " 'أخالفكم',\n",
       " 'بالصدق',\n",
       " 'السمع',\n",
       " 'المهد',\n",
       " 'الروع',\n",
       " 'بالهدى',\n",
       " 'الوقت',\n",
       " 'فالتاليات',\n",
       " 'الاسم',\n",
       " 'الشقة',\n",
       " 'القوي',\n",
       " 'الخالدون',\n",
       " 'الملإ',\n",
       " 'البأس',\n",
       " 'بالجنة',\n",
       " 'الأخت',\n",
       " 'والعشي',\n",
       " 'الكيل',\n",
       " 'والوزن',\n",
       " 'اليسر',\n",
       " 'فمالئون',\n",
       " 'الزاد',\n",
       " 'الفضل',\n",
       " 'العين',\n",
       " 'الضرر',\n",
       " 'للعالمين',\n",
       " 'والصبح',\n",
       " 'العفو',\n",
       " 'السعي',\n",
       " 'النهى',\n",
       " 'الصبح',\n",
       " 'الحبك',\n",
       " 'الأول',\n",
       " 'السدس',\n",
       " 'البعث',\n",
       " 'والشفع',\n",
       " 'الضأن',\n",
       " 'الطور',\n",
       " 'الإنس',\n",
       " 'النصر',\n",
       " 'الحجة',\n",
       " 'الريح',\n",
       " 'الرعد',\n",
       " 'الذين',\n",
       " 'والركع',\n",
       " 'والليل',\n",
       " 'السيل',\n",
       " 'بالأمن',\n",
       " 'الهيم',\n",
       " 'الفوز',\n",
       " 'بالنفس',\n",
       " 'الذلة',\n",
       " 'الصدع',\n",
       " 'القلب',\n",
       " 'الصور',\n",
       " 'الرجس',\n",
       " 'والصيف',\n",
       " 'والآخر',\n",
       " 'الفلك',\n",
       " 'والقمر',\n",
       " 'خالدون',\n",
       " 'بالغيه',\n",
       " 'باليوم',\n",
       " 'والدار',\n",
       " 'العالمين',\n",
       " 'البلد',\n",
       " 'الذكر',\n",
       " 'عاليهم',\n",
       " 'مالكون',\n",
       " 'كالوهم',\n",
       " 'التوب',\n",
       " 'الحرث',\n",
       " 'السرد',\n",
       " 'بالقلم',\n",
       " 'السيئ',\n",
       " 'الهوى',\n",
       " 'الغالبون',\n",
       " 'والتفت',\n",
       " 'كالطود',\n",
       " 'الحرم',\n",
       " 'فالتقى',\n",
       " 'بالأفق',\n",
       " 'والغنم',\n",
       " 'العرش',\n",
       " 'الجنة',\n",
       " 'الجهر',\n",
       " 'بالساق',\n",
       " 'الصالحون',\n",
       " 'الإثم',\n",
       " 'القرح',\n",
       " 'الغيب',\n",
       " 'الصرح',\n",
       " 'الدهر',\n",
       " 'والنوم',\n",
       " 'والفجر',\n",
       " 'البصر',\n",
       " 'الدمع',\n",
       " 'الطير',\n",
       " 'العهد',\n",
       " 'الرفد',\n",
       " 'الهالكين',\n",
       " 'الحكم',\n",
       " 'الجمع',\n",
       " 'السجن',\n",
       " 'القدر',\n",
       " 'بالروح',\n",
       " 'والزرع',\n",
       " 'الغالبين',\n",
       " 'بالعبد',\n",
       " 'والسعة',\n",
       " 'النصف',\n",
       " 'والناس',\n",
       " 'بالجبت',\n",
       " 'الذنب',\n",
       " 'خلالهما',\n",
       " 'والهدي',\n",
       " 'اللمم',\n",
       " 'الدار',\n",
       " 'الحول',\n",
       " 'والعبد',\n",
       " 'الكهف',\n",
       " 'الخالدين',\n",
       " 'الجنب',\n",
       " 'الآية',\n",
       " 'الأمم',\n",
       " 'الإبل',\n",
       " 'بالغدو',\n",
       " 'السبع',\n",
       " 'والنار',\n",
       " 'العسر',\n",
       " 'الكبر',\n",
       " 'العلى',\n",
       " 'العمي',\n",
       " 'بالغوه',\n",
       " 'الباب',\n",
       " 'بالغيب',\n",
       " 'الموج',\n",
       " 'والأنف',\n",
       " 'الشرك',\n",
       " 'البكم',\n",
       " 'والبدن',\n",
       " 'الثلث',\n",
       " 'الضعف',\n",
       " 'لظالمون',\n",
       " 'العقد',\n",
       " 'الظالمين',\n",
       " 'الملأ',\n",
       " 'الكرب',\n",
       " 'الولي',\n",
       " 'الحلم',\n",
       " 'بالظالمين',\n",
       " 'النفس',\n",
       " 'الزرع',\n",
       " 'وبالنجم',\n",
       " 'الداع',\n",
       " 'النصب',\n",
       " 'العزة',\n",
       " 'فالصالحات',\n",
       " 'والطير',\n",
       " 'الفجر',\n",
       " 'والجوع',\n",
       " 'المفر',\n",
       " 'الحشر',\n",
       " 'الورد',\n",
       " 'الطرف',\n",
       " 'السجل',\n",
       " 'الواد',\n",
       " 'بالدهن',\n",
       " 'الصدق',\n",
       " 'والطيب',\n",
       " 'والعين',\n",
       " 'السقف',\n",
       " 'بالذكر',\n",
       " 'والضحى',\n",
       " 'والغوا',\n",
       " 'القرى',\n",
       " 'بالشفق',\n",
       " 'العمر',\n",
       " 'الزنا',\n",
       " 'والبصر',\n",
       " 'اليوم',\n",
       " 'وبالزبر',\n",
       " 'الليل',\n",
       " 'والعمل',\n",
       " 'الوالدين',\n",
       " 'الخوف',\n",
       " 'والوتر',\n",
       " 'ورسالاته',\n",
       " 'الحطب',\n",
       " 'السوي',\n",
       " 'الفيل',\n",
       " 'اللغو',\n",
       " 'بالعهد',\n",
       " 'الشمس',\n",
       " 'الرعب',\n",
       " 'البسط',\n",
       " 'والظالمون',\n",
       " 'والأمر',\n",
       " 'فالذين',\n",
       " 'والهدى',\n",
       " 'القدس',\n",
       " 'البرق',\n",
       " 'الرهب',\n",
       " 'اللهو',\n",
       " 'الكفر',\n",
       " 'الفتح',\n",
       " 'والبحر',\n",
       " 'الخيل',\n",
       " 'الأمد',\n",
       " 'بالأنف',\n",
       " 'العالمون',\n",
       " 'المعز',\n",
       " 'بالفتح',\n",
       " 'فاليوم',\n",
       " 'الوالدان',\n",
       " 'والباد',\n",
       " 'والملك',\n",
       " 'وبالليل',\n",
       " 'الأجل',\n",
       " 'بالإثم',\n",
       " 'ظالمون',\n",
       " 'الكذب',\n",
       " 'فللوالدين',\n",
       " 'الكلب',\n",
       " 'والنور',\n",
       " 'الثمن',\n",
       " 'الذئب',\n",
       " 'النحل',\n",
       " 'بالذين',\n",
       " 'الصفا',\n",
       " 'الصيد',\n",
       " 'السحر',\n",
       " 'الخيط',\n",
       " 'خالدين',\n",
       " 'بالواد',\n",
       " 'والصالحين',\n",
       " 'الربع',\n",
       " 'واليوم',\n",
       " 'بعالمين',\n",
       " 'السبل',\n",
       " 'كالقصر',\n",
       " 'بوالدتي',\n",
       " 'العدة',\n",
       " 'الفصل',\n",
       " 'الساق',\n",
       " 'الجوع',\n",
       " 'البيع',\n",
       " 'بالأذن',\n",
       " 'العدو',\n",
       " 'العلم',\n",
       " 'فالحكم',\n",
       " 'ومواليكم',\n",
       " 'بالسوء',\n",
       " 'الصمد',\n",
       " 'العنت',\n",
       " 'النبي',\n",
       " 'عالمين',\n",
       " 'العجل',\n",
       " 'الأذل',\n",
       " 'الحجر',\n",
       " 'العزم',\n",
       " 'الميت',\n",
       " 'الطيب',\n",
       " 'النذر',\n",
       " 'الزبد',\n",
       " 'والسقف',\n",
       " 'الأرض',\n",
       " 'والعصر',\n",
       " 'الودق',\n",
       " 'الغار',\n",
       " 'بالخنس',\n",
       " 'الأكل',\n",
       " 'والركب',\n",
       " 'والسوء',\n",
       " 'بالليل',\n",
       " 'الطين',\n",
       " 'البقر',\n",
       " 'الوعد',\n",
       " 'الرشد',\n",
       " 'الغرق',\n",
       " 'الشعر',\n",
       " 'والأرض',\n",
       " 'الدرك',\n",
       " 'الجمل',\n",
       " 'النبإ',\n",
       " 'الخمر',\n",
       " 'المرء',\n",
       " 'يخالفون',\n",
       " 'والبيت',\n",
       " 'بالكفر',\n",
       " 'السحت',\n",
       " 'والنذر',\n",
       " 'والنسل',\n",
       " 'غالبون',\n",
       " 'الحاج',\n",
       " 'وباليوم',\n",
       " 'برسالاتي',\n",
       " 'ولوالديك',\n",
       " 'والذين',\n",
       " 'المكر',\n",
       " 'القوى',\n",
       " 'والأذى',\n",
       " 'بالدين',\n",
       " 'بالصالحين',\n",
       " 'النعم',\n",
       " 'بالناس',\n",
       " 'والنخل',\n",
       " 'والحرث',\n",
       " 'الثرى',\n",
       " 'الهون',\n",
       " 'الرأس',\n",
       " 'للظالمين',\n",
       " 'الحنث',\n",
       " 'والنبي',\n",
       " 'عاليها',\n",
       " 'والجار',\n",
       " 'البدو',\n",
       " 'العير',\n",
       " 'والتين',\n",
       " 'البحر',\n",
       " 'بالقسط',\n",
       " 'بالعدل',\n",
       " 'لظالمين',\n",
       " 'الخلق',\n",
       " 'والدتك',\n",
       " 'الغضب',\n",
       " 'الأشر',\n",
       " 'العمى',\n",
       " 'الرسل',\n",
       " 'الأمل',\n",
       " 'الحزن',\n",
       " 'الموت',\n",
       " 'الرفث',\n",
       " 'والعير',\n",
       " 'الخصم',\n",
       " 'النار',\n",
       " 'بالوحي',\n",
       " 'الفلق',\n",
       " 'الجرز',\n",
       " 'الملك',\n",
       " 'بالطيب',\n",
       " 'ظالمين',\n",
       " 'الأيد',\n",
       " 'والجان',\n",
       " 'والإنس',\n",
       " 'الغيث',\n",
       " 'الماء',\n",
       " 'بالشمس',\n",
       " 'بالجنب',\n",
       " 'الميل',\n",
       " 'بالعين',\n",
       " 'النخل',\n",
       " 'السبت',\n",
       " 'والفلك',\n",
       " 'الرجز',\n",
       " 'الكلم',\n",
       " 'والخير',\n",
       " 'الفزع',\n",
       " 'والزبر',\n",
       " 'لوالديه',\n",
       " 'خالاتك',\n",
       " 'الصلب',\n",
       " 'بالبصر',\n",
       " 'بالبخل',\n",
       " 'كالظلل',\n",
       " 'الخزي',\n",
       " 'بالنذر',\n",
       " 'والشجر',\n",
       " 'اللهب',\n",
       " 'الفقر',\n",
       " 'كالعهن',\n",
       " 'الدبر',\n",
       " 'القمر',\n",
       " 'الخلد',\n",
       " 'والخوف',\n",
       " 'الناس',\n",
       " 'والروح',\n",
       " 'بالرسل',\n",
       " 'السير',\n",
       " 'بالقول',\n",
       " 'الخالقين',\n",
       " 'والطور',\n",
       " 'الأمي',\n",
       " 'الخير',\n",
       " 'العصف',\n",
       " 'البغي',\n",
       " 'والفتح',\n",
       " 'السلم',\n",
       " 'والأصم',\n",
       " 'والجسم',\n",
       " 'الظلة',\n",
       " 'والبغي',\n",
       " 'اللات',\n",
       " 'ببالغيه',\n",
       " 'الحوت',\n",
       " 'والقلم',\n",
       " 'القطر',\n",
       " 'الصخر',\n",
       " 'الصحف',\n",
       " 'البيت',\n",
       " 'واليسع',\n",
       " 'التقى',\n",
       " 'المال',\n",
       " 'المزن',\n",
       " 'الكنس',\n",
       " 'الغيظ',\n",
       " 'العلي',\n",
       " 'بالملك',\n",
       " 'الرأي',\n",
       " 'صالحين',\n",
       " 'والرجز',\n",
       " 'الذهب',\n",
       " 'الشهر',\n",
       " 'وبالوالدين',\n",
       " 'بالملإ',\n",
       " 'الشجر',\n",
       " 'كالذين',\n",
       " 'الأعز',\n",
       " 'الجان',\n",
       " 'القوم',\n",
       " 'والحكم',\n",
       " 'الملة',\n",
       " 'الصالحات',\n",
       " 'ضلالتهم',\n",
       " 'الزبر',\n",
       " 'والفضة',\n",
       " 'بالعشي',\n",
       " 'بالخلق',\n",
       " 'والحمد',\n",
       " 'والعزى',\n",
       " 'القوة',\n",
       " 'الآخر',\n",
       " 'بالبيت',\n",
       " 'الخبء',\n",
       " 'والقمل',\n",
       " 'النمل',\n",
       " 'الويل',\n",
       " 'القصص',\n",
       " 'والشهر',\n",
       " 'والشمس',\n",
       " 'والنجم',\n",
       " 'العظم',\n",
       " 'والخيل',\n",
       " 'بالصبر',\n",
       " 'اللهم',\n",
       " 'الطول',\n",
       " 'الروح',\n",
       " 'الصالحين',\n",
       " 'البشر',\n",
       " 'بالأمس',\n",
       " 'والإثم',\n",
       " 'القول',\n",
       " 'القسط',\n",
       " 'الأمن',\n",
       " 'والبلد',\n",
       " 'الخالقون',\n",
       " 'القيم',\n",
       " 'كالمهل',\n",
       " 'والوالدات',\n",
       " 'الروم',\n",
       " 'السوء',\n",
       " 'النور',\n",
       " 'الرجع',\n",
       " 'باللغو',\n",
       " 'الدين',\n",
       " 'الزور',\n",
       " 'بالشهر',\n",
       " 'الربا',\n",
       " 'الحرب',\n",
       " 'الصفح',\n",
       " 'الظالمون',\n",
       " 'بالسوق',\n",
       " 'الخالفين',\n",
       " 'الحمد']"
      ]
     },
     "execution_count": 129,
     "metadata": {},
     "output_type": "execute_result"
    }
   ],
   "source": [
    "al_ta3reef"
   ]
  },
  {
   "cell_type": "code",
   "execution_count": null,
   "metadata": {},
   "outputs": [],
   "source": []
  }
 ],
 "metadata": {
  "kernelspec": {
   "display_name": "Python 3",
   "language": "python",
   "name": "python3"
  },
  "language_info": {
   "codemirror_mode": {
    "name": "ipython",
    "version": 3
   },
   "file_extension": ".py",
   "mimetype": "text/x-python",
   "name": "python",
   "nbconvert_exporter": "python",
   "pygments_lexer": "ipython3",
   "version": "3.8.7"
  }
 },
 "nbformat": 4,
 "nbformat_minor": 4
}
