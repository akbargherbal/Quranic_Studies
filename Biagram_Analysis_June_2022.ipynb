{
 "cells": [
  {
   "cell_type": "code",
   "execution_count": 406,
   "metadata": {},
   "outputs": [
    {
     "data": {
      "text/plain": [
       "'C:\\\\Users\\\\gherb\\\\Jupyter_Notebooks\\\\13_06_2022_Quranic_Studies'"
      ]
     },
     "execution_count": 406,
     "metadata": {},
     "output_type": "execute_result"
    }
   ],
   "source": [
    "pwd"
   ]
  },
  {
   "cell_type": "code",
   "execution_count": 1,
   "metadata": {},
   "outputs": [],
   "source": [
    "from itertools import chain\n",
    "from collections import Counter\n"
   ]
  },
  {
   "cell_type": "code",
   "execution_count": 2,
   "metadata": {},
   "outputs": [],
   "source": [
    "import regex"
   ]
  },
  {
   "cell_type": "code",
   "execution_count": 3,
   "metadata": {},
   "outputs": [],
   "source": [
    "import pandas as pd"
   ]
  },
  {
   "cell_type": "code",
   "execution_count": 5,
   "metadata": {},
   "outputs": [],
   "source": [
    "import string_grouper"
   ]
  },
  {
   "cell_type": "code",
   "execution_count": 6,
   "metadata": {},
   "outputs": [],
   "source": [
    "from string_grouper import compute_pairwise_similarities, group_similar_strings, match_most_similar, match_strings"
   ]
  },
  {
   "cell_type": "code",
   "execution_count": 7,
   "metadata": {},
   "outputs": [],
   "source": [
    "def ngramize(x, n=3):\n",
    "    x = x.split()\n",
    "    return [\n",
    "    ' '.join(x[i:i+n] )\n",
    "    for i in range(\n",
    "    len(x)-n+1\n",
    "    )\n",
    "        ]"
   ]
  },
  {
   "cell_type": "code",
   "execution_count": 8,
   "metadata": {},
   "outputs": [],
   "source": [
    "with open('../DATASETS/Quran_Aya_Per_Line.txt', encoding='utf-8') as f:\n",
    "    lines = [line.strip() for line in f.readlines()]"
   ]
  },
  {
   "cell_type": "code",
   "execution_count": null,
   "metadata": {},
   "outputs": [],
   "source": []
  },
  {
   "cell_type": "code",
   "execution_count": 9,
   "metadata": {},
   "outputs": [],
   "source": [
    "bigram = list(chain(*[ngramize(line, 2) for line in lines]))"
   ]
  },
  {
   "cell_type": "code",
   "execution_count": 10,
   "metadata": {},
   "outputs": [],
   "source": [
    "trigram = list(chain(*[ngramize(line, 3) for line in lines]))"
   ]
  },
  {
   "cell_type": "code",
   "execution_count": 11,
   "metadata": {},
   "outputs": [],
   "source": [
    "tetragram = list(chain(*[ngramize(line, 4) for line in lines]))"
   ]
  },
  {
   "cell_type": "code",
   "execution_count": 12,
   "metadata": {},
   "outputs": [],
   "source": [
    "pentagram = list(chain(*[ngramize(line, 5) for line in lines]))"
   ]
  },
  {
   "cell_type": "code",
   "execution_count": 13,
   "metadata": {},
   "outputs": [],
   "source": [
    "hexagram = list(chain(*[ngramize(line, 6) for line in lines]))"
   ]
  },
  {
   "cell_type": "code",
   "execution_count": null,
   "metadata": {},
   "outputs": [],
   "source": []
  },
  {
   "cell_type": "code",
   "execution_count": 14,
   "metadata": {},
   "outputs": [],
   "source": [
    "df_bigram = pd.DataFrame(data=bigram)"
   ]
  },
  {
   "cell_type": "code",
   "execution_count": 17,
   "metadata": {},
   "outputs": [],
   "source": [
    "df_bigram = match_strings(df_bigram[0])"
   ]
  },
  {
   "cell_type": "code",
   "execution_count": 19,
   "metadata": {},
   "outputs": [],
   "source": [
    "df_bigram = df_bigram[df_bigram.left_side != df_bigram.right_side].reset_index(drop=True)"
   ]
  },
  {
   "cell_type": "code",
   "execution_count": 135,
   "metadata": {},
   "outputs": [],
   "source": [
    "def average_token_sim(x1, x2):\n",
    "    try:\n",
    "        x1 = x1.split()\n",
    "        x2 = x2.split()\n",
    "        container =  list(zip(x1, x2))\n",
    "        container = [compute_pairwise_similarities(pd.Series(i[0]), pd.Series(i[1])) for i in container]\n",
    "        container = pd.Series(container).mean()\n",
    "        return container\n",
    "    except:\n",
    "        return (x1, x2)\n",
    "        print(x1, x2)"
   ]
  },
  {
   "cell_type": "code",
   "execution_count": 136,
   "metadata": {},
   "outputs": [],
   "source": [
    "test_01 = df_bigram.left_side.iloc[0]\n",
    "test_02 = df_bigram.right_side.iloc[0]"
   ]
  },
  {
   "cell_type": "code",
   "execution_count": 137,
   "metadata": {},
   "outputs": [],
   "source": [
    "test_03 = average_token_sim(test_01, test_02)"
   ]
  },
  {
   "cell_type": "code",
   "execution_count": 138,
   "metadata": {},
   "outputs": [
    {
     "data": {
      "text/plain": [
       "0.5"
      ]
     },
     "execution_count": 138,
     "metadata": {},
     "output_type": "execute_result"
    }
   ],
   "source": [
    "test_03"
   ]
  },
  {
   "cell_type": "code",
   "execution_count": 139,
   "metadata": {},
   "outputs": [
    {
     "data": {
      "text/plain": [
       "('له الرحمن', 'الله الرحمن')"
      ]
     },
     "execution_count": 139,
     "metadata": {},
     "output_type": "execute_result"
    }
   ],
   "source": [
    "test_01, test_02"
   ]
  },
  {
   "cell_type": "code",
   "execution_count": 142,
   "metadata": {},
   "outputs": [],
   "source": [
    "df_bigram['L1'] = df_bigram.left_side.apply(lambda x: x.split()[0])\n",
    "df_bigram['L2'] = df_bigram.left_side.apply(lambda x: x.split()[1])\n",
    "df_bigram['R1'] = df_bigram.right_side.apply(lambda x: x.split()[0])\n",
    "df_bigram['R2'] = df_bigram.right_side.apply(lambda x: x.split()[1])"
   ]
  },
  {
   "cell_type": "code",
   "execution_count": 145,
   "metadata": {},
   "outputs": [],
   "source": [
    "df_bigram['L1_R1'] = compute_pairwise_similarities(df_bigram.L1, df_bigram.R1)\n",
    "df_bigram['L2_R2'] = compute_pairwise_similarities(df_bigram.L2, df_bigram.R2)"
   ]
  },
  {
   "cell_type": "code",
   "execution_count": 148,
   "metadata": {},
   "outputs": [],
   "source": [
    "df_bigram['MEAN_TOKEN_SIM'] = (df_bigram.L2_R2 + df_bigram.L1_R1) / 2"
   ]
  },
  {
   "cell_type": "code",
   "execution_count": 172,
   "metadata": {},
   "outputs": [],
   "source": [
    "df_bigram = df_bigram[df_bigram['MEAN_TOKEN_SIM']>0.5].reset_index(drop=True)"
   ]
  },
  {
   "cell_type": "code",
   "execution_count": 237,
   "metadata": {},
   "outputs": [],
   "source": [
    "df_bigram_beta = df_bigram.groupby(['L1'], as_index=False).agg({'R1': lambda x: x.tolist()})"
   ]
  },
  {
   "cell_type": "code",
   "execution_count": 238,
   "metadata": {},
   "outputs": [],
   "source": [
    "df_bigram_beta = df_bigram_beta.reset_index(drop=True)"
   ]
  },
  {
   "cell_type": "code",
   "execution_count": 239,
   "metadata": {},
   "outputs": [],
   "source": [
    "df_bigram_beta['LEN'] = df_bigram_beta['R1'].apply(lambda x: len(x))"
   ]
  },
  {
   "cell_type": "code",
   "execution_count": 240,
   "metadata": {},
   "outputs": [],
   "source": [
    "df_bigram_beta = df_bigram_beta.sort_values(['LEN'], ascending=False).reset_index(drop=True)"
   ]
  },
  {
   "cell_type": "code",
   "execution_count": 241,
   "metadata": {},
   "outputs": [
    {
     "data": {
      "text/html": [
       "<div>\n",
       "<style scoped>\n",
       "    .dataframe tbody tr th:only-of-type {\n",
       "        vertical-align: middle;\n",
       "    }\n",
       "\n",
       "    .dataframe tbody tr th {\n",
       "        vertical-align: top;\n",
       "    }\n",
       "\n",
       "    .dataframe thead th {\n",
       "        text-align: right;\n",
       "    }\n",
       "</style>\n",
       "<table border=\"1\" class=\"dataframe\">\n",
       "  <thead>\n",
       "    <tr style=\"text-align: right;\">\n",
       "      <th></th>\n",
       "      <th>L1</th>\n",
       "      <th>R1</th>\n",
       "      <th>LEN</th>\n",
       "    </tr>\n",
       "  </thead>\n",
       "  <tbody>\n",
       "    <tr>\n",
       "      <th>0</th>\n",
       "      <td>الذين</td>\n",
       "      <td>[الذين, الذين, والذين, والذين, والذين, والذين,...</td>\n",
       "      <td>16249</td>\n",
       "    </tr>\n",
       "    <tr>\n",
       "      <th>1</th>\n",
       "      <td>والذين</td>\n",
       "      <td>[الذين, الذين, الذين, الذين, الذين, الذين, الذ...</td>\n",
       "      <td>10581</td>\n",
       "    </tr>\n",
       "    <tr>\n",
       "      <th>2</th>\n",
       "      <td>الله</td>\n",
       "      <td>[لله, الله, الله, بالله, بالله, الله, الله, ال...</td>\n",
       "      <td>8634</td>\n",
       "    </tr>\n",
       "    <tr>\n",
       "      <th>3</th>\n",
       "      <td>للذين</td>\n",
       "      <td>[الذين, الذين, الذين, الذين, الذين, الذين, الذ...</td>\n",
       "      <td>6274</td>\n",
       "    </tr>\n",
       "    <tr>\n",
       "      <th>4</th>\n",
       "      <td>والله</td>\n",
       "      <td>[الله, الله, الله, الله, الله, الله, الله, الل...</td>\n",
       "      <td>2721</td>\n",
       "    </tr>\n",
       "    <tr>\n",
       "      <th>5</th>\n",
       "      <td>وما</td>\n",
       "      <td>[وما, وما, وما, وما, وما, وما, وما, وما, وما, ...</td>\n",
       "      <td>2447</td>\n",
       "    </tr>\n",
       "    <tr>\n",
       "      <th>6</th>\n",
       "      <td>على</td>\n",
       "      <td>[على, على, على, على, وعلى, على, على, على, على,...</td>\n",
       "      <td>1347</td>\n",
       "    </tr>\n",
       "    <tr>\n",
       "      <th>7</th>\n",
       "      <td>فالذين</td>\n",
       "      <td>[الذين, الذين, والذين, والذين, والذين, والذين,...</td>\n",
       "      <td>1202</td>\n",
       "    </tr>\n",
       "    <tr>\n",
       "      <th>8</th>\n",
       "      <td>بالله</td>\n",
       "      <td>[الله, الله, الله, الله, الله, الله, الله, الل...</td>\n",
       "      <td>1171</td>\n",
       "    </tr>\n",
       "    <tr>\n",
       "      <th>9</th>\n",
       "      <td>لهم</td>\n",
       "      <td>[ولهم, ولهم, ولهم, ولهم, ولهم, ولهم, ولهم, وله...</td>\n",
       "      <td>1101</td>\n",
       "    </tr>\n",
       "    <tr>\n",
       "      <th>10</th>\n",
       "      <td>لله</td>\n",
       "      <td>[الله, الله, الله, الله, فالله, ولله, الله, ال...</td>\n",
       "      <td>1044</td>\n",
       "    </tr>\n",
       "    <tr>\n",
       "      <th>11</th>\n",
       "      <td>إلى</td>\n",
       "      <td>[وإلى, وإلى, وإلى, وإلى, وإلى, وإلى, وإلى, وإل...</td>\n",
       "      <td>987</td>\n",
       "    </tr>\n",
       "    <tr>\n",
       "      <th>12</th>\n",
       "      <td>وعلى</td>\n",
       "      <td>[على, على, على, على, على, على, على, على, على, ...</td>\n",
       "      <td>843</td>\n",
       "    </tr>\n",
       "    <tr>\n",
       "      <th>13</th>\n",
       "      <td>أنزل</td>\n",
       "      <td>[أنزل, أنزل, أنزل, أنزل, أنزل, أنزل, أنزل, أنز...</td>\n",
       "      <td>753</td>\n",
       "    </tr>\n",
       "    <tr>\n",
       "      <th>14</th>\n",
       "      <td>واتقوا</td>\n",
       "      <td>[فاتقوا, اتقوا, اتقوا, اتقوا, اتقوا, اتقوا, ات...</td>\n",
       "      <td>751</td>\n",
       "    </tr>\n",
       "    <tr>\n",
       "      <th>15</th>\n",
       "      <td>وقال</td>\n",
       "      <td>[قال, قال, قال, قال, قال, قال, قال, قال, قال, ...</td>\n",
       "      <td>716</td>\n",
       "    </tr>\n",
       "    <tr>\n",
       "      <th>16</th>\n",
       "      <td>قال</td>\n",
       "      <td>[قال, قال, قال, وقال, وقال, وقال, وقال, وقال, ...</td>\n",
       "      <td>713</td>\n",
       "    </tr>\n",
       "    <tr>\n",
       "      <th>17</th>\n",
       "      <td>يوم</td>\n",
       "      <td>[ويوم, ويوم, ويوم, ويوم, ويوم, ويوم, ويوم, ويو...</td>\n",
       "      <td>691</td>\n",
       "    </tr>\n",
       "    <tr>\n",
       "      <th>18</th>\n",
       "      <td>ولهم</td>\n",
       "      <td>[لهم, لهم, لهم, لهم, لهم, لهم, لهم, لهم, لهم, ...</td>\n",
       "      <td>658</td>\n",
       "    </tr>\n",
       "    <tr>\n",
       "      <th>19</th>\n",
       "      <td>فاتقوا</td>\n",
       "      <td>[واتقوا, واتقوا, واتقوا, واتقوا, واتقوا, واتقو...</td>\n",
       "      <td>625</td>\n",
       "    </tr>\n",
       "    <tr>\n",
       "      <th>20</th>\n",
       "      <td>كان</td>\n",
       "      <td>[لكان, كان, كان, وكان, وكان, وكان, وكان, وكان,...</td>\n",
       "      <td>546</td>\n",
       "    </tr>\n",
       "    <tr>\n",
       "      <th>21</th>\n",
       "      <td>وكان</td>\n",
       "      <td>[كان, كان, كان, كان, كان, كان, كان, كان, كان, ...</td>\n",
       "      <td>541</td>\n",
       "    </tr>\n",
       "    <tr>\n",
       "      <th>22</th>\n",
       "      <td>آيات</td>\n",
       "      <td>[بآيات, بآيات, بآيات, بآيات, بآيات, بآيات, بآي...</td>\n",
       "      <td>526</td>\n",
       "    </tr>\n",
       "    <tr>\n",
       "      <th>23</th>\n",
       "      <td>ويوم</td>\n",
       "      <td>[يوم, يوم, يوم, يوم, يوم, يوم, يوم, يوم, يوم, ...</td>\n",
       "      <td>522</td>\n",
       "    </tr>\n",
       "    <tr>\n",
       "      <th>24</th>\n",
       "      <td>بآيات</td>\n",
       "      <td>[آيات, آيات, آيات, آيات, آيات, آيات, آيات, آيا...</td>\n",
       "      <td>500</td>\n",
       "    </tr>\n",
       "    <tr>\n",
       "      <th>25</th>\n",
       "      <td>ولكن</td>\n",
       "      <td>[ولكن, ولكن, ولكن, ولكن, ولكن, ولكن, ولكن, ولك...</td>\n",
       "      <td>493</td>\n",
       "    </tr>\n",
       "    <tr>\n",
       "      <th>26</th>\n",
       "      <td>الأرض</td>\n",
       "      <td>[والأرض, والأرض, والأرض, والأرض, والأرض, والأر...</td>\n",
       "      <td>480</td>\n",
       "    </tr>\n",
       "    <tr>\n",
       "      <th>27</th>\n",
       "      <td>ذلك</td>\n",
       "      <td>[ذلك, ذلك, ذلك, ذلك, ذلك, ذلك, ذلك, ذلك, ذلك, ...</td>\n",
       "      <td>477</td>\n",
       "    </tr>\n",
       "    <tr>\n",
       "      <th>28</th>\n",
       "      <td>والأرض</td>\n",
       "      <td>[الأرض, الأرض, الأرض, الأرض, الأرض, الأرض, الأ...</td>\n",
       "      <td>464</td>\n",
       "    </tr>\n",
       "    <tr>\n",
       "      <th>29</th>\n",
       "      <td>إلا</td>\n",
       "      <td>[إلا, إلا, إلا, إلا, إلا, إلا, إلا, إلا, إلا, ...</td>\n",
       "      <td>458</td>\n",
       "    </tr>\n",
       "  </tbody>\n",
       "</table>\n",
       "</div>"
      ],
      "text/plain": [
       "        L1                                                 R1    LEN\n",
       "0    الذين  [الذين, الذين, والذين, والذين, والذين, والذين,...  16249\n",
       "1   والذين  [الذين, الذين, الذين, الذين, الذين, الذين, الذ...  10581\n",
       "2     الله  [لله, الله, الله, بالله, بالله, الله, الله, ال...   8634\n",
       "3    للذين  [الذين, الذين, الذين, الذين, الذين, الذين, الذ...   6274\n",
       "4    والله  [الله, الله, الله, الله, الله, الله, الله, الل...   2721\n",
       "5      وما  [وما, وما, وما, وما, وما, وما, وما, وما, وما, ...   2447\n",
       "6      على  [على, على, على, على, وعلى, على, على, على, على,...   1347\n",
       "7   فالذين  [الذين, الذين, والذين, والذين, والذين, والذين,...   1202\n",
       "8    بالله  [الله, الله, الله, الله, الله, الله, الله, الل...   1171\n",
       "9      لهم  [ولهم, ولهم, ولهم, ولهم, ولهم, ولهم, ولهم, وله...   1101\n",
       "10     لله  [الله, الله, الله, الله, فالله, ولله, الله, ال...   1044\n",
       "11     إلى  [وإلى, وإلى, وإلى, وإلى, وإلى, وإلى, وإلى, وإل...    987\n",
       "12    وعلى  [على, على, على, على, على, على, على, على, على, ...    843\n",
       "13    أنزل  [أنزل, أنزل, أنزل, أنزل, أنزل, أنزل, أنزل, أنز...    753\n",
       "14  واتقوا  [فاتقوا, اتقوا, اتقوا, اتقوا, اتقوا, اتقوا, ات...    751\n",
       "15    وقال  [قال, قال, قال, قال, قال, قال, قال, قال, قال, ...    716\n",
       "16     قال  [قال, قال, قال, وقال, وقال, وقال, وقال, وقال, ...    713\n",
       "17     يوم  [ويوم, ويوم, ويوم, ويوم, ويوم, ويوم, ويوم, ويو...    691\n",
       "18    ولهم  [لهم, لهم, لهم, لهم, لهم, لهم, لهم, لهم, لهم, ...    658\n",
       "19  فاتقوا  [واتقوا, واتقوا, واتقوا, واتقوا, واتقوا, واتقو...    625\n",
       "20     كان  [لكان, كان, كان, وكان, وكان, وكان, وكان, وكان,...    546\n",
       "21    وكان  [كان, كان, كان, كان, كان, كان, كان, كان, كان, ...    541\n",
       "22    آيات  [بآيات, بآيات, بآيات, بآيات, بآيات, بآيات, بآي...    526\n",
       "23    ويوم  [يوم, يوم, يوم, يوم, يوم, يوم, يوم, يوم, يوم, ...    522\n",
       "24   بآيات  [آيات, آيات, آيات, آيات, آيات, آيات, آيات, آيا...    500\n",
       "25    ولكن  [ولكن, ولكن, ولكن, ولكن, ولكن, ولكن, ولكن, ولك...    493\n",
       "26   الأرض  [والأرض, والأرض, والأرض, والأرض, والأرض, والأر...    480\n",
       "27     ذلك  [ذلك, ذلك, ذلك, ذلك, ذلك, ذلك, ذلك, ذلك, ذلك, ...    477\n",
       "28  والأرض  [الأرض, الأرض, الأرض, الأرض, الأرض, الأرض, الأ...    464\n",
       "29     إلا  [إلا, إلا, إلا, إلا, إلا, إلا, إلا, إلا, إلا, ...    458"
      ]
     },
     "execution_count": 241,
     "metadata": {},
     "output_type": "execute_result"
    }
   ],
   "source": [
    "df_bigram_beta.head(30)"
   ]
  },
  {
   "cell_type": "code",
   "execution_count": null,
   "metadata": {},
   "outputs": [],
   "source": []
  },
  {
   "cell_type": "code",
   "execution_count": 242,
   "metadata": {},
   "outputs": [],
   "source": [
    "df_bigram_beta['IDX_01'] = df_bigram_beta.index"
   ]
  },
  {
   "cell_type": "code",
   "execution_count": 243,
   "metadata": {},
   "outputs": [],
   "source": [
    "df_bigram_beta['SET_R1'] = df_bigram_beta['R1'].apply(lambda x: set(x))"
   ]
  },
  {
   "cell_type": "code",
   "execution_count": null,
   "metadata": {},
   "outputs": [],
   "source": []
  },
  {
   "cell_type": "code",
   "execution_count": null,
   "metadata": {},
   "outputs": [],
   "source": []
  },
  {
   "cell_type": "code",
   "execution_count": 246,
   "metadata": {},
   "outputs": [],
   "source": [
    "df_bigram_beta['DICT_TOKEN_IDX'] = df_bigram_beta.apply(lambda x: {i: x['IDX_01'] for i in x['SET_R1']}, axis=1)"
   ]
  },
  {
   "cell_type": "code",
   "execution_count": 250,
   "metadata": {},
   "outputs": [
    {
     "data": {
      "text/html": [
       "<div>\n",
       "<style scoped>\n",
       "    .dataframe tbody tr th:only-of-type {\n",
       "        vertical-align: middle;\n",
       "    }\n",
       "\n",
       "    .dataframe tbody tr th {\n",
       "        vertical-align: top;\n",
       "    }\n",
       "\n",
       "    .dataframe thead th {\n",
       "        text-align: right;\n",
       "    }\n",
       "</style>\n",
       "<table border=\"1\" class=\"dataframe\">\n",
       "  <thead>\n",
       "    <tr style=\"text-align: right;\">\n",
       "      <th></th>\n",
       "      <th>L1</th>\n",
       "      <th>R1</th>\n",
       "      <th>LEN</th>\n",
       "      <th>IDX_01</th>\n",
       "      <th>SET_R1</th>\n",
       "      <th>DICT_TOKEN_IDX</th>\n",
       "    </tr>\n",
       "  </thead>\n",
       "  <tbody>\n",
       "    <tr>\n",
       "      <th>178</th>\n",
       "      <td>كفى</td>\n",
       "      <td>[وكفى, وكفى, وكفى, وكفى, وكفى, وكفى, وكفى, وكف...</td>\n",
       "      <td>42</td>\n",
       "      <td>178</td>\n",
       "      <td>{فكفى, وكفى}</td>\n",
       "      <td>{'فكفى': 178, 'وكفى': 178}</td>\n",
       "    </tr>\n",
       "    <tr>\n",
       "      <th>124</th>\n",
       "      <td>جاء</td>\n",
       "      <td>[جاء, جاء, جاء, جاء, جاء, جاء, جاء, وجاء, وجاء...</td>\n",
       "      <td>67</td>\n",
       "      <td>124</td>\n",
       "      <td>{وجاء, جاء, فجاء}</td>\n",
       "      <td>{'وجاء': 124, 'جاء': 124, 'فجاء': 124}</td>\n",
       "    </tr>\n",
       "    <tr>\n",
       "      <th>245</th>\n",
       "      <td>ومما</td>\n",
       "      <td>[مما, مما, مما, مما, مما, مما, مما, مما, مما, ...</td>\n",
       "      <td>25</td>\n",
       "      <td>245</td>\n",
       "      <td>{مما}</td>\n",
       "      <td>{'مما': 245}</td>\n",
       "    </tr>\n",
       "  </tbody>\n",
       "</table>\n",
       "</div>"
      ],
      "text/plain": [
       "       L1                                                 R1  LEN  IDX_01  \\\n",
       "178   كفى  [وكفى, وكفى, وكفى, وكفى, وكفى, وكفى, وكفى, وكف...   42     178   \n",
       "124   جاء  [جاء, جاء, جاء, جاء, جاء, جاء, جاء, وجاء, وجاء...   67     124   \n",
       "245  ومما  [مما, مما, مما, مما, مما, مما, مما, مما, مما, ...   25     245   \n",
       "\n",
       "                SET_R1                          DICT_TOKEN_IDX  \n",
       "178       {فكفى, وكفى}              {'فكفى': 178, 'وكفى': 178}  \n",
       "124  {وجاء, جاء, فجاء}  {'وجاء': 124, 'جاء': 124, 'فجاء': 124}  \n",
       "245              {مما}                            {'مما': 245}  "
      ]
     },
     "execution_count": 250,
     "metadata": {},
     "output_type": "execute_result"
    }
   ],
   "source": [
    "df_bigram_beta.sample(3)"
   ]
  },
  {
   "cell_type": "code",
   "execution_count": 253,
   "metadata": {},
   "outputs": [
    {
     "data": {
      "text/html": [
       "<div>\n",
       "<style scoped>\n",
       "    .dataframe tbody tr th:only-of-type {\n",
       "        vertical-align: middle;\n",
       "    }\n",
       "\n",
       "    .dataframe tbody tr th {\n",
       "        vertical-align: top;\n",
       "    }\n",
       "\n",
       "    .dataframe thead th {\n",
       "        text-align: right;\n",
       "    }\n",
       "</style>\n",
       "<table border=\"1\" class=\"dataframe\">\n",
       "  <thead>\n",
       "    <tr style=\"text-align: right;\">\n",
       "      <th></th>\n",
       "      <th>L1</th>\n",
       "      <th>R1</th>\n",
       "      <th>LEN</th>\n",
       "      <th>IDX_01</th>\n",
       "      <th>SET_R1</th>\n",
       "      <th>DICT_TOKEN_IDX</th>\n",
       "    </tr>\n",
       "  </thead>\n",
       "  <tbody>\n",
       "    <tr>\n",
       "      <th>139</th>\n",
       "      <td>مما</td>\n",
       "      <td>[ومما, ومما, ومما, ومما, مما, مما, مما, مما, م...</td>\n",
       "      <td>59</td>\n",
       "      <td>139</td>\n",
       "      <td>{ومما, وما, مما}</td>\n",
       "      <td>{'ومما': 139, 'وما': 139, 'مما': 139}</td>\n",
       "    </tr>\n",
       "  </tbody>\n",
       "</table>\n",
       "</div>"
      ],
      "text/plain": [
       "      L1                                                 R1  LEN  IDX_01  \\\n",
       "139  مما  [ومما, ومما, ومما, ومما, مما, مما, مما, مما, م...   59     139   \n",
       "\n",
       "               SET_R1                         DICT_TOKEN_IDX  \n",
       "139  {ومما, وما, مما}  {'ومما': 139, 'وما': 139, 'مما': 139}  "
      ]
     },
     "execution_count": 253,
     "metadata": {},
     "output_type": "execute_result"
    }
   ],
   "source": [
    "df_bigram_beta[df_bigram_beta['L1'] == 'مما']"
   ]
  },
  {
   "cell_type": "code",
   "execution_count": 371,
   "metadata": {},
   "outputs": [],
   "source": [
    "dict_container = dict()"
   ]
  },
  {
   "cell_type": "code",
   "execution_count": 372,
   "metadata": {},
   "outputs": [],
   "source": [
    "for (idx) in range(len(df_bigram_beta)):\n",
    "    token = df_bigram_beta['L1'].iloc[idx]\n",
    "    inner_set = df_bigram_beta['SET_R1'].iloc[idx]\n",
    "    \n",
    "    if token not in dict_container:\n",
    "        dict_container[token] = (idx, token)\n",
    "        \n",
    "    for token_inner in inner_set:\n",
    "        if token_inner not in dict_container:\n",
    "            try:\n",
    "                pass_01 = dict_container[token]\n",
    "                dict_container[token_inner] = pass_01\n",
    "            except:\n",
    "                dict_container[token_inner] = (idx, token)"
   ]
  },
  {
   "cell_type": "code",
   "execution_count": null,
   "metadata": {},
   "outputs": [],
   "source": []
  },
  {
   "cell_type": "code",
   "execution_count": null,
   "metadata": {},
   "outputs": [],
   "source": []
  },
  {
   "cell_type": "code",
   "execution_count": 377,
   "metadata": {},
   "outputs": [
    {
     "data": {
      "text/plain": [
       "(490, 'فانظروا')"
      ]
     },
     "execution_count": 377,
     "metadata": {},
     "output_type": "execute_result"
    }
   ],
   "source": [
    "dict_container['ينظروا']"
   ]
  },
  {
   "cell_type": "code",
   "execution_count": 378,
   "metadata": {},
   "outputs": [],
   "source": [
    "df_test = pd.DataFrame(dict_container.items())"
   ]
  },
  {
   "cell_type": "code",
   "execution_count": 384,
   "metadata": {},
   "outputs": [],
   "source": [
    "df_test[2] = df_test[1].apply(lambda x: x[1])"
   ]
  },
  {
   "cell_type": "code",
   "execution_count": 423,
   "metadata": {},
   "outputs": [
    {
     "data": {
      "text/html": [
       "<div>\n",
       "<style scoped>\n",
       "    .dataframe tbody tr th:only-of-type {\n",
       "        vertical-align: middle;\n",
       "    }\n",
       "\n",
       "    .dataframe tbody tr th {\n",
       "        vertical-align: top;\n",
       "    }\n",
       "\n",
       "    .dataframe thead th {\n",
       "        text-align: right;\n",
       "    }\n",
       "</style>\n",
       "<table border=\"1\" class=\"dataframe\">\n",
       "  <thead>\n",
       "    <tr style=\"text-align: right;\">\n",
       "      <th></th>\n",
       "      <th>0</th>\n",
       "      <th>1</th>\n",
       "      <th>2</th>\n",
       "    </tr>\n",
       "  </thead>\n",
       "  <tbody>\n",
       "    <tr>\n",
       "      <th>6</th>\n",
       "      <td>الله</td>\n",
       "      <td>(2, الله)</td>\n",
       "      <td>الله</td>\n",
       "    </tr>\n",
       "    <tr>\n",
       "      <th>7</th>\n",
       "      <td>فالله</td>\n",
       "      <td>(2, الله)</td>\n",
       "      <td>الله</td>\n",
       "    </tr>\n",
       "    <tr>\n",
       "      <th>9</th>\n",
       "      <td>ولله</td>\n",
       "      <td>(2, الله)</td>\n",
       "      <td>الله</td>\n",
       "    </tr>\n",
       "    <tr>\n",
       "      <th>10</th>\n",
       "      <td>والله</td>\n",
       "      <td>(2, الله)</td>\n",
       "      <td>الله</td>\n",
       "    </tr>\n",
       "    <tr>\n",
       "      <th>12</th>\n",
       "      <td>بالله</td>\n",
       "      <td>(2, الله)</td>\n",
       "      <td>الله</td>\n",
       "    </tr>\n",
       "    <tr>\n",
       "      <th>13</th>\n",
       "      <td>أبالله</td>\n",
       "      <td>(2, الله)</td>\n",
       "      <td>الله</td>\n",
       "    </tr>\n",
       "    <tr>\n",
       "      <th>14</th>\n",
       "      <td>تالله</td>\n",
       "      <td>(2, الله)</td>\n",
       "      <td>الله</td>\n",
       "    </tr>\n",
       "    <tr>\n",
       "      <th>16</th>\n",
       "      <td>لله</td>\n",
       "      <td>(2, الله)</td>\n",
       "      <td>الله</td>\n",
       "    </tr>\n",
       "    <tr>\n",
       "      <th>42</th>\n",
       "      <td>فلله</td>\n",
       "      <td>(2, الله)</td>\n",
       "      <td>الله</td>\n",
       "    </tr>\n",
       "  </tbody>\n",
       "</table>\n",
       "</div>"
      ],
      "text/plain": [
       "         0          1     2\n",
       "6     الله  (2, الله)  الله\n",
       "7    فالله  (2, الله)  الله\n",
       "9     ولله  (2, الله)  الله\n",
       "10   والله  (2, الله)  الله\n",
       "12   بالله  (2, الله)  الله\n",
       "13  أبالله  (2, الله)  الله\n",
       "14   تالله  (2, الله)  الله\n",
       "16     لله  (2, الله)  الله\n",
       "42    فلله  (2, الله)  الله"
      ]
     },
     "execution_count": 423,
     "metadata": {},
     "output_type": "execute_result"
    }
   ],
   "source": [
    "df_test[df_test[0].apply(lambda x: 'لله' in x)]"
   ]
  },
  {
   "cell_type": "code",
   "execution_count": null,
   "metadata": {},
   "outputs": [],
   "source": []
  },
  {
   "cell_type": "code",
   "execution_count": 400,
   "metadata": {},
   "outputs": [],
   "source": [
    "x = 'word'"
   ]
  },
  {
   "cell_type": "code",
   "execution_count": 401,
   "metadata": {},
   "outputs": [
    {
     "data": {
      "text/plain": [
       "'w'"
      ]
     },
     "execution_count": 401,
     "metadata": {},
     "output_type": "execute_result"
    }
   ],
   "source": [
    "x[0]"
   ]
  },
  {
   "cell_type": "code",
   "execution_count": 402,
   "metadata": {},
   "outputs": [
    {
     "data": {
      "text/plain": [
       "'d'"
      ]
     },
     "execution_count": 402,
     "metadata": {},
     "output_type": "execute_result"
    }
   ],
   "source": [
    "x[-1]"
   ]
  },
  {
   "cell_type": "code",
   "execution_count": 404,
   "metadata": {},
   "outputs": [
    {
     "data": {
      "text/plain": [
       "'or'"
      ]
     },
     "execution_count": 404,
     "metadata": {},
     "output_type": "execute_result"
    }
   ],
   "source": [
    "x[0+1:-1]"
   ]
  },
  {
   "cell_type": "code",
   "execution_count": null,
   "metadata": {},
   "outputs": [],
   "source": []
  },
  {
   "cell_type": "code",
   "execution_count": 424,
   "metadata": {},
   "outputs": [],
   "source": [
    "dict_bigram_normalize = dict(zip(df_test[0], df_test[2]))"
   ]
  },
  {
   "cell_type": "code",
   "execution_count": 425,
   "metadata": {},
   "outputs": [],
   "source": [
    "df_bigram['L1_NORM'] = df_bigram['L1'].apply(lambda x: dict_bigram_normalize.get(x, x))"
   ]
  },
  {
   "cell_type": "code",
   "execution_count": 426,
   "metadata": {},
   "outputs": [],
   "source": [
    "df_bigram['L2_NORM'] = df_bigram['L2'].apply(lambda x: dict_bigram_normalize.get(x, x))"
   ]
  },
  {
   "cell_type": "code",
   "execution_count": 427,
   "metadata": {},
   "outputs": [
    {
     "data": {
      "text/html": [
       "<div>\n",
       "<style scoped>\n",
       "    .dataframe tbody tr th:only-of-type {\n",
       "        vertical-align: middle;\n",
       "    }\n",
       "\n",
       "    .dataframe tbody tr th {\n",
       "        vertical-align: top;\n",
       "    }\n",
       "\n",
       "    .dataframe thead th {\n",
       "        text-align: right;\n",
       "    }\n",
       "</style>\n",
       "<table border=\"1\" class=\"dataframe\">\n",
       "  <thead>\n",
       "    <tr style=\"text-align: right;\">\n",
       "      <th></th>\n",
       "      <th>left_index</th>\n",
       "      <th>left_side</th>\n",
       "      <th>similarity</th>\n",
       "      <th>right_side</th>\n",
       "      <th>right_index</th>\n",
       "      <th>L1</th>\n",
       "      <th>L2</th>\n",
       "      <th>R1</th>\n",
       "      <th>R2</th>\n",
       "      <th>L1_R1</th>\n",
       "      <th>L2_R2</th>\n",
       "      <th>MEAN_TOKEN_SIM</th>\n",
       "      <th>L1_NORM</th>\n",
       "      <th>L2_NORM</th>\n",
       "    </tr>\n",
       "  </thead>\n",
       "  <tbody>\n",
       "    <tr>\n",
       "      <th>0</th>\n",
       "      <td>16143</td>\n",
       "      <td>والحمد لله</td>\n",
       "      <td>0.972541</td>\n",
       "      <td>الحمد لله</td>\n",
       "      <td>3</td>\n",
       "      <td>والحمد</td>\n",
       "      <td>لله</td>\n",
       "      <td>الحمد</td>\n",
       "      <td>لله</td>\n",
       "      <td>0.966295</td>\n",
       "      <td>1.000000</td>\n",
       "      <td>0.983147</td>\n",
       "      <td>والحمد</td>\n",
       "      <td>الله</td>\n",
       "    </tr>\n",
       "    <tr>\n",
       "      <th>1</th>\n",
       "      <td>54584</td>\n",
       "      <td>والحمد لله</td>\n",
       "      <td>0.972541</td>\n",
       "      <td>الحمد لله</td>\n",
       "      <td>3</td>\n",
       "      <td>والحمد</td>\n",
       "      <td>لله</td>\n",
       "      <td>الحمد</td>\n",
       "      <td>لله</td>\n",
       "      <td>0.966295</td>\n",
       "      <td>1.000000</td>\n",
       "      <td>0.983147</td>\n",
       "      <td>والحمد</td>\n",
       "      <td>الله</td>\n",
       "    </tr>\n",
       "    <tr>\n",
       "      <th>2</th>\n",
       "      <td>68410</td>\n",
       "      <td>بيوم الدين</td>\n",
       "      <td>0.890154</td>\n",
       "      <td>يوم الدين</td>\n",
       "      <td>8</td>\n",
       "      <td>بيوم</td>\n",
       "      <td>الدين</td>\n",
       "      <td>يوم</td>\n",
       "      <td>الدين</td>\n",
       "      <td>0.563122</td>\n",
       "      <td>1.000000</td>\n",
       "      <td>0.781561</td>\n",
       "      <td>يوم</td>\n",
       "      <td>للدين</td>\n",
       "    </tr>\n",
       "    <tr>\n",
       "      <th>3</th>\n",
       "      <td>69304</td>\n",
       "      <td>بيوم الدين</td>\n",
       "      <td>0.890154</td>\n",
       "      <td>يوم الدين</td>\n",
       "      <td>8</td>\n",
       "      <td>بيوم</td>\n",
       "      <td>الدين</td>\n",
       "      <td>يوم</td>\n",
       "      <td>الدين</td>\n",
       "      <td>0.563122</td>\n",
       "      <td>1.000000</td>\n",
       "      <td>0.781561</td>\n",
       "      <td>يوم</td>\n",
       "      <td>للدين</td>\n",
       "    </tr>\n",
       "    <tr>\n",
       "      <th>4</th>\n",
       "      <td>70338</td>\n",
       "      <td>بيوم الدين</td>\n",
       "      <td>0.890154</td>\n",
       "      <td>يوم الدين</td>\n",
       "      <td>8</td>\n",
       "      <td>بيوم</td>\n",
       "      <td>الدين</td>\n",
       "      <td>يوم</td>\n",
       "      <td>الدين</td>\n",
       "      <td>0.563122</td>\n",
       "      <td>1.000000</td>\n",
       "      <td>0.781561</td>\n",
       "      <td>يوم</td>\n",
       "      <td>للدين</td>\n",
       "    </tr>\n",
       "    <tr>\n",
       "      <th>...</th>\n",
       "      <td>...</td>\n",
       "      <td>...</td>\n",
       "      <td>...</td>\n",
       "      <td>...</td>\n",
       "      <td>...</td>\n",
       "      <td>...</td>\n",
       "      <td>...</td>\n",
       "      <td>...</td>\n",
       "      <td>...</td>\n",
       "      <td>...</td>\n",
       "      <td>...</td>\n",
       "      <td>...</td>\n",
       "      <td>...</td>\n",
       "      <td>...</td>\n",
       "    </tr>\n",
       "    <tr>\n",
       "      <th>93253</th>\n",
       "      <td>57432</td>\n",
       "      <td>أغنى عنهم</td>\n",
       "      <td>0.969627</td>\n",
       "      <td>أغنى عنه</td>\n",
       "      <td>71505</td>\n",
       "      <td>أغنى</td>\n",
       "      <td>عنهم</td>\n",
       "      <td>أغنى</td>\n",
       "      <td>عنه</td>\n",
       "      <td>1.000000</td>\n",
       "      <td>0.803512</td>\n",
       "      <td>0.901756</td>\n",
       "      <td>أغنى</td>\n",
       "      <td>لهم</td>\n",
       "    </tr>\n",
       "    <tr>\n",
       "      <th>93254</th>\n",
       "      <td>60944</td>\n",
       "      <td>أغنى عنهم</td>\n",
       "      <td>0.969627</td>\n",
       "      <td>أغنى عنه</td>\n",
       "      <td>71505</td>\n",
       "      <td>أغنى</td>\n",
       "      <td>عنهم</td>\n",
       "      <td>أغنى</td>\n",
       "      <td>عنه</td>\n",
       "      <td>1.000000</td>\n",
       "      <td>0.803512</td>\n",
       "      <td>0.901756</td>\n",
       "      <td>أغنى</td>\n",
       "      <td>لهم</td>\n",
       "    </tr>\n",
       "    <tr>\n",
       "      <th>93255</th>\n",
       "      <td>68766</td>\n",
       "      <td>الله أحدا</td>\n",
       "      <td>0.876161</td>\n",
       "      <td>الله أحد</td>\n",
       "      <td>71520</td>\n",
       "      <td>الله</td>\n",
       "      <td>أحدا</td>\n",
       "      <td>الله</td>\n",
       "      <td>أحد</td>\n",
       "      <td>1.000000</td>\n",
       "      <td>0.679115</td>\n",
       "      <td>0.839558</td>\n",
       "      <td>الله</td>\n",
       "      <td>أحدا</td>\n",
       "    </tr>\n",
       "    <tr>\n",
       "      <th>93256</th>\n",
       "      <td>68864</td>\n",
       "      <td>الله أحدا</td>\n",
       "      <td>0.876161</td>\n",
       "      <td>الله أحد</td>\n",
       "      <td>71520</td>\n",
       "      <td>الله</td>\n",
       "      <td>أحدا</td>\n",
       "      <td>الله</td>\n",
       "      <td>أحد</td>\n",
       "      <td>1.000000</td>\n",
       "      <td>0.679115</td>\n",
       "      <td>0.839558</td>\n",
       "      <td>الله</td>\n",
       "      <td>أحدا</td>\n",
       "    </tr>\n",
       "    <tr>\n",
       "      <th>93257</th>\n",
       "      <td>45384</td>\n",
       "      <td>أولم يكن</td>\n",
       "      <td>0.935514</td>\n",
       "      <td>ولم يكن</td>\n",
       "      <td>71525</td>\n",
       "      <td>أولم</td>\n",
       "      <td>يكن</td>\n",
       "      <td>ولم</td>\n",
       "      <td>يكن</td>\n",
       "      <td>0.809839</td>\n",
       "      <td>1.000000</td>\n",
       "      <td>0.904919</td>\n",
       "      <td>أولم</td>\n",
       "      <td>يكن</td>\n",
       "    </tr>\n",
       "  </tbody>\n",
       "</table>\n",
       "<p>93258 rows × 14 columns</p>\n",
       "</div>"
      ],
      "text/plain": [
       "       left_index   left_side  similarity right_side  right_index      L1  \\\n",
       "0           16143  والحمد لله    0.972541  الحمد لله            3  والحمد   \n",
       "1           54584  والحمد لله    0.972541  الحمد لله            3  والحمد   \n",
       "2           68410  بيوم الدين    0.890154  يوم الدين            8    بيوم   \n",
       "3           69304  بيوم الدين    0.890154  يوم الدين            8    بيوم   \n",
       "4           70338  بيوم الدين    0.890154  يوم الدين            8    بيوم   \n",
       "...           ...         ...         ...        ...          ...     ...   \n",
       "93253       57432   أغنى عنهم    0.969627   أغنى عنه        71505    أغنى   \n",
       "93254       60944   أغنى عنهم    0.969627   أغنى عنه        71505    أغنى   \n",
       "93255       68766   الله أحدا    0.876161   الله أحد        71520    الله   \n",
       "93256       68864   الله أحدا    0.876161   الله أحد        71520    الله   \n",
       "93257       45384    أولم يكن    0.935514    ولم يكن        71525    أولم   \n",
       "\n",
       "          L2     R1     R2     L1_R1     L2_R2  MEAN_TOKEN_SIM L1_NORM L2_NORM  \n",
       "0        لله  الحمد    لله  0.966295  1.000000        0.983147  والحمد    الله  \n",
       "1        لله  الحمد    لله  0.966295  1.000000        0.983147  والحمد    الله  \n",
       "2      الدين    يوم  الدين  0.563122  1.000000        0.781561     يوم   للدين  \n",
       "3      الدين    يوم  الدين  0.563122  1.000000        0.781561     يوم   للدين  \n",
       "4      الدين    يوم  الدين  0.563122  1.000000        0.781561     يوم   للدين  \n",
       "...      ...    ...    ...       ...       ...             ...     ...     ...  \n",
       "93253   عنهم   أغنى    عنه  1.000000  0.803512        0.901756    أغنى     لهم  \n",
       "93254   عنهم   أغنى    عنه  1.000000  0.803512        0.901756    أغنى     لهم  \n",
       "93255   أحدا   الله    أحد  1.000000  0.679115        0.839558    الله    أحدا  \n",
       "93256   أحدا   الله    أحد  1.000000  0.679115        0.839558    الله    أحدا  \n",
       "93257    يكن    ولم    يكن  0.809839  1.000000        0.904919    أولم     يكن  \n",
       "\n",
       "[93258 rows x 14 columns]"
      ]
     },
     "execution_count": 427,
     "metadata": {},
     "output_type": "execute_result"
    }
   ],
   "source": [
    "df_bigram"
   ]
  },
  {
   "cell_type": "code",
   "execution_count": 443,
   "metadata": {},
   "outputs": [],
   "source": [
    "df_bigram['BIAGRAM_NORM'] = df_bigram.apply(lambda x: f\"\"\"{x['L1_NORM']} {x[\"L2_NORM\"]}\"\"\", axis=1)"
   ]
  },
  {
   "cell_type": "code",
   "execution_count": 444,
   "metadata": {},
   "outputs": [],
   "source": [
    "dict_top_200_biagrams_normalized = dict(df_bigram['BIAGRAM_NORM'].value_counts())"
   ]
  },
  {
   "cell_type": "code",
   "execution_count": 445,
   "metadata": {},
   "outputs": [],
   "source": [
    "df_top_200_biagrams_normalized = pd.DataFrame(dict_top_200_biagrams_normalized.items())"
   ]
  },
  {
   "cell_type": "code",
   "execution_count": 448,
   "metadata": {},
   "outputs": [
    {
     "data": {
      "text/html": [
       "<div>\n",
       "<style scoped>\n",
       "    .dataframe tbody tr th:only-of-type {\n",
       "        vertical-align: middle;\n",
       "    }\n",
       "\n",
       "    .dataframe tbody tr th {\n",
       "        vertical-align: top;\n",
       "    }\n",
       "\n",
       "    .dataframe thead th {\n",
       "        text-align: right;\n",
       "    }\n",
       "</style>\n",
       "<table border=\"1\" class=\"dataframe\">\n",
       "  <thead>\n",
       "    <tr style=\"text-align: right;\">\n",
       "      <th></th>\n",
       "      <th>0</th>\n",
       "      <th>1</th>\n",
       "    </tr>\n",
       "  </thead>\n",
       "  <tbody>\n",
       "    <tr>\n",
       "      <th>0</th>\n",
       "      <td>الذين آمنوا</td>\n",
       "      <td>22962</td>\n",
       "    </tr>\n",
       "    <tr>\n",
       "      <th>1</th>\n",
       "      <td>الذين كفروا</td>\n",
       "      <td>10318</td>\n",
       "    </tr>\n",
       "    <tr>\n",
       "      <th>2</th>\n",
       "      <td>على الله</td>\n",
       "      <td>2376</td>\n",
       "    </tr>\n",
       "    <tr>\n",
       "      <th>3</th>\n",
       "      <td>واتقوا الله</td>\n",
       "      <td>1788</td>\n",
       "    </tr>\n",
       "    <tr>\n",
       "      <th>4</th>\n",
       "      <td>الله الذي</td>\n",
       "      <td>1756</td>\n",
       "    </tr>\n",
       "    <tr>\n",
       "      <th>...</th>\n",
       "      <td>...</td>\n",
       "      <td>...</td>\n",
       "    </tr>\n",
       "    <tr>\n",
       "      <th>198</th>\n",
       "      <td>الله وهو</td>\n",
       "      <td>42</td>\n",
       "    </tr>\n",
       "    <tr>\n",
       "      <th>199</th>\n",
       "      <td>ذكر الله</td>\n",
       "      <td>42</td>\n",
       "    </tr>\n",
       "    <tr>\n",
       "      <th>200</th>\n",
       "      <td>وما نصيرا</td>\n",
       "      <td>42</td>\n",
       "    </tr>\n",
       "    <tr>\n",
       "      <th>201</th>\n",
       "      <td>وما تتبع</td>\n",
       "      <td>42</td>\n",
       "    </tr>\n",
       "    <tr>\n",
       "      <th>202</th>\n",
       "      <td>وما نصير</td>\n",
       "      <td>42</td>\n",
       "    </tr>\n",
       "  </tbody>\n",
       "</table>\n",
       "<p>203 rows × 2 columns</p>\n",
       "</div>"
      ],
      "text/plain": [
       "               0      1\n",
       "0    الذين آمنوا  22962\n",
       "1    الذين كفروا  10318\n",
       "2       على الله   2376\n",
       "3    واتقوا الله   1788\n",
       "4      الله الذي   1756\n",
       "..           ...    ...\n",
       "198     الله وهو     42\n",
       "199     ذكر الله     42\n",
       "200    وما نصيرا     42\n",
       "201     وما تتبع     42\n",
       "202     وما نصير     42\n",
       "\n",
       "[203 rows x 2 columns]"
      ]
     },
     "execution_count": 448,
     "metadata": {},
     "output_type": "execute_result"
    }
   ],
   "source": [
    "df_top_200_biagrams_normalized[df_top_200_biagrams_normalized[1]>=42]"
   ]
  },
  {
   "cell_type": "code",
   "execution_count": 450,
   "metadata": {},
   "outputs": [],
   "source": [
    "#df_top_200_biagrams_normalized.to_pickle(F'{\"df_top_200_biagrams_normalized\".upper()}.pkl', protocol=4)"
   ]
  },
  {
   "cell_type": "code",
   "execution_count": 457,
   "metadata": {},
   "outputs": [],
   "source": [
    "#df_bigram.to_pickle('df_bigram.pkl', protocol=4)"
   ]
  },
  {
   "cell_type": "code",
   "execution_count": 458,
   "metadata": {},
   "outputs": [],
   "source": [
    "#df_bigram_beta.to_pickle('df_bigram_beta.pkl', protocol=4)"
   ]
  },
  {
   "cell_type": "code",
   "execution_count": 459,
   "metadata": {},
   "outputs": [],
   "source": [
    "#df_test.to_pickle('NORMALIZED_WORDS_DF.pkl', protocol=4)"
   ]
  },
  {
   "cell_type": "code",
   "execution_count": 460,
   "metadata": {},
   "outputs": [
    {
     "data": {
      "text/html": [
       "<div>\n",
       "<style scoped>\n",
       "    .dataframe tbody tr th:only-of-type {\n",
       "        vertical-align: middle;\n",
       "    }\n",
       "\n",
       "    .dataframe tbody tr th {\n",
       "        vertical-align: top;\n",
       "    }\n",
       "\n",
       "    .dataframe thead th {\n",
       "        text-align: right;\n",
       "    }\n",
       "</style>\n",
       "<table border=\"1\" class=\"dataframe\">\n",
       "  <thead>\n",
       "    <tr style=\"text-align: right;\">\n",
       "      <th></th>\n",
       "      <th>left_index</th>\n",
       "      <th>left_side</th>\n",
       "      <th>similarity</th>\n",
       "      <th>right_side</th>\n",
       "      <th>right_index</th>\n",
       "      <th>L1</th>\n",
       "      <th>L2</th>\n",
       "      <th>R1</th>\n",
       "      <th>R2</th>\n",
       "      <th>L1_R1</th>\n",
       "      <th>L2_R2</th>\n",
       "      <th>MEAN_TOKEN_SIM</th>\n",
       "      <th>L1_NORM</th>\n",
       "      <th>L2_NORM</th>\n",
       "      <th>BIAGRAM_NORM</th>\n",
       "    </tr>\n",
       "  </thead>\n",
       "  <tbody>\n",
       "    <tr>\n",
       "      <th>0</th>\n",
       "      <td>16143</td>\n",
       "      <td>والحمد لله</td>\n",
       "      <td>0.972541</td>\n",
       "      <td>الحمد لله</td>\n",
       "      <td>3</td>\n",
       "      <td>والحمد</td>\n",
       "      <td>لله</td>\n",
       "      <td>الحمد</td>\n",
       "      <td>لله</td>\n",
       "      <td>0.966295</td>\n",
       "      <td>1.000000</td>\n",
       "      <td>0.983147</td>\n",
       "      <td>والحمد</td>\n",
       "      <td>الله</td>\n",
       "      <td>والحمد الله</td>\n",
       "    </tr>\n",
       "    <tr>\n",
       "      <th>1</th>\n",
       "      <td>54584</td>\n",
       "      <td>والحمد لله</td>\n",
       "      <td>0.972541</td>\n",
       "      <td>الحمد لله</td>\n",
       "      <td>3</td>\n",
       "      <td>والحمد</td>\n",
       "      <td>لله</td>\n",
       "      <td>الحمد</td>\n",
       "      <td>لله</td>\n",
       "      <td>0.966295</td>\n",
       "      <td>1.000000</td>\n",
       "      <td>0.983147</td>\n",
       "      <td>والحمد</td>\n",
       "      <td>الله</td>\n",
       "      <td>والحمد الله</td>\n",
       "    </tr>\n",
       "    <tr>\n",
       "      <th>2</th>\n",
       "      <td>68410</td>\n",
       "      <td>بيوم الدين</td>\n",
       "      <td>0.890154</td>\n",
       "      <td>يوم الدين</td>\n",
       "      <td>8</td>\n",
       "      <td>بيوم</td>\n",
       "      <td>الدين</td>\n",
       "      <td>يوم</td>\n",
       "      <td>الدين</td>\n",
       "      <td>0.563122</td>\n",
       "      <td>1.000000</td>\n",
       "      <td>0.781561</td>\n",
       "      <td>يوم</td>\n",
       "      <td>للدين</td>\n",
       "      <td>يوم للدين</td>\n",
       "    </tr>\n",
       "    <tr>\n",
       "      <th>3</th>\n",
       "      <td>69304</td>\n",
       "      <td>بيوم الدين</td>\n",
       "      <td>0.890154</td>\n",
       "      <td>يوم الدين</td>\n",
       "      <td>8</td>\n",
       "      <td>بيوم</td>\n",
       "      <td>الدين</td>\n",
       "      <td>يوم</td>\n",
       "      <td>الدين</td>\n",
       "      <td>0.563122</td>\n",
       "      <td>1.000000</td>\n",
       "      <td>0.781561</td>\n",
       "      <td>يوم</td>\n",
       "      <td>للدين</td>\n",
       "      <td>يوم للدين</td>\n",
       "    </tr>\n",
       "    <tr>\n",
       "      <th>4</th>\n",
       "      <td>70338</td>\n",
       "      <td>بيوم الدين</td>\n",
       "      <td>0.890154</td>\n",
       "      <td>يوم الدين</td>\n",
       "      <td>8</td>\n",
       "      <td>بيوم</td>\n",
       "      <td>الدين</td>\n",
       "      <td>يوم</td>\n",
       "      <td>الدين</td>\n",
       "      <td>0.563122</td>\n",
       "      <td>1.000000</td>\n",
       "      <td>0.781561</td>\n",
       "      <td>يوم</td>\n",
       "      <td>للدين</td>\n",
       "      <td>يوم للدين</td>\n",
       "    </tr>\n",
       "    <tr>\n",
       "      <th>...</th>\n",
       "      <td>...</td>\n",
       "      <td>...</td>\n",
       "      <td>...</td>\n",
       "      <td>...</td>\n",
       "      <td>...</td>\n",
       "      <td>...</td>\n",
       "      <td>...</td>\n",
       "      <td>...</td>\n",
       "      <td>...</td>\n",
       "      <td>...</td>\n",
       "      <td>...</td>\n",
       "      <td>...</td>\n",
       "      <td>...</td>\n",
       "      <td>...</td>\n",
       "      <td>...</td>\n",
       "    </tr>\n",
       "    <tr>\n",
       "      <th>93253</th>\n",
       "      <td>57432</td>\n",
       "      <td>أغنى عنهم</td>\n",
       "      <td>0.969627</td>\n",
       "      <td>أغنى عنه</td>\n",
       "      <td>71505</td>\n",
       "      <td>أغنى</td>\n",
       "      <td>عنهم</td>\n",
       "      <td>أغنى</td>\n",
       "      <td>عنه</td>\n",
       "      <td>1.000000</td>\n",
       "      <td>0.803512</td>\n",
       "      <td>0.901756</td>\n",
       "      <td>أغنى</td>\n",
       "      <td>لهم</td>\n",
       "      <td>أغنى لهم</td>\n",
       "    </tr>\n",
       "    <tr>\n",
       "      <th>93254</th>\n",
       "      <td>60944</td>\n",
       "      <td>أغنى عنهم</td>\n",
       "      <td>0.969627</td>\n",
       "      <td>أغنى عنه</td>\n",
       "      <td>71505</td>\n",
       "      <td>أغنى</td>\n",
       "      <td>عنهم</td>\n",
       "      <td>أغنى</td>\n",
       "      <td>عنه</td>\n",
       "      <td>1.000000</td>\n",
       "      <td>0.803512</td>\n",
       "      <td>0.901756</td>\n",
       "      <td>أغنى</td>\n",
       "      <td>لهم</td>\n",
       "      <td>أغنى لهم</td>\n",
       "    </tr>\n",
       "    <tr>\n",
       "      <th>93255</th>\n",
       "      <td>68766</td>\n",
       "      <td>الله أحدا</td>\n",
       "      <td>0.876161</td>\n",
       "      <td>الله أحد</td>\n",
       "      <td>71520</td>\n",
       "      <td>الله</td>\n",
       "      <td>أحدا</td>\n",
       "      <td>الله</td>\n",
       "      <td>أحد</td>\n",
       "      <td>1.000000</td>\n",
       "      <td>0.679115</td>\n",
       "      <td>0.839558</td>\n",
       "      <td>الله</td>\n",
       "      <td>أحدا</td>\n",
       "      <td>الله أحدا</td>\n",
       "    </tr>\n",
       "    <tr>\n",
       "      <th>93256</th>\n",
       "      <td>68864</td>\n",
       "      <td>الله أحدا</td>\n",
       "      <td>0.876161</td>\n",
       "      <td>الله أحد</td>\n",
       "      <td>71520</td>\n",
       "      <td>الله</td>\n",
       "      <td>أحدا</td>\n",
       "      <td>الله</td>\n",
       "      <td>أحد</td>\n",
       "      <td>1.000000</td>\n",
       "      <td>0.679115</td>\n",
       "      <td>0.839558</td>\n",
       "      <td>الله</td>\n",
       "      <td>أحدا</td>\n",
       "      <td>الله أحدا</td>\n",
       "    </tr>\n",
       "    <tr>\n",
       "      <th>93257</th>\n",
       "      <td>45384</td>\n",
       "      <td>أولم يكن</td>\n",
       "      <td>0.935514</td>\n",
       "      <td>ولم يكن</td>\n",
       "      <td>71525</td>\n",
       "      <td>أولم</td>\n",
       "      <td>يكن</td>\n",
       "      <td>ولم</td>\n",
       "      <td>يكن</td>\n",
       "      <td>0.809839</td>\n",
       "      <td>1.000000</td>\n",
       "      <td>0.904919</td>\n",
       "      <td>أولم</td>\n",
       "      <td>يكن</td>\n",
       "      <td>أولم يكن</td>\n",
       "    </tr>\n",
       "  </tbody>\n",
       "</table>\n",
       "<p>93258 rows × 15 columns</p>\n",
       "</div>"
      ],
      "text/plain": [
       "       left_index   left_side  similarity right_side  right_index      L1  \\\n",
       "0           16143  والحمد لله    0.972541  الحمد لله            3  والحمد   \n",
       "1           54584  والحمد لله    0.972541  الحمد لله            3  والحمد   \n",
       "2           68410  بيوم الدين    0.890154  يوم الدين            8    بيوم   \n",
       "3           69304  بيوم الدين    0.890154  يوم الدين            8    بيوم   \n",
       "4           70338  بيوم الدين    0.890154  يوم الدين            8    بيوم   \n",
       "...           ...         ...         ...        ...          ...     ...   \n",
       "93253       57432   أغنى عنهم    0.969627   أغنى عنه        71505    أغنى   \n",
       "93254       60944   أغنى عنهم    0.969627   أغنى عنه        71505    أغنى   \n",
       "93255       68766   الله أحدا    0.876161   الله أحد        71520    الله   \n",
       "93256       68864   الله أحدا    0.876161   الله أحد        71520    الله   \n",
       "93257       45384    أولم يكن    0.935514    ولم يكن        71525    أولم   \n",
       "\n",
       "          L2     R1     R2     L1_R1     L2_R2  MEAN_TOKEN_SIM L1_NORM  \\\n",
       "0        لله  الحمد    لله  0.966295  1.000000        0.983147  والحمد   \n",
       "1        لله  الحمد    لله  0.966295  1.000000        0.983147  والحمد   \n",
       "2      الدين    يوم  الدين  0.563122  1.000000        0.781561     يوم   \n",
       "3      الدين    يوم  الدين  0.563122  1.000000        0.781561     يوم   \n",
       "4      الدين    يوم  الدين  0.563122  1.000000        0.781561     يوم   \n",
       "...      ...    ...    ...       ...       ...             ...     ...   \n",
       "93253   عنهم   أغنى    عنه  1.000000  0.803512        0.901756    أغنى   \n",
       "93254   عنهم   أغنى    عنه  1.000000  0.803512        0.901756    أغنى   \n",
       "93255   أحدا   الله    أحد  1.000000  0.679115        0.839558    الله   \n",
       "93256   أحدا   الله    أحد  1.000000  0.679115        0.839558    الله   \n",
       "93257    يكن    ولم    يكن  0.809839  1.000000        0.904919    أولم   \n",
       "\n",
       "      L2_NORM BIAGRAM_NORM  \n",
       "0        الله  والحمد الله  \n",
       "1        الله  والحمد الله  \n",
       "2       للدين    يوم للدين  \n",
       "3       للدين    يوم للدين  \n",
       "4       للدين    يوم للدين  \n",
       "...       ...          ...  \n",
       "93253     لهم     أغنى لهم  \n",
       "93254     لهم     أغنى لهم  \n",
       "93255    أحدا    الله أحدا  \n",
       "93256    أحدا    الله أحدا  \n",
       "93257     يكن     أولم يكن  \n",
       "\n",
       "[93258 rows x 15 columns]"
      ]
     },
     "execution_count": 460,
     "metadata": {},
     "output_type": "execute_result"
    }
   ],
   "source": [
    "df_bigram"
   ]
  },
  {
   "cell_type": "code",
   "execution_count": 464,
   "metadata": {},
   "outputs": [
    {
     "data": {
      "text/html": [
       "<div>\n",
       "<style scoped>\n",
       "    .dataframe tbody tr th:only-of-type {\n",
       "        vertical-align: middle;\n",
       "    }\n",
       "\n",
       "    .dataframe tbody tr th {\n",
       "        vertical-align: top;\n",
       "    }\n",
       "\n",
       "    .dataframe thead th {\n",
       "        text-align: right;\n",
       "    }\n",
       "</style>\n",
       "<table border=\"1\" class=\"dataframe\">\n",
       "  <thead>\n",
       "    <tr style=\"text-align: right;\">\n",
       "      <th></th>\n",
       "      <th>0</th>\n",
       "      <th>1</th>\n",
       "    </tr>\n",
       "  </thead>\n",
       "  <tbody>\n",
       "    <tr>\n",
       "      <th>0</th>\n",
       "      <td>الذين آمنوا</td>\n",
       "      <td>22962</td>\n",
       "    </tr>\n",
       "    <tr>\n",
       "      <th>1</th>\n",
       "      <td>الذين كفروا</td>\n",
       "      <td>10318</td>\n",
       "    </tr>\n",
       "    <tr>\n",
       "      <th>2</th>\n",
       "      <td>على الله</td>\n",
       "      <td>2376</td>\n",
       "    </tr>\n",
       "    <tr>\n",
       "      <th>3</th>\n",
       "      <td>واتقوا الله</td>\n",
       "      <td>1788</td>\n",
       "    </tr>\n",
       "    <tr>\n",
       "      <th>4</th>\n",
       "      <td>الله الذي</td>\n",
       "      <td>1756</td>\n",
       "    </tr>\n",
       "    <tr>\n",
       "      <th>...</th>\n",
       "      <td>...</td>\n",
       "      <td>...</td>\n",
       "    </tr>\n",
       "    <tr>\n",
       "      <th>2960</th>\n",
       "      <td>البينات الذي</td>\n",
       "      <td>1</td>\n",
       "    </tr>\n",
       "    <tr>\n",
       "      <th>2961</th>\n",
       "      <td>يرسل عليهم</td>\n",
       "      <td>1</td>\n",
       "    </tr>\n",
       "    <tr>\n",
       "      <th>2962</th>\n",
       "      <td>ولو جئتكم</td>\n",
       "      <td>1</td>\n",
       "    </tr>\n",
       "    <tr>\n",
       "      <th>2963</th>\n",
       "      <td>أرضكم بسحرهما</td>\n",
       "      <td>1</td>\n",
       "    </tr>\n",
       "    <tr>\n",
       "      <th>2964</th>\n",
       "      <td>السبيل منها</td>\n",
       "      <td>1</td>\n",
       "    </tr>\n",
       "  </tbody>\n",
       "</table>\n",
       "<p>2965 rows × 2 columns</p>\n",
       "</div>"
      ],
      "text/plain": [
       "                  0      1\n",
       "0       الذين آمنوا  22962\n",
       "1       الذين كفروا  10318\n",
       "2          على الله   2376\n",
       "3       واتقوا الله   1788\n",
       "4         الله الذي   1756\n",
       "...             ...    ...\n",
       "2960   البينات الذي      1\n",
       "2961     يرسل عليهم      1\n",
       "2962      ولو جئتكم      1\n",
       "2963  أرضكم بسحرهما      1\n",
       "2964    السبيل منها      1\n",
       "\n",
       "[2965 rows x 2 columns]"
      ]
     },
     "execution_count": 464,
     "metadata": {},
     "output_type": "execute_result"
    }
   ],
   "source": [
    "df_top_200_biagrams_normalized[0]"
   ]
  },
  {
   "cell_type": "code",
   "execution_count": null,
   "metadata": {},
   "outputs": [],
   "source": []
  }
 ],
 "metadata": {
  "kernelspec": {
   "display_name": "string_similarity",
   "language": "python",
   "name": "string_similarity"
  },
  "language_info": {
   "codemirror_mode": {
    "name": "ipython",
    "version": 3
   },
   "file_extension": ".py",
   "mimetype": "text/x-python",
   "name": "python",
   "nbconvert_exporter": "python",
   "pygments_lexer": "ipython3",
   "version": "3.8.7"
  }
 },
 "nbformat": 4,
 "nbformat_minor": 4
}
