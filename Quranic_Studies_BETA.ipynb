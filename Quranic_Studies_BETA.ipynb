{
 "cells": [
  {
   "cell_type": "markdown",
   "id": "3a3e7632-948f-4228-854e-74b22d8eaf51",
   "metadata": {},
   "source": [
    "# THIS FIRST PART OF THIS NOTEBOOK IS MY WORK; IT'S GOOD BUT INCOMPLETE;\n",
    "# Algorithm Interviews Questions deal with this kind of problems a lot;\n",
    "# It's called Sliding Window Problem"
   ]
  },
  {
   "cell_type": "code",
   "execution_count": 1,
   "id": "bf730224-532a-4854-b0d1-0fc5470f4986",
   "metadata": {},
   "outputs": [],
   "source": [
    "import regex as re"
   ]
  },
  {
   "cell_type": "code",
   "execution_count": 2,
   "id": "5301b6d5-0dbe-45dc-be02-e3a375a3bc14",
   "metadata": {},
   "outputs": [],
   "source": [
    "import pandas as pd"
   ]
  },
  {
   "cell_type": "code",
   "execution_count": 3,
   "id": "b79abd36-4180-4370-bd8a-0bcc66d0913a",
   "metadata": {},
   "outputs": [],
   "source": [
    "import os"
   ]
  },
  {
   "cell_type": "code",
   "execution_count": 4,
   "id": "5da23a7c-8097-4227-baaa-5264753b5a40",
   "metadata": {},
   "outputs": [],
   "source": [
    "from itertools import chain"
   ]
  },
  {
   "cell_type": "code",
   "execution_count": 5,
   "id": "d5ab0c74-4fe2-42b2-8f45-57bfe422401d",
   "metadata": {},
   "outputs": [],
   "source": [
    "from collections import Counter"
   ]
  },
  {
   "cell_type": "code",
   "execution_count": null,
   "id": "c52f507d-1dec-4125-a7ca-6be66c532d08",
   "metadata": {},
   "outputs": [],
   "source": []
  },
  {
   "cell_type": "code",
   "execution_count": 6,
   "id": "12b466ab-2c33-41f2-899d-46004a2b1a8a",
   "metadata": {},
   "outputs": [],
   "source": [
    "with open('Quran_Aya_Per_Line.txt', encoding='utf-8') as f:\n",
    "    chars = [i.strip() for i in set(f.read()) if i]\n",
    "    chars = set(i for i in chars if i)"
   ]
  },
  {
   "cell_type": "code",
   "execution_count": 7,
   "id": "3986eac9-8520-44f1-8336-2d2dffd1ce17",
   "metadata": {},
   "outputs": [],
   "source": [
    "from itertools import permutations"
   ]
  },
  {
   "cell_type": "code",
   "execution_count": null,
   "id": "d447e8b7-e150-4f9f-926f-90c50f90e634",
   "metadata": {},
   "outputs": [],
   "source": []
  },
  {
   "cell_type": "code",
   "execution_count": 8,
   "id": "42057aca-9562-49a1-b07c-a628a19b8d83",
   "metadata": {},
   "outputs": [],
   "source": [
    "test_01 = list(range(1,5))"
   ]
  },
  {
   "cell_type": "code",
   "execution_count": 9,
   "id": "49d60062-a9b3-45c5-a311-a9d00d5c2ec1",
   "metadata": {},
   "outputs": [
    {
     "data": {
      "text/plain": [
       "4"
      ]
     },
     "execution_count": 9,
     "metadata": {},
     "output_type": "execute_result"
    }
   ],
   "source": [
    "len(test_01)"
   ]
  },
  {
   "cell_type": "code",
   "execution_count": 10,
   "id": "93d2c98e-deec-4046-bc6c-2e3dcb881388",
   "metadata": {},
   "outputs": [],
   "source": [
    "test_02 = set(permutations(test_01, 3))"
   ]
  },
  {
   "cell_type": "code",
   "execution_count": 11,
   "id": "3c59d20a-8988-487d-af69-2835c5e6d61a",
   "metadata": {},
   "outputs": [
    {
     "data": {
      "text/plain": [
       "24"
      ]
     },
     "execution_count": 11,
     "metadata": {},
     "output_type": "execute_result"
    }
   ],
   "source": [
    "len(test_02)"
   ]
  },
  {
   "cell_type": "code",
   "execution_count": 12,
   "id": "05bc33ad-2ac8-471e-9afc-fdfdf540a123",
   "metadata": {},
   "outputs": [],
   "source": [
    "test_02.update([(1,4,2), (1,3,3)])"
   ]
  },
  {
   "cell_type": "code",
   "execution_count": 13,
   "id": "04badfbd-817b-431b-9b95-3d8dc1a2da69",
   "metadata": {},
   "outputs": [
    {
     "data": {
      "text/plain": [
       "25"
      ]
     },
     "execution_count": 13,
     "metadata": {},
     "output_type": "execute_result"
    }
   ],
   "source": [
    "len(test_02)"
   ]
  },
  {
   "cell_type": "code",
   "execution_count": null,
   "id": "ab32a7dc-332c-46b4-95c0-207a9cc594fd",
   "metadata": {},
   "outputs": [],
   "source": []
  },
  {
   "cell_type": "code",
   "execution_count": 14,
   "id": "11725a75-7a1a-490d-82e4-4b16f8163da8",
   "metadata": {},
   "outputs": [],
   "source": [
    "possible_tri_ar_chars = set(permutations(chars, 3))"
   ]
  },
  {
   "cell_type": "code",
   "execution_count": 15,
   "id": "6ffc8aad-f5f9-474a-8bb2-363130d4c2ed",
   "metadata": {},
   "outputs": [
    {
     "data": {
      "text/plain": [
       "42840"
      ]
     },
     "execution_count": 15,
     "metadata": {},
     "output_type": "execute_result"
    }
   ],
   "source": [
    "len(possible_tri_ar_chars)"
   ]
  },
  {
   "cell_type": "code",
   "execution_count": 16,
   "id": "f9310044-cfd4-4fd6-b0b6-fb9c70327930",
   "metadata": {},
   "outputs": [],
   "source": [
    "set_possible_tri_ar_chars = set(\"\".join(i) for  i in possible_tri_ar_chars)"
   ]
  },
  {
   "cell_type": "code",
   "execution_count": 17,
   "id": "3c3448a3-c9f4-4952-b6ae-28152d5f45f1",
   "metadata": {},
   "outputs": [],
   "source": [
    "with open('Quran_Aya_Per_Line.txt', encoding='utf-8') as f:\n",
    "    lines = [line.strip() for line in f.readlines()]\n",
    "    words = set(chain(*[[word for word in line.split()] for line in lines]))"
   ]
  },
  {
   "cell_type": "code",
   "execution_count": null,
   "id": "de1d87eb-f5e3-4803-b4f5-91f96ab77dd8",
   "metadata": {},
   "outputs": [],
   "source": []
  },
  {
   "cell_type": "code",
   "execution_count": null,
   "id": "e001a81c-70d2-4d5c-b01d-aa6375570c4e",
   "metadata": {},
   "outputs": [],
   "source": []
  },
  {
   "cell_type": "code",
   "execution_count": 31,
   "id": "88e9d6f5-8751-498f-9c5a-7493e03d01c6",
   "metadata": {},
   "outputs": [],
   "source": [
    "df_words = pd.DataFrame(data={'WORDS': list(words)})"
   ]
  },
  {
   "cell_type": "code",
   "execution_count": null,
   "id": "d6c56fb2-fa63-46fe-b1fc-c0469ab969af",
   "metadata": {},
   "outputs": [],
   "source": []
  },
  {
   "cell_type": "code",
   "execution_count": 32,
   "id": "4e36c1ce-56d5-4daf-a0ca-4984aafdc19f",
   "metadata": {},
   "outputs": [],
   "source": [
    "def ncsub(seq, s=0):\n",
    "    if seq:\n",
    "        x = seq[:1]\n",
    "        xs = seq[1:]\n",
    "        p2 = s % 2\n",
    "        p1 = not p2\n",
    "        return [x + ys for ys in ncsub(xs, s + p1)] + ncsub(xs, s + p2)\n",
    "    else:\n",
    "        return [[]] if s >= 3 else []"
   ]
  },
  {
   "cell_type": "code",
   "execution_count": null,
   "id": "c1a806ad-ec51-47b4-8ff6-ac5f4d20a9a1",
   "metadata": {},
   "outputs": [],
   "source": []
  },
  {
   "cell_type": "code",
   "execution_count": 33,
   "id": "5534b5bb-0656-403a-8ae9-b68a202a0329",
   "metadata": {},
   "outputs": [],
   "source": [
    "df_words['SL_WIN'] = df_words['WORDS'].apply(lambda x: [''.join(i) for i in ncsub(list(x))])\n",
    "df_words['SL_WIN_ALG_TRI'] = df_words.SL_WIN.apply(lambda x: [i for i in x if len(i)==3])\n",
    "df_words['SL_WIN_ALG_TETRA'] = df_words.SL_WIN.apply(lambda x: [i for i in x if len(i)==4])"
   ]
  },
  {
   "cell_type": "code",
   "execution_count": 34,
   "id": "e0636562-ca98-43ce-9064-82c1c1167e27",
   "metadata": {},
   "outputs": [],
   "source": [
    "df_words = df_words.explode(['SL_WIN_ALG_TRI']).explode([\"SL_WIN_ALG_TETRA\"]).reset_index(drop=True)"
   ]
  },
  {
   "cell_type": "code",
   "execution_count": 26,
   "id": "f99de511-a8f9-489c-a88d-493c65094e41",
   "metadata": {},
   "outputs": [],
   "source": [
    "df_words_grps = df_words.groupby(\"SL_WIN_ALG_TRI \tSL_WIN_ALG_TETRA\".split(), as_index=False).agg({\n",
    "'WORDS' : lambda x: x.tolist()\n",
    "})"
   ]
  },
  {
   "cell_type": "code",
   "execution_count": 29,
   "id": "b14cb49a-34c5-46db-935c-809229892c6a",
   "metadata": {},
   "outputs": [],
   "source": []
  },
  {
   "cell_type": "code",
   "execution_count": 36,
   "id": "22b0149f-87a7-4392-9c35-7aec3e38e041",
   "metadata": {},
   "outputs": [],
   "source": []
  },
  {
   "cell_type": "code",
   "execution_count": 41,
   "id": "630d4ee5-2372-4306-8449-7e6b118f6306",
   "metadata": {},
   "outputs": [],
   "source": [
    "df_words_grps.WORDS = df_words_grps['WORDS'].apply(lambda x: list(set(x)))"
   ]
  },
  {
   "cell_type": "code",
   "execution_count": 42,
   "id": "4125b1c5-8165-496f-9b98-b700b5cbcbb5",
   "metadata": {},
   "outputs": [],
   "source": [
    "df_words_grps['COUNT_OF_WORDS_PER_GRAM_COMB'] = df_words_grps['WORDS'].apply(lambda x: len(x))"
   ]
  },
  {
   "cell_type": "code",
   "execution_count": 43,
   "id": "61e5d6b3-763f-416d-a641-ff735650e7d3",
   "metadata": {},
   "outputs": [],
   "source": [
    "df_words_grps = df_words_grps.sort_values(['COUNT_OF_WORDS_PER_GRAM_COMB'], ascending=False).reset_index(drop=True)"
   ]
  },
  {
   "cell_type": "code",
   "execution_count": 55,
   "id": "02823d07-6190-4089-9e8b-95f047e4513b",
   "metadata": {
    "tags": []
   },
   "outputs": [
    {
     "name": "stdout",
     "output_type": "stream",
     "text": [
      "والأحزاب الأنعام الأنبياء الأحبار الأسماء الأنباء الأقاويل الألواح الأغنياء الأمثال والأرحام بالأسحار والأنعام الأرحام الأخيار الأوليان الأزواج الأقدام الأذقان الأبصار بالأزلام الأوثان والأعناق الأيمان الأصوات بالأبصار وبالأسحار الأحمال الأعداء والأنصار والأحبار البأساء كالأعلام الأعراف الأغلال الأجداث الأنامل بالبأساء الأسباب بالألقاب والأبصار الأشهاد والأولاد الأخلاء الأنهار والأنصاب والأعناب الأرائك الأماني الألباب الأعراب الأحياء الأبواب كالأنعام الأصنام الأدبار والأغلال الأبرار الأصفاد بالأحقاف الأيام الأكمام الأحاديث الأنفال الأموات والأزلام الأمانة الأمانات الأيامى الأعناق الأموال الأشرار الأطفال والأقدام والأسباط الأحلام الأوتاد الأحزاب الأسواق "
     ]
    }
   ],
   "source": [
    "for i in set(chain(*df_words_grps.iloc[214:216]['WORDS'])):\n",
    "    print(i, end=' ')"
   ]
  },
  {
   "cell_type": "code",
   "execution_count": 54,
   "id": "8f254f5c-2cc7-4683-9322-a7e76c3af3c1",
   "metadata": {},
   "outputs": [
    {
     "data": {
      "text/plain": [
       "0          [الأخسرين, غافلين, صالحين, والصابرين, والعاكفي...\n",
       "1          [الأخسرين, غافلين, صالحين, والصابرين, والعاكفي...\n",
       "2          [الأخسرين, غافلين, صالحين, والصابرين, والعاكفي...\n",
       "3          [الأخسرين, صالحين, والصابرين, والعاكفين, المسر...\n",
       "4          [المزن, المسرفين, والغارمين, المهتدين, المستكب...\n",
       "                                 ...                        \n",
       "4509943                                           [وذرياتهم]\n",
       "4509944                                            [وأنبتها]\n",
       "4509945                                           [وأمهاتكم]\n",
       "4509946                                          [والذاكرين]\n",
       "4509947                                             [يحييها]\n",
       "Name: WORDS, Length: 4509948, dtype: object"
      ]
     },
     "execution_count": 54,
     "metadata": {},
     "output_type": "execute_result"
    }
   ],
   "source": [
    "df_words_grps['WORDS']"
   ]
  },
  {
   "cell_type": "code",
   "execution_count": 58,
   "id": "1ee4a715-d5f2-402c-9437-154bb3302af4",
   "metadata": {},
   "outputs": [],
   "source": [
    "#df_words_grps.to_pickle('QURAN_REGEX_CHAR_SEQ_PATTERNS.pkl', protocol=4)"
   ]
  },
  {
   "cell_type": "code",
   "execution_count": 59,
   "id": "7e42d67d-e614-4e7f-8445-c5298bccf3df",
   "metadata": {},
   "outputs": [
    {
     "name": "stdout",
     "output_type": "stream",
     "text": [
      "Copying file://QURAN_REGEX_CHAR_SEQ_PATTERNS.pkl [Content-Type=application/octet-stream]...\n",
      "| [1 files][125.1 MiB/125.1 MiB]                                                \n",
      "Operation completed over 1 objects/125.1 MiB.                                    \n"
     ]
    }
   ],
   "source": [
    "!gsutil cp QURAN_REGEX_CHAR_SEQ_PATTERNS.pkl gs://sheikh-fitzgerald"
   ]
  },
  {
   "cell_type": "code",
   "execution_count": null,
   "id": "1e5ebde5-1e29-4234-8a07-be877686f87b",
   "metadata": {},
   "outputs": [],
   "source": []
  }
 ],
 "metadata": {
  "environment": {
   "kernel": "python3",
   "name": "common-cpu.m93",
   "type": "gcloud",
   "uri": "gcr.io/deeplearning-platform-release/base-cpu:m93"
  },
  "kernelspec": {
   "display_name": "Python 3",
   "language": "python",
   "name": "python3"
  },
  "language_info": {
   "codemirror_mode": {
    "name": "ipython",
    "version": 3
   },
   "file_extension": ".py",
   "mimetype": "text/x-python",
   "name": "python",
   "nbconvert_exporter": "python",
   "pygments_lexer": "ipython3",
   "version": "3.7.12"
  }
 },
 "nbformat": 4,
 "nbformat_minor": 5
}
