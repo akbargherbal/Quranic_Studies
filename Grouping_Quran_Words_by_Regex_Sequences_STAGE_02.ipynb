{
 "cells": [
  {
   "cell_type": "code",
   "execution_count": 1,
   "metadata": {},
   "outputs": [],
   "source": [
    "import pandas as pd\n",
    "\n",
    "from random import randint\n",
    "\n",
    "import regex as re\n",
    "\n",
    "from itertools import chain\n",
    "\n",
    "from random import choice\n",
    "\n",
    "import os"
   ]
  },
  {
   "cell_type": "code",
   "execution_count": 2,
   "metadata": {},
   "outputs": [],
   "source": [
    "df = pd.read_pickle('QURAN_REGEX_CHAR_SEQ_PATTERNS.pkl')"
   ]
  },
  {
   "cell_type": "code",
   "execution_count": 3,
   "metadata": {},
   "outputs": [],
   "source": [
    "def pattern_in_list(list_words, pat_words):\n",
    "    set_01 = set()\n",
    "    list_container = []\n",
    "    for word in list_words:\n",
    "        for pat in pat_words:\n",
    "            if pat in word:\n",
    "                set_01.add(pat)\n",
    "                list_container.append(word)\n",
    "    return set_01"
   ]
  },
  {
   "cell_type": "code",
   "execution_count": 8,
   "metadata": {},
   "outputs": [],
   "source": [
    "def produce_dataset(pd_series='Series_List_Words', pat_words=\"List of Similar Words\"):\n",
    "    '''\n",
    "Pandas Series of Words List from upstream function.\n",
    "Example: ['الخالقين', 'الغافلين', 'الناصحين']\n",
    "'''.strip()\n",
    "    \n",
    "    df = pd.DataFrame(pd_series)\n",
    "    df['PAT_00'] = df['WORDS'].apply(lambda x: pattern_in_list(x, pat_words))\n",
    "    set_pat_00 =  set(chain(*df[df.PAT_00.apply(lambda x: len(x) == len(pat_words))]['WORDS']))\n",
    "    df_pat_00 = pd.DataFrame(data = list(set_pat_00)).rename(columns={0: 'WORD'})\n",
    "    file_output_name = input(\"\"\"\n",
    "Enter Excel File Name to be Saved:\n",
    "    \"\"\".strip())\n",
    "    df_pat_00.to_excel(f'./OUTPUT_DATASETS/{file_output_name}.xlsx', encoding='utf-8', index=False)\n",
    "    return df_pat_00"
   ]
  },
  {
   "cell_type": "code",
   "execution_count": null,
   "metadata": {},
   "outputs": [],
   "source": []
  },
  {
   "cell_type": "code",
   "execution_count": 9,
   "metadata": {},
   "outputs": [],
   "source": [
    "pattern_01 = \"\"\"\n",
    "غافل\n",
    "صالح\n",
    "صابر\n",
    "\"\"\".strip().split()\n",
    "pattern_01 = [pat.strip() for pat in pattern_01]"
   ]
  },
  {
   "cell_type": "code",
   "execution_count": 20,
   "metadata": {},
   "outputs": [],
   "source": [
    "pattern_02 = \"\"\"\n",
    "مستضعف\n",
    "مستكبر\n",
    "\"\"\".strip().split()\n",
    "pattern_02 = [pat.strip() for pat in pattern_02]"
   ]
  },
  {
   "cell_type": "code",
   "execution_count": null,
   "metadata": {},
   "outputs": [],
   "source": []
  },
  {
   "cell_type": "code",
   "execution_count": null,
   "metadata": {},
   "outputs": [],
   "source": []
  },
  {
   "cell_type": "code",
   "execution_count": 21,
   "metadata": {},
   "outputs": [
    {
     "name": "stdin",
     "output_type": "stream",
     "text": [
      "Enter Excel File Name to be Saved: مستضعف\n"
     ]
    },
    {
     "data": {
      "text/html": [
       "<div>\n",
       "<style scoped>\n",
       "    .dataframe tbody tr th:only-of-type {\n",
       "        vertical-align: middle;\n",
       "    }\n",
       "\n",
       "    .dataframe tbody tr th {\n",
       "        vertical-align: top;\n",
       "    }\n",
       "\n",
       "    .dataframe thead th {\n",
       "        text-align: right;\n",
       "    }\n",
       "</style>\n",
       "<table border=\"1\" class=\"dataframe\">\n",
       "  <thead>\n",
       "    <tr style=\"text-align: right;\">\n",
       "      <th></th>\n",
       "      <th>WORD</th>\n",
       "    </tr>\n",
       "  </thead>\n",
       "  <tbody>\n",
       "    <tr>\n",
       "      <th>0</th>\n",
       "      <td>المنزلون</td>\n",
       "    </tr>\n",
       "    <tr>\n",
       "      <th>1</th>\n",
       "      <td>يستبشرون</td>\n",
       "    </tr>\n",
       "    <tr>\n",
       "      <th>2</th>\n",
       "      <td>لتبيننه</td>\n",
       "    </tr>\n",
       "    <tr>\n",
       "      <th>3</th>\n",
       "      <td>الآمنين</td>\n",
       "    </tr>\n",
       "    <tr>\n",
       "      <th>4</th>\n",
       "      <td>المتوكلين</td>\n",
       "    </tr>\n",
       "    <tr>\n",
       "      <th>...</th>\n",
       "      <td>...</td>\n",
       "    </tr>\n",
       "    <tr>\n",
       "      <th>739</th>\n",
       "      <td>المفسدون</td>\n",
       "    </tr>\n",
       "    <tr>\n",
       "      <th>740</th>\n",
       "      <td>تستعجلون</td>\n",
       "    </tr>\n",
       "    <tr>\n",
       "      <th>741</th>\n",
       "      <td>لمسخناهم</td>\n",
       "    </tr>\n",
       "    <tr>\n",
       "      <th>742</th>\n",
       "      <td>مستقيم</td>\n",
       "    </tr>\n",
       "    <tr>\n",
       "      <th>743</th>\n",
       "      <td>الغائبين</td>\n",
       "    </tr>\n",
       "  </tbody>\n",
       "</table>\n",
       "<p>744 rows × 1 columns</p>\n",
       "</div>"
      ],
      "text/plain": [
       "          WORD\n",
       "0     المنزلون\n",
       "1     يستبشرون\n",
       "2      لتبيننه\n",
       "3      الآمنين\n",
       "4    المتوكلين\n",
       "..         ...\n",
       "739   المفسدون\n",
       "740   تستعجلون\n",
       "741   لمسخناهم\n",
       "742     مستقيم\n",
       "743   الغائبين\n",
       "\n",
       "[744 rows x 1 columns]"
      ]
     },
     "execution_count": 21,
     "metadata": {},
     "output_type": "execute_result"
    }
   ],
   "source": [
    "produce_dataset(df.WORDS, pattern_02)"
   ]
  },
  {
   "cell_type": "code",
   "execution_count": null,
   "metadata": {},
   "outputs": [],
   "source": []
  },
  {
   "cell_type": "code",
   "execution_count": null,
   "metadata": {},
   "outputs": [],
   "source": []
  },
  {
   "cell_type": "code",
   "execution_count": null,
   "metadata": {},
   "outputs": [],
   "source": []
  },
  {
   "cell_type": "markdown",
   "metadata": {},
   "source": [
    "# REGEX FOR OTHER WORDS; LIKE AL-TA3REEF!"
   ]
  },
  {
   "cell_type": "code",
   "execution_count": null,
   "metadata": {},
   "outputs": [],
   "source": [
    "with open('../DATASETS/Quran_Aya_Per_Line.txt', encoding='utf-8') as f:\n",
    "    lines = [line.strip() for line in f.readlines()]\n",
    "    q_words = [[word.strip() for word in line.split()] for line in lines]"
   ]
  },
  {
   "cell_type": "code",
   "execution_count": null,
   "metadata": {},
   "outputs": [],
   "source": [
    "q_words[0]"
   ]
  },
  {
   "cell_type": "code",
   "execution_count": null,
   "metadata": {},
   "outputs": [],
   "source": [
    "q_words = set(chain(*(q_words)))\n",
    "q_words_string = ' '.join(q_words)"
   ]
  },
  {
   "cell_type": "markdown",
   "metadata": {},
   "source": [
    "# VERY WIDE CATCH;\n",
    "# Consider working other solution; and filter based on that\n",
    "#  البحر الله قال خالدون"
   ]
  },
  {
   "cell_type": "code",
   "execution_count": null,
   "metadata": {},
   "outputs": [],
   "source": [
    "reg_pat_01 = fr\"\"\"\n",
    "\\b\n",
    "\\S*\n",
    "ال\n",
    "\\S{{3}}\n",
    "\\b\n",
    "\"\"\".split()\n",
    "reg_pat_01 = [token.strip() for token in reg_pat_01]\n",
    "reg_pat_01 = ''.join(reg_pat_01)\n",
    "reg_pat_01 = re.compile(reg_pat_01)"
   ]
  },
  {
   "cell_type": "code",
   "execution_count": null,
   "metadata": {},
   "outputs": [],
   "source": [
    "q_words_string[:100]"
   ]
  },
  {
   "cell_type": "code",
   "execution_count": null,
   "metadata": {},
   "outputs": [],
   "source": [
    "al_ta3reef = re.findall(reg_pat_01, q_words_string)"
   ]
  },
  {
   "cell_type": "code",
   "execution_count": null,
   "metadata": {},
   "outputs": [],
   "source": [
    "len(al_ta3reef)"
   ]
  },
  {
   "cell_type": "code",
   "execution_count": null,
   "metadata": {},
   "outputs": [],
   "source": [
    "al_ta3reef"
   ]
  },
  {
   "cell_type": "code",
   "execution_count": null,
   "metadata": {},
   "outputs": [],
   "source": []
  }
 ],
 "metadata": {
  "kernelspec": {
   "display_name": "Python 3",
   "language": "python",
   "name": "python3"
  },
  "language_info": {
   "codemirror_mode": {
    "name": "ipython",
    "version": 3
   },
   "file_extension": ".py",
   "mimetype": "text/x-python",
   "name": "python",
   "nbconvert_exporter": "python",
   "pygments_lexer": "ipython3",
   "version": "3.8.7"
  }
 },
 "nbformat": 4,
 "nbformat_minor": 4
}
